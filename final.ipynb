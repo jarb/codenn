{
  "cells": [
    {
      "cell_type": "markdown",
      "id": "56d28015",
      "metadata": {
        "id": "56d28015"
      },
      "source": [
        "# TL;DR:\n",
        "* repo https://github.com/JetBrains/intellij-community\n",
        "* parse methods and their names (Java) with https://github.com/tree-sitter/tree-sitter\n",
        "* use base 770m-parameters CodeT5+ for estimate names prediction\n",
        "* measure metrics: CER, BLEU, Accuracy\n",
        "-------"
      ]
    },
    {
      "cell_type": "markdown",
      "id": "d1ebaf6a",
      "metadata": {
        "id": "d1ebaf6a"
      },
      "source": [
        "# Requirements:"
      ]
    },
    {
      "cell_type": "code",
      "execution_count": 1,
      "id": "86a8ac7c",
      "metadata": {
        "colab": {
          "base_uri": "https://localhost:8080/"
        },
        "id": "86a8ac7c",
        "outputId": "f374767f-3963-401c-c01a-88d6e22cb4be"
      },
      "outputs": [
        {
          "output_type": "stream",
          "name": "stdout",
          "text": [
            "\u001b[?25l     \u001b[90m━━━━━━━━━━━━━━━━━━━━━━━━━━━━━━━━━━━━━━━━\u001b[0m \u001b[32m0.0/488.2 kB\u001b[0m \u001b[31m?\u001b[0m eta \u001b[36m-:--:--\u001b[0m\r\u001b[2K     \u001b[91m╸\u001b[0m\u001b[90m━━━━━━━━━━━━━━━━━━━━━━━━━━━━━━━━━━━━━━━\u001b[0m \u001b[32m10.2/488.2 kB\u001b[0m \u001b[31m?\u001b[0m eta \u001b[36m-:--:--\u001b[0m\r\u001b[2K     \u001b[91m━━━━━\u001b[0m\u001b[91m╸\u001b[0m\u001b[90m━━━━━━━━━━━━━━━━━━━━━━━━━━━━━━━━━━\u001b[0m \u001b[32m71.7/488.2 kB\u001b[0m \u001b[31m1.1 MB/s\u001b[0m eta \u001b[36m0:00:01\u001b[0m\r\u001b[2K     \u001b[91m━━━━━━━━━━━━━━━━━━━━━━━━━━━━━━━━━━━━━\u001b[0m\u001b[91m╸\u001b[0m\u001b[90m━━\u001b[0m \u001b[32m460.8/488.2 kB\u001b[0m \u001b[31m4.6 MB/s\u001b[0m eta \u001b[36m0:00:01\u001b[0m\r\u001b[2K     \u001b[90m━━━━━━━━━━━━━━━━━━━━━━━━━━━━━━━━━━━━━━━━\u001b[0m \u001b[32m488.2/488.2 kB\u001b[0m \u001b[31m4.1 MB/s\u001b[0m eta \u001b[36m0:00:00\u001b[0m\n",
            "\u001b[?25h  Preparing metadata (setup.py) ... \u001b[?25l\u001b[?25hdone\n",
            "  Building wheel for wget (setup.py) ... \u001b[?25l\u001b[?25hdone\n",
            "\u001b[2K     \u001b[90m━━━━━━━━━━━━━━━━━━━━━━━━━━━━━━━━━━━━━━━━\u001b[0m \u001b[32m510.5/510.5 kB\u001b[0m \u001b[31m8.7 MB/s\u001b[0m eta \u001b[36m0:00:00\u001b[0m\n",
            "\u001b[2K     \u001b[90m━━━━━━━━━━━━━━━━━━━━━━━━━━━━━━━━━━━━━━━━\u001b[0m \u001b[32m280.0/280.0 kB\u001b[0m \u001b[31m13.4 MB/s\u001b[0m eta \u001b[36m0:00:00\u001b[0m\n",
            "\u001b[2K     \u001b[90m━━━━━━━━━━━━━━━━━━━━━━━━━━━━━━━━━━━━━━━━\u001b[0m \u001b[32m116.3/116.3 kB\u001b[0m \u001b[31m11.4 MB/s\u001b[0m eta \u001b[36m0:00:00\u001b[0m\n",
            "\u001b[2K     \u001b[90m━━━━━━━━━━━━━━━━━━━━━━━━━━━━━━━━━━━━━━━━\u001b[0m \u001b[32m134.8/134.8 kB\u001b[0m \u001b[31m9.7 MB/s\u001b[0m eta \u001b[36m0:00:00\u001b[0m\n",
            "\u001b[?25h"
          ]
        }
      ],
      "source": [
        "!pip install -q tree_sitter editdistance gdown wget tqdm\n",
        "!pip install -q numpy pandas scikit-learn nltk editdistance\n",
        "!pip install -q transformers[torch] datasets"
      ]
    },
    {
      "cell_type": "markdown",
      "id": "573aa705",
      "metadata": {
        "id": "573aa705"
      },
      "source": [
        "------\n",
        "# Imports"
      ]
    },
    {
      "cell_type": "code",
      "execution_count": 2,
      "id": "22610b25",
      "metadata": {
        "id": "22610b25"
      },
      "outputs": [],
      "source": [
        "import re, wget, logging, tqdm\n",
        "import numpy as np\n",
        "import pandas as pd\n",
        "import subprocess as sp\n",
        "from collections import *\n",
        "from typing import *\n",
        "from os.path import basename\n",
        "import string"
      ]
    },
    {
      "cell_type": "code",
      "execution_count": 3,
      "id": "dbccccde",
      "metadata": {
        "id": "dbccccde"
      },
      "outputs": [],
      "source": [
        "from matplotlib import pyplot as plt\n",
        "%matplotlib inline"
      ]
    },
    {
      "cell_type": "code",
      "execution_count": 4,
      "id": "478b1b5c",
      "metadata": {
        "id": "478b1b5c"
      },
      "outputs": [],
      "source": [
        "from tree_sitter import Language, Parser"
      ]
    },
    {
      "cell_type": "code",
      "execution_count": 5,
      "id": "96ea9946",
      "metadata": {
        "id": "96ea9946"
      },
      "outputs": [],
      "source": [
        "import torch\n",
        "import transformers\n",
        "from transformers import AutoModelForSeq2SeqLM, AutoTokenizer, AutoModel, Trainer, TrainingArguments\n",
        "import datasets"
      ]
    },
    {
      "cell_type": "code",
      "execution_count": 6,
      "id": "02a47e84",
      "metadata": {
        "id": "02a47e84"
      },
      "outputs": [],
      "source": [
        "import editdistance\n",
        "from nltk import bleu_score"
      ]
    },
    {
      "cell_type": "markdown",
      "id": "cae48ec5",
      "metadata": {
        "id": "cae48ec5"
      },
      "source": [
        "----------\n",
        "# Get the sources:"
      ]
    },
    {
      "cell_type": "code",
      "execution_count": null,
      "id": "398f3f95",
      "metadata": {
        "id": "398f3f95"
      },
      "outputs": [],
      "source": [
        "# to use the same version\n",
        "commit_sha = \"d740d6430118c2433d5a38ecc0106809bb38a76e\""
      ]
    },
    {
      "cell_type": "code",
      "execution_count": null,
      "id": "a1e1f36a",
      "metadata": {
        "colab": {
          "base_uri": "https://localhost:8080/",
          "height": 35
        },
        "id": "a1e1f36a",
        "outputId": "72ec7d0a-d4fe-4c73-ff97-8920206de373"
      },
      "outputs": [
        {
          "data": {
            "application/vnd.google.colaboratory.intrinsic+json": {
              "type": "string"
            },
            "text/plain": [
              "'intellij-community-d740d6430118c2433d5a38ecc0106809bb38a76e.zip'"
            ]
          },
          "execution_count": 9,
          "metadata": {},
          "output_type": "execute_result"
        }
      ],
      "source": [
        "wget.download(f\"https://github.com/JetBrains/intellij-community/archive/{commit_sha}.zip\")"
      ]
    },
    {
      "cell_type": "code",
      "execution_count": null,
      "id": "2b0a9a67",
      "metadata": {
        "id": "2b0a9a67"
      },
      "outputs": [],
      "source": [
        "!unzip -qq intellij-community-{commit_sha}.zip\n",
        "!mv intellij-community-{commit_sha} intellij-community"
      ]
    },
    {
      "cell_type": "code",
      "execution_count": null,
      "id": "60c8cc77",
      "metadata": {
        "id": "60c8cc77"
      },
      "outputs": [],
      "source": [
        "files = sp.check_output([\"find\", \"intellij-community\", \"-type\", \"f\"]).decode(\"utf-8\").split('\\n')\n",
        "files = [basename(f) for f in files]\n",
        "cnt = Counter(f.split('.')[-1] for f in files if '.' in f)"
      ]
    },
    {
      "cell_type": "code",
      "execution_count": null,
      "id": "2d91fbd3",
      "metadata": {
        "colab": {
          "base_uri": "https://localhost:8080/"
        },
        "id": "2d91fbd3",
        "outputId": "d94a27d7-a93b-47cc-bbc4-7a1a509e0701"
      },
      "outputs": [
        {
          "data": {
            "text/plain": [
              "[('java', 83445),\n",
              " ('kt', 57454),\n",
              " ('py', 12509),\n",
              " ('after', 12358),\n",
              " ('txt', 9329),\n",
              " ('pyi', 4493),\n",
              " ('svg', 4419),\n",
              " ('xml', 4265),\n",
              " ('html', 3724),\n",
              " ('groovy', 3168),\n",
              " ('test', 2864),\n",
              " ('iml', 1723),\n",
              " ('json', 1522),\n",
              " ('template', 1253),\n",
              " ('out', 1153)]"
            ]
          },
          "execution_count": 12,
          "metadata": {},
          "output_type": "execute_result"
        }
      ],
      "source": [
        "cnt.most_common(15)"
      ]
    },
    {
      "cell_type": "markdown",
      "id": "8d7995dc",
      "metadata": {
        "id": "8d7995dc"
      },
      "source": [
        "Here we see that the most presented language is **java**.\n",
        "\n",
        "Also it was presented in the pretrain corpus of CodeT5+ so we can estimate the zero-shot perf of the model before the finetuning.\n",
        "\n",
        "Let's proceed our experiments with it."
      ]
    },
    {
      "cell_type": "code",
      "execution_count": null,
      "id": "ee1aeef4",
      "metadata": {
        "id": "ee1aeef4"
      },
      "outputs": [],
      "source": [
        "code_files = sp.check_output([\"find\", \"intellij-community\", \"-type\", \"f\", \"-name\", \"*.java\"]) \\\n",
        "        .decode(\"utf-8\").strip().split('\\n')"
      ]
    },
    {
      "cell_type": "markdown",
      "id": "a2c87e30",
      "metadata": {
        "id": "a2c87e30"
      },
      "source": [
        "# Parse method names and bodies from the code\n",
        "we will use https://github.com/tree-sitter/tree-sitter for this (like the authors of CodeT5)"
      ]
    },
    {
      "cell_type": "code",
      "execution_count": null,
      "id": "a1e7aa68",
      "metadata": {
        "id": "a1e7aa68"
      },
      "outputs": [],
      "source": [
        "# get the grammar\n",
        "!git clone -q --depth 1 https://github.com/tree-sitter/tree-sitter-java"
      ]
    },
    {
      "cell_type": "code",
      "execution_count": null,
      "id": "e96c4a39",
      "metadata": {
        "id": "e96c4a39"
      },
      "outputs": [],
      "source": [
        "SONAME = \"build/my-languages.so\""
      ]
    },
    {
      "cell_type": "code",
      "execution_count": null,
      "id": "7e07081e",
      "metadata": {
        "colab": {
          "base_uri": "https://localhost:8080/"
        },
        "id": "7e07081e",
        "outputId": "1e8276ea-005b-48e6-dcce-cdc6481871d9"
      },
      "outputs": [
        {
          "data": {
            "text/plain": [
              "True"
            ]
          },
          "execution_count": 16,
          "metadata": {},
          "output_type": "execute_result"
        }
      ],
      "source": [
        "# compile the lib\n",
        "Language.build_library(SONAME, [\"tree-sitter-java\"])"
      ]
    },
    {
      "cell_type": "code",
      "execution_count": null,
      "id": "ad21cfcf",
      "metadata": {
        "id": "ad21cfcf"
      },
      "outputs": [],
      "source": [
        "class MethodExtractor:\n",
        "    def __init__(self, soname: str):\n",
        "        self.encoding = \"utf-8\"\n",
        "        self.lang_str = \"java\"\n",
        "        self.lang = Language(soname, self.lang_str)\n",
        "        self.parser = Parser()\n",
        "        self.parser.set_language(self.lang)\n",
        "        self.query = self.lang.query(\"(method_declaration name: (identifier) @n) @m\")\n",
        "\n",
        "\n",
        "    def parse(self, filename: str) -> Tuple[str, int, int, int]:\n",
        "        with open(filename, \"rb\") as ifile:\n",
        "            text = ifile.read()\n",
        "\n",
        "        tree = self.parser.parse(text)\n",
        "        if tree.root_node.is_error:\n",
        "            #logging.log(logging.ERROR, f\"failed to parse as {self.lang_str}: '{filename}'\")\n",
        "            return []\n",
        "\n",
        "        matched = self.query.captures(tree.root_node)\n",
        "        result = []\n",
        "\n",
        "        try:\n",
        "            for i in range(0, len(matched), 2):\n",
        "                method = matched[i][0]\n",
        "                name = matched[i+1][0]\n",
        "                name_start = len(method.text[:name.start_byte-method.start_byte].decode(self.encoding))\n",
        "                body = matched[i][0].children[-1]\n",
        "                body_start = len(method.text[:body.start_byte-method.start_byte].decode(self.encoding))\n",
        "                result.append((\n",
        "                    method.text.decode(self.encoding),\n",
        "                    name_start,\n",
        "                    name_start + len(name.text.decode(self.encoding)),\n",
        "                    body_start\n",
        "                ))\n",
        "        except UnicodeDecodeError:\n",
        "            logging.log(logging.ERROR, f\"failed to process unicode in '{filename}'\")\n",
        "            return []\n",
        "\n",
        "        return result"
      ]
    },
    {
      "cell_type": "code",
      "execution_count": null,
      "id": "e8752bd1",
      "metadata": {
        "id": "e8752bd1"
      },
      "outputs": [],
      "source": [
        "def files2dataframe(files: List[str]) -> pd.DataFrame:\n",
        "    me = MethodExtractor(SONAME)\n",
        "    output = []\n",
        "    for f in tqdm.tqdm(files):\n",
        "        output += me.parse(f)\n",
        "\n",
        "    return pd.DataFrame.from_records(\n",
        "        output,\n",
        "        columns=\"text name_left name_right body_left\".split()\n",
        "    )"
      ]
    },
    {
      "cell_type": "code",
      "execution_count": null,
      "id": "fa59668b",
      "metadata": {
        "colab": {
          "base_uri": "https://localhost:8080/"
        },
        "id": "fa59668b",
        "outputId": "d11454ac-ef5a-4515-cbc2-54008b44d6a9"
      },
      "outputs": [
        {
          "name": "stderr",
          "output_type": "stream",
          "text": [
            "100%|██████████| 83445/83445 [01:39<00:00, 839.42it/s]\n"
          ]
        }
      ],
      "source": [
        "methods_df = files2dataframe(code_files)"
      ]
    },
    {
      "cell_type": "code",
      "execution_count": null,
      "id": "fe5d2b41",
      "metadata": {
        "colab": {
          "base_uri": "https://localhost:8080/"
        },
        "id": "fe5d2b41",
        "outputId": "dc73042f-27b8-417e-8a9b-0cf3ce341429"
      },
      "outputs": [
        {
          "name": "stdout",
          "output_type": "stream",
          "text": [
            "found 496518 methods\n"
          ]
        }
      ],
      "source": [
        "print(f\"found {len(methods_df)} methods\")"
      ]
    },
    {
      "cell_type": "markdown",
      "id": "d7a0f823",
      "metadata": {
        "id": "d7a0f823"
      },
      "source": [
        "## remove trivial (no-body, abstract, without implementation) methods:"
      ]
    },
    {
      "cell_type": "code",
      "execution_count": null,
      "id": "cb6f5a64",
      "metadata": {
        "colab": {
          "base_uri": "https://localhost:8080/"
        },
        "id": "cb6f5a64",
        "outputId": "a91c1ec5-9ab4-4a45-891b-52371f515eac"
      },
      "outputs": [
        {
          "name": "stdout",
          "output_type": "stream",
          "text": [
            "removed 62812 trivial methods, remain: 433706\n"
          ]
        }
      ],
      "source": [
        "space = re.compile(r'\\s')\n",
        "\n",
        "def nontrivial_body(row):\n",
        "    body = row.text[row.body_left:]\n",
        "    body = re.sub(space, \"\", body)\n",
        "    return body not in {\"\", \"{}\", \";\", \"{/*...*/}\", \"{//...}\"}\n",
        "\n",
        "non_trivial = methods_df.apply(nontrivial_body, axis=1)\n",
        "methods_df = methods_df[non_trivial]\n",
        "print(f\"removed {len(non_trivial)-non_trivial.sum()} trivial methods, remain: {len(methods_df)}\")"
      ]
    },
    {
      "cell_type": "markdown",
      "id": "777412b6",
      "metadata": {
        "id": "777412b6"
      },
      "source": [
        "## remove duplicates (samples different only in spaces number):"
      ]
    },
    {
      "cell_type": "code",
      "execution_count": null,
      "id": "12df00e0",
      "metadata": {
        "colab": {
          "base_uri": "https://localhost:8080/"
        },
        "id": "12df00e0",
        "outputId": "b4869435-30cd-49c3-fcac-a82083188811"
      },
      "outputs": [
        {
          "name": "stdout",
          "output_type": "stream",
          "text": [
            "remained: 384562 unique methods\n"
          ]
        }
      ],
      "source": [
        "seq_space = re.compile(r\"\\s+\")\n",
        "methods_df[\"descriptor\"] = methods_df.apply(lambda row: re.sub(seq_space, \" \", row.text), axis=1)\n",
        "methods_df.drop_duplicates([\"descriptor\"], ignore_index=True, inplace=True)\n",
        "methods_df.drop(\"descriptor\", axis=1, inplace=True)\n",
        "\n",
        "print(f\"remained: {len(methods_df)} unique methods\")"
      ]
    },
    {
      "cell_type": "markdown",
      "id": "8cda9c27",
      "metadata": {
        "id": "8cda9c27"
      },
      "source": [
        "## remove too long names (>64 char)"
      ]
    },
    {
      "cell_type": "code",
      "execution_count": null,
      "id": "21b8c7dc",
      "metadata": {
        "colab": {
          "base_uri": "https://localhost:8080/"
        },
        "id": "21b8c7dc",
        "outputId": "5a93a0c9-be69-4c56-80bd-c5ea97db0e7d"
      },
      "outputs": [
        {
          "name": "stdout",
          "output_type": "stream",
          "text": [
            "removed 1452 long-named methods, remain: 383110\n"
          ]
        }
      ],
      "source": [
        "non_long = methods_df.apply(lambda row: row.name_right-row.name_left <= 64, axis=1)\n",
        "methods_df = methods_df[non_long]\n",
        "\n",
        "print(f\"removed {len(non_long)-non_long.sum()} long-named methods, remain: {len(methods_df)}\")"
      ]
    },
    {
      "cell_type": "markdown",
      "id": "48b33d8e",
      "metadata": {
        "id": "48b33d8e"
      },
      "source": [
        "-------------------\n",
        "shuffle and save"
      ]
    },
    {
      "cell_type": "code",
      "execution_count": null,
      "id": "tZxWiFXDDqjm",
      "metadata": {
        "id": "tZxWiFXDDqjm"
      },
      "outputs": [],
      "source": [
        "methods_df = methods_df.sample(frac=1, random_state=7777).reset_index(drop=True)"
      ]
    },
    {
      "cell_type": "code",
      "execution_count": null,
      "id": "75d743a6",
      "metadata": {
        "id": "75d743a6"
      },
      "outputs": [],
      "source": [
        "methods_df.to_csv(\"methods.csv\")"
      ]
    },
    {
      "cell_type": "code",
      "execution_count": null,
      "id": "9E0rCR6yDxUR",
      "metadata": {
        "colab": {
          "base_uri": "https://localhost:8080/",
          "height": 143
        },
        "id": "9E0rCR6yDxUR",
        "outputId": "2815eab8-0e25-4972-b9cf-b011ad945ef3"
      },
      "outputs": [
        {
          "data": {
            "application/vnd.google.colaboratory.intrinsic+json": {
              "type": "dataframe",
              "variable_name": "methods_df"
            },
            "text/html": [
              "\n",
              "  <div id=\"df-514e01bf-4df0-452e-9643-b0e24e055f17\" class=\"colab-df-container\">\n",
              "    <div>\n",
              "<style scoped>\n",
              "    .dataframe tbody tr th:only-of-type {\n",
              "        vertical-align: middle;\n",
              "    }\n",
              "\n",
              "    .dataframe tbody tr th {\n",
              "        vertical-align: top;\n",
              "    }\n",
              "\n",
              "    .dataframe thead th {\n",
              "        text-align: right;\n",
              "    }\n",
              "</style>\n",
              "<table border=\"1\" class=\"dataframe\">\n",
              "  <thead>\n",
              "    <tr style=\"text-align: right;\">\n",
              "      <th></th>\n",
              "      <th>text</th>\n",
              "      <th>name_left</th>\n",
              "      <th>name_right</th>\n",
              "    </tr>\n",
              "  </thead>\n",
              "  <tbody>\n",
              "    <tr>\n",
              "      <th>0</th>\n",
              "      <td>@TestMetadata(\"correctVararg.kt\")\\n           ...</td>\n",
              "      <td>62</td>\n",
              "      <td>79</td>\n",
              "    </tr>\n",
              "    <tr>\n",
              "      <th>1</th>\n",
              "      <td>@Override\\n        public void onMessage(@NotN...</td>\n",
              "      <td>30</td>\n",
              "      <td>39</td>\n",
              "    </tr>\n",
              "    <tr>\n",
              "      <th>2</th>\n",
              "      <td>public void method(int anObject) {\\n        Sy...</td>\n",
              "      <td>12</td>\n",
              "      <td>18</td>\n",
              "    </tr>\n",
              "  </tbody>\n",
              "</table>\n",
              "</div>\n",
              "    <div class=\"colab-df-buttons\">\n",
              "\n",
              "  <div class=\"colab-df-container\">\n",
              "    <button class=\"colab-df-convert\" onclick=\"convertToInteractive('df-514e01bf-4df0-452e-9643-b0e24e055f17')\"\n",
              "            title=\"Convert this dataframe to an interactive table.\"\n",
              "            style=\"display:none;\">\n",
              "\n",
              "  <svg xmlns=\"http://www.w3.org/2000/svg\" height=\"24px\" viewBox=\"0 -960 960 960\">\n",
              "    <path d=\"M120-120v-720h720v720H120Zm60-500h600v-160H180v160Zm220 220h160v-160H400v160Zm0 220h160v-160H400v160ZM180-400h160v-160H180v160Zm440 0h160v-160H620v160ZM180-180h160v-160H180v160Zm440 0h160v-160H620v160Z\"/>\n",
              "  </svg>\n",
              "    </button>\n",
              "\n",
              "  <style>\n",
              "    .colab-df-container {\n",
              "      display:flex;\n",
              "      gap: 12px;\n",
              "    }\n",
              "\n",
              "    .colab-df-convert {\n",
              "      background-color: #E8F0FE;\n",
              "      border: none;\n",
              "      border-radius: 50%;\n",
              "      cursor: pointer;\n",
              "      display: none;\n",
              "      fill: #1967D2;\n",
              "      height: 32px;\n",
              "      padding: 0 0 0 0;\n",
              "      width: 32px;\n",
              "    }\n",
              "\n",
              "    .colab-df-convert:hover {\n",
              "      background-color: #E2EBFA;\n",
              "      box-shadow: 0px 1px 2px rgba(60, 64, 67, 0.3), 0px 1px 3px 1px rgba(60, 64, 67, 0.15);\n",
              "      fill: #174EA6;\n",
              "    }\n",
              "\n",
              "    .colab-df-buttons div {\n",
              "      margin-bottom: 4px;\n",
              "    }\n",
              "\n",
              "    [theme=dark] .colab-df-convert {\n",
              "      background-color: #3B4455;\n",
              "      fill: #D2E3FC;\n",
              "    }\n",
              "\n",
              "    [theme=dark] .colab-df-convert:hover {\n",
              "      background-color: #434B5C;\n",
              "      box-shadow: 0px 1px 3px 1px rgba(0, 0, 0, 0.15);\n",
              "      filter: drop-shadow(0px 1px 2px rgba(0, 0, 0, 0.3));\n",
              "      fill: #FFFFFF;\n",
              "    }\n",
              "  </style>\n",
              "\n",
              "    <script>\n",
              "      const buttonEl =\n",
              "        document.querySelector('#df-514e01bf-4df0-452e-9643-b0e24e055f17 button.colab-df-convert');\n",
              "      buttonEl.style.display =\n",
              "        google.colab.kernel.accessAllowed ? 'block' : 'none';\n",
              "\n",
              "      async function convertToInteractive(key) {\n",
              "        const element = document.querySelector('#df-514e01bf-4df0-452e-9643-b0e24e055f17');\n",
              "        const dataTable =\n",
              "          await google.colab.kernel.invokeFunction('convertToInteractive',\n",
              "                                                    [key], {});\n",
              "        if (!dataTable) return;\n",
              "\n",
              "        const docLinkHtml = 'Like what you see? Visit the ' +\n",
              "          '<a target=\"_blank\" href=https://colab.research.google.com/notebooks/data_table.ipynb>data table notebook</a>'\n",
              "          + ' to learn more about interactive tables.';\n",
              "        element.innerHTML = '';\n",
              "        dataTable['output_type'] = 'display_data';\n",
              "        await google.colab.output.renderOutput(dataTable, element);\n",
              "        const docLink = document.createElement('div');\n",
              "        docLink.innerHTML = docLinkHtml;\n",
              "        element.appendChild(docLink);\n",
              "      }\n",
              "    </script>\n",
              "  </div>\n",
              "\n",
              "\n",
              "<div id=\"df-83868a12-8a62-4d38-80fa-7b3d58d24f80\">\n",
              "  <button class=\"colab-df-quickchart\" onclick=\"quickchart('df-83868a12-8a62-4d38-80fa-7b3d58d24f80')\"\n",
              "            title=\"Suggest charts\"\n",
              "            style=\"display:none;\">\n",
              "\n",
              "<svg xmlns=\"http://www.w3.org/2000/svg\" height=\"24px\"viewBox=\"0 0 24 24\"\n",
              "     width=\"24px\">\n",
              "    <g>\n",
              "        <path d=\"M19 3H5c-1.1 0-2 .9-2 2v14c0 1.1.9 2 2 2h14c1.1 0 2-.9 2-2V5c0-1.1-.9-2-2-2zM9 17H7v-7h2v7zm4 0h-2V7h2v10zm4 0h-2v-4h2v4z\"/>\n",
              "    </g>\n",
              "</svg>\n",
              "  </button>\n",
              "\n",
              "<style>\n",
              "  .colab-df-quickchart {\n",
              "      --bg-color: #E8F0FE;\n",
              "      --fill-color: #1967D2;\n",
              "      --hover-bg-color: #E2EBFA;\n",
              "      --hover-fill-color: #174EA6;\n",
              "      --disabled-fill-color: #AAA;\n",
              "      --disabled-bg-color: #DDD;\n",
              "  }\n",
              "\n",
              "  [theme=dark] .colab-df-quickchart {\n",
              "      --bg-color: #3B4455;\n",
              "      --fill-color: #D2E3FC;\n",
              "      --hover-bg-color: #434B5C;\n",
              "      --hover-fill-color: #FFFFFF;\n",
              "      --disabled-bg-color: #3B4455;\n",
              "      --disabled-fill-color: #666;\n",
              "  }\n",
              "\n",
              "  .colab-df-quickchart {\n",
              "    background-color: var(--bg-color);\n",
              "    border: none;\n",
              "    border-radius: 50%;\n",
              "    cursor: pointer;\n",
              "    display: none;\n",
              "    fill: var(--fill-color);\n",
              "    height: 32px;\n",
              "    padding: 0;\n",
              "    width: 32px;\n",
              "  }\n",
              "\n",
              "  .colab-df-quickchart:hover {\n",
              "    background-color: var(--hover-bg-color);\n",
              "    box-shadow: 0 1px 2px rgba(60, 64, 67, 0.3), 0 1px 3px 1px rgba(60, 64, 67, 0.15);\n",
              "    fill: var(--button-hover-fill-color);\n",
              "  }\n",
              "\n",
              "  .colab-df-quickchart-complete:disabled,\n",
              "  .colab-df-quickchart-complete:disabled:hover {\n",
              "    background-color: var(--disabled-bg-color);\n",
              "    fill: var(--disabled-fill-color);\n",
              "    box-shadow: none;\n",
              "  }\n",
              "\n",
              "  .colab-df-spinner {\n",
              "    border: 2px solid var(--fill-color);\n",
              "    border-color: transparent;\n",
              "    border-bottom-color: var(--fill-color);\n",
              "    animation:\n",
              "      spin 1s steps(1) infinite;\n",
              "  }\n",
              "\n",
              "  @keyframes spin {\n",
              "    0% {\n",
              "      border-color: transparent;\n",
              "      border-bottom-color: var(--fill-color);\n",
              "      border-left-color: var(--fill-color);\n",
              "    }\n",
              "    20% {\n",
              "      border-color: transparent;\n",
              "      border-left-color: var(--fill-color);\n",
              "      border-top-color: var(--fill-color);\n",
              "    }\n",
              "    30% {\n",
              "      border-color: transparent;\n",
              "      border-left-color: var(--fill-color);\n",
              "      border-top-color: var(--fill-color);\n",
              "      border-right-color: var(--fill-color);\n",
              "    }\n",
              "    40% {\n",
              "      border-color: transparent;\n",
              "      border-right-color: var(--fill-color);\n",
              "      border-top-color: var(--fill-color);\n",
              "    }\n",
              "    60% {\n",
              "      border-color: transparent;\n",
              "      border-right-color: var(--fill-color);\n",
              "    }\n",
              "    80% {\n",
              "      border-color: transparent;\n",
              "      border-right-color: var(--fill-color);\n",
              "      border-bottom-color: var(--fill-color);\n",
              "    }\n",
              "    90% {\n",
              "      border-color: transparent;\n",
              "      border-bottom-color: var(--fill-color);\n",
              "    }\n",
              "  }\n",
              "</style>\n",
              "\n",
              "  <script>\n",
              "    async function quickchart(key) {\n",
              "      const quickchartButtonEl =\n",
              "        document.querySelector('#' + key + ' button');\n",
              "      quickchartButtonEl.disabled = true;  // To prevent multiple clicks.\n",
              "      quickchartButtonEl.classList.add('colab-df-spinner');\n",
              "      try {\n",
              "        const charts = await google.colab.kernel.invokeFunction(\n",
              "            'suggestCharts', [key], {});\n",
              "      } catch (error) {\n",
              "        console.error('Error during call to suggestCharts:', error);\n",
              "      }\n",
              "      quickchartButtonEl.classList.remove('colab-df-spinner');\n",
              "      quickchartButtonEl.classList.add('colab-df-quickchart-complete');\n",
              "    }\n",
              "    (() => {\n",
              "      let quickchartButtonEl =\n",
              "        document.querySelector('#df-83868a12-8a62-4d38-80fa-7b3d58d24f80 button');\n",
              "      quickchartButtonEl.style.display =\n",
              "        google.colab.kernel.accessAllowed ? 'block' : 'none';\n",
              "    })();\n",
              "  </script>\n",
              "</div>\n",
              "    </div>\n",
              "  </div>\n"
            ],
            "text/plain": [
              "                                                text  name_left  name_right\n",
              "0  @TestMetadata(\"correctVararg.kt\")\\n           ...         62          79\n",
              "1  @Override\\n        public void onMessage(@NotN...         30          39\n",
              "2  public void method(int anObject) {\\n        Sy...         12          18"
            ]
          },
          "execution_count": 62,
          "metadata": {},
          "output_type": "execute_result"
        }
      ],
      "source": [
        "methods_df.head(3)"
      ]
    },
    {
      "cell_type": "markdown",
      "id": "215caaxjVUS3",
      "metadata": {
        "id": "215caaxjVUS3"
      },
      "source": [
        "# Neural net:\n",
        "we will use CodeT5+ from HuggingFace hub"
      ]
    },
    {
      "cell_type": "markdown",
      "id": "o5yny5cnSiOj",
      "metadata": {
        "id": "o5yny5cnSiOj"
      },
      "source": [
        "according to the paper, among the pretraining tasks of CodeT5+ was **Span Denoising** -- recovery of missed tokens segment. We will utilize this by giving input and output prefix in the closer form:\n",
        "* at first we will replace the name of the method with `[MASK0]` special index token\n",
        "* output the should have form `[MASK0] NAME` like in the pre-training\n",
        "* finally, we need to patch a bit the inference process - while our \"span\" should be an identifier, we need to not consider hypotheses with space or other non-identifier symbol. While the net was trained on not only identifiers, just restrict the beam to id-s would cause a degradation in quality. The simple idea \"let's generate a span and cut identifier from its head\" works better.\n"
      ]
    },
    {
      "cell_type": "code",
      "execution_count": 12,
      "id": "b8cwj9pBVeWw",
      "metadata": {
        "id": "b8cwj9pBVeWw"
      },
      "outputs": [],
      "source": [
        "BOS = \"<s>\"\n",
        "MASK0 = \"<extra_id_0>\"\n",
        "MAXLEN_INP = 256\n",
        "MAXLEN_OUT = 24\n",
        "# with these restrictions with cut only 7% of trainset (see below)"
      ]
    },
    {
      "cell_type": "code",
      "execution_count": 13,
      "id": "hSS5HjheVrzb",
      "metadata": {
        "colab": {
          "base_uri": "https://localhost:8080/",
          "height": 400,
          "referenced_widgets": [
            "d7b6d1bbb506410a8e6dd14cdaa90562",
            "4261fdbbdf1646069cda0752081ee0c1",
            "304cfbae49854b84b390a266c4397773",
            "597ed484c5334a37a8734e7340dbb37f",
            "abf5601d4f8940eb87027cf36c299538",
            "9de80d68e82c427686469b6e5dfdfeee",
            "50898c2ea1db4471a561dd824d31d3f1",
            "1568eb5357a44f26a203bbdaf9ce659b",
            "3515fe57d4034fd59bf2c7ce9d8ab4c2",
            "f05def4347564ced9e33d3c93137ea70",
            "6ef0935563c64901aeeb140b96b7bce0",
            "be075f4cd5844039a081ab7843912908",
            "95fc0bcc9c424d7f8585803be0ac913e",
            "607329ad746a491a99f580219d530f2f",
            "fcf3cf5d5cec4dccabb53d51dec53ed2",
            "8641b07f87a14dd8b74fbcc52db2c036",
            "e5acfad3a9e845bb972dd6ccca9534bf",
            "db2d4b91de5a47b99fe58f1caf06f537",
            "5d2949cf3e684a74bf03678ba4a95b89",
            "12dc5e758ada47c3bd859b7a0c99bf9c",
            "48434d86671949c885dea56d9aac25b7",
            "43a5428357984c7f81e10ee2a97aa065",
            "da63fc4dd66f46baa2a43f7c3464fa38",
            "ab8e902c4005425b9f248253bf1a58b9",
            "3b8a8fa34384408999d43f29e3b74fbd",
            "3811e4473afe42e78007828bcee5ecfb",
            "31954a76b23849138f1b4b1f37cf1cc6",
            "b6fbd2eeca4a4bb3aadd0bdd2272195e",
            "4427c8f374854b8caf80acf9faf554dd",
            "b1f82cbda6b5467b92b6577befcc247e",
            "0125b61f63954849a62c0a1e2cb9a768",
            "f690db12593d4792ad2db7eac999c92b",
            "9360d357a8b64e7594174ee693bfb601",
            "e9e2bf51034a4fb281ac79333a12253d",
            "a07a48e608e74a9aa9a67935161a9ffa",
            "cd0f8a824d61413f876751e6014efe9d",
            "3a3b336711bd4b37a6036f61f7df8739",
            "d1955a704efb4596bf4ebc06fb4c4ec4",
            "95983c0e46f84bfaae5e34eea270c3f4",
            "663edb83bed54b9faf0dca0e8e1c3690",
            "d7ff9a0f431e4f3c841dd5b9856eccd7",
            "5459f650dc7c4b4fb0d5401beaa8ae16",
            "b022afa3f748419dae74619dc18beb63",
            "375fd845daa44c638a4ae1339bb285a6",
            "b0b570cce6a64f078b5b9d4baf2b6faa",
            "182df1c2b8ef43beb86079dcd533e24d",
            "0a79bc8fe9ef4599a2ef9d08d9f04562",
            "9bafbdda67894d62b5a271fd2db78194",
            "80411b248e1f4fc3846b0fb304c236d3",
            "acf02d8244e04f9fb056c68ee7fee755",
            "66147a81615d447fa46f62005c0261fc",
            "193dcc11eef14d9484260c09aedc92b9",
            "5b27c791e83e4f4e8beb8a87c32e8fc7",
            "b02ff45f0a3b42fd82360abc4dbbb0c5",
            "ca322c1c743b42e7a7833f24230c3bca",
            "d24d8600565a48018ff640bec14310c7",
            "3f3ff5900fa042589f2428ddc5212a9a",
            "21fd33d8df6c4973a9136d280c270d76",
            "f84b8910eeb441f6a36ad66614192d4e",
            "51a46be30625473e9fed66e421e76fb4",
            "b62bea40cf16488f8c4fbca047c8dd7a",
            "1f31f542550d443c8ecfb774c5950505",
            "0e17210d73ac4fa7a137cab8ecaad1db",
            "980f424d2899484ca92a093ec01d4b8c",
            "7295b5e93e15449fb98e36cd22a330cd",
            "b2fbd5e7b49447378668994c83d6c9e9",
            "4880f026d34b4e98a17042c499ebb667",
            "e6c61ad1170241178785fd9dde6f73ec",
            "3106b7f9f13f42d2a490399157923d3c",
            "73a39d55e1b24b1eae2f91df63cc3c12",
            "c13427722aca4d3fba05b84975ea4f4c",
            "0403cd7d49984359924472df7802b8c4",
            "d60548a7cb4b48908e1d6006c742b96b",
            "26b9f9b5771a47b296fc5bbbfd1c3859",
            "2b03bd06a14e4bf7837d42f160aaf6e2",
            "1c71ae9237794d718e2a9d2209ed6b3a",
            "48c666ba291241a1a52c3b7ccc5d5d8d"
          ]
        },
        "id": "hSS5HjheVrzb",
        "outputId": "f4c92ef6-b9ea-4016-8e01-784de71ad6d3"
      },
      "outputs": [
        {
          "output_type": "stream",
          "name": "stderr",
          "text": [
            "/usr/local/lib/python3.10/dist-packages/huggingface_hub/utils/_token.py:88: UserWarning: \n",
            "The secret `HF_TOKEN` does not exist in your Colab secrets.\n",
            "To authenticate with the Hugging Face Hub, create a token in your settings tab (https://huggingface.co/settings/tokens), set it as secret in your Google Colab and restart your session.\n",
            "You will be able to reuse this secret in all of your notebooks.\n",
            "Please note that authentication is recommended but still optional to access public models or datasets.\n",
            "  warnings.warn(\n"
          ]
        },
        {
          "output_type": "display_data",
          "data": {
            "text/plain": [
              "config.json:   0%|          | 0.00/768 [00:00<?, ?B/s]"
            ],
            "application/vnd.jupyter.widget-view+json": {
              "version_major": 2,
              "version_minor": 0,
              "model_id": "d7b6d1bbb506410a8e6dd14cdaa90562"
            }
          },
          "metadata": {}
        },
        {
          "output_type": "display_data",
          "data": {
            "text/plain": [
              "pytorch_model.bin:   0%|          | 0.00/446M [00:00<?, ?B/s]"
            ],
            "application/vnd.jupyter.widget-view+json": {
              "version_major": 2,
              "version_minor": 0,
              "model_id": "be075f4cd5844039a081ab7843912908"
            }
          },
          "metadata": {}
        },
        {
          "output_type": "stream",
          "name": "stderr",
          "text": [
            "/usr/local/lib/python3.10/dist-packages/torch/_utils.py:831: UserWarning: TypedStorage is deprecated. It will be removed in the future and UntypedStorage will be the only storage class. This should only matter to you if you are using storages directly.  To access UntypedStorage directly, use tensor.untyped_storage() instead of tensor.storage()\n",
            "  return self.fget.__get__(instance, owner)()\n"
          ]
        },
        {
          "output_type": "display_data",
          "data": {
            "text/plain": [
              "tokenizer_config.json:   0%|          | 0.00/1.48k [00:00<?, ?B/s]"
            ],
            "application/vnd.jupyter.widget-view+json": {
              "version_major": 2,
              "version_minor": 0,
              "model_id": "da63fc4dd66f46baa2a43f7c3464fa38"
            }
          },
          "metadata": {}
        },
        {
          "output_type": "display_data",
          "data": {
            "text/plain": [
              "vocab.json:   0%|          | 0.00/703k [00:00<?, ?B/s]"
            ],
            "application/vnd.jupyter.widget-view+json": {
              "version_major": 2,
              "version_minor": 0,
              "model_id": "e9e2bf51034a4fb281ac79333a12253d"
            }
          },
          "metadata": {}
        },
        {
          "output_type": "display_data",
          "data": {
            "text/plain": [
              "merges.txt:   0%|          | 0.00/294k [00:00<?, ?B/s]"
            ],
            "application/vnd.jupyter.widget-view+json": {
              "version_major": 2,
              "version_minor": 0,
              "model_id": "b0b570cce6a64f078b5b9d4baf2b6faa"
            }
          },
          "metadata": {}
        },
        {
          "output_type": "display_data",
          "data": {
            "text/plain": [
              "added_tokens.json:   0%|          | 0.00/2.00 [00:00<?, ?B/s]"
            ],
            "application/vnd.jupyter.widget-view+json": {
              "version_major": 2,
              "version_minor": 0,
              "model_id": "d24d8600565a48018ff640bec14310c7"
            }
          },
          "metadata": {}
        },
        {
          "output_type": "display_data",
          "data": {
            "text/plain": [
              "special_tokens_map.json:   0%|          | 0.00/12.5k [00:00<?, ?B/s]"
            ],
            "application/vnd.jupyter.widget-view+json": {
              "version_major": 2,
              "version_minor": 0,
              "model_id": "4880f026d34b4e98a17042c499ebb667"
            }
          },
          "metadata": {}
        }
      ],
      "source": [
        "model_cpkt = 'Salesforce/codet5p-220m'\n",
        "\n",
        "model = AutoModelForSeq2SeqLM.from_pretrained(model_cpkt, trust_remote_code=True)\n",
        "tokenizer = AutoTokenizer.from_pretrained(model_cpkt, trust_remote_code=True)"
      ]
    },
    {
      "cell_type": "code",
      "execution_count": 14,
      "id": "qhh_XTbRVyzQ",
      "metadata": {
        "colab": {
          "base_uri": "https://localhost:8080/"
        },
        "id": "qhh_XTbRVyzQ",
        "outputId": "94ae65dd-21de-431d-bb17-f0507c17fe23"
      },
      "outputs": [
        {
          "output_type": "execute_result",
          "data": {
            "text/plain": [
              "device(type='cuda')"
            ]
          },
          "metadata": {},
          "execution_count": 14
        }
      ],
      "source": [
        "DEVICE = torch.device(\"cuda\" if torch.cuda.is_available() else \"cpu\")\n",
        "model.eval()\n",
        "model.to(DEVICE)\n",
        "DEVICE"
      ]
    },
    {
      "cell_type": "markdown",
      "id": "843531f4",
      "metadata": {
        "id": "843531f4"
      },
      "source": [
        "------------------\n",
        "## Convert to dataset:"
      ]
    },
    {
      "cell_type": "code",
      "execution_count": 15,
      "id": "946d8ffc",
      "metadata": {
        "id": "946d8ffc"
      },
      "outputs": [],
      "source": [
        "def make_str_for_t5(row):\n",
        "    input_str = row.text[:row.name_left] + MASK0 + row.text[row.name_right:]\n",
        "    output_str = MASK0 + row.text[row.name_left:row.name_right]\n",
        "    gt_name = row.text[row.name_left:row.name_right]\n",
        "    return input_str, output_str, gt_name\n",
        "\n",
        "io_str = methods_df.apply(make_str_for_t5, axis=1, result_type='expand')\n",
        "methods_df[\"input_str\"] = io_str[0]\n",
        "methods_df[\"output_str\"] = io_str[1]\n",
        "methods_df[\"gt_name\"] = io_str[2]"
      ]
    },
    {
      "cell_type": "code",
      "source": [
        "# methods from files not presented in trainset\n",
        "true_test_ids = [7, 9, 27, 35, 47, 54, 59, 63, 66, 67, 84, 87, 105, 137, 148, 150, 204, 217, 218, 263, 279, 289, 329, 337, 341, 352, 363, 373, 378, 418, 421, 435, 437, 446, 453, 454, 455, 464, 483, 489, 502, 517, 519, 531, 533, 577, 592, 602, 610, 655, 671, 674, 698, 707, 744, 745, 756, 764, 778, 791, 794, 810, 817, 838, 848, 850, 854, 864, 878, 958, 1015, 1031, 1040, 1050, 1067, 1069, 1101, 1102, 1126, 1131, 1146, 1190, 1207, 1221, 1237, 1277, 1284, 1318, 1334, 1350, 1358, 1378, 1382, 1410, 1437, 1443, 1478, 1485, 1499, 1514, 1529, 1556, 1564, 1583, 1602, 1603, 1607, 1610, 1629, 1667, 1684, 1692, 1717, 1733, 1742, 1756, 1760, 1762, 1770, 1776, 1794, 1797, 1825, 1837, 1838, 1851, 1853, 1856, 1865, 1909, 1917, 1943, 1958, 1968, 2000, 2002, 2033, 2044, 2052, 2075, 2084, 2108, 2111, 2158, 2191, 2192, 2209, 2210, 2224, 2243, 2246, 2249, 2276, 2312, 2320, 2347, 2354, 2355, 2371, 2388, 2479, 2492, 2497, 2501, 2534, 2559, 2566, 2570, 2619, 2649, 2650, 2659, 2683, 2748, 2768, 2775, 2783, 2793, 2829, 2832, 2837, 2844, 2864, 2869, 2887, 2890, 2917, 2946, 2976, 2979]"
      ],
      "metadata": {
        "id": "JDPOWCfdxWvR"
      },
      "id": "JDPOWCfdxWvR",
      "execution_count": 50,
      "outputs": []
    },
    {
      "cell_type": "code",
      "execution_count": 17,
      "id": "d71f36a1",
      "metadata": {
        "id": "d71f36a1"
      },
      "outputs": [],
      "source": [
        "corpus = datasets.DatasetDict({\n",
        "    \"test\": datasets.Dataset.from_pandas(methods_df.iloc[:2000]),\n",
        "    \"validation\": datasets.Dataset.from_pandas(methods_df.iloc[2000:3000]),\n",
        "    \"train\": datasets.Dataset.from_pandas(methods_df.iloc[3000:]),\n",
        "    \"true_test\": datasets.Dataset.from_pandas(methods_df.iloc[true_test_ids])\n",
        "})"
      ]
    },
    {
      "cell_type": "code",
      "source": [
        "corpus"
      ],
      "metadata": {
        "colab": {
          "base_uri": "https://localhost:8080/"
        },
        "id": "AvCTybQdyZbI",
        "outputId": "d8744250-4396-4ba9-ebf3-02c381eea107"
      },
      "id": "AvCTybQdyZbI",
      "execution_count": 18,
      "outputs": [
        {
          "output_type": "execute_result",
          "data": {
            "text/plain": [
              "DatasetDict({\n",
              "    test: Dataset({\n",
              "        features: ['text', 'name_left', 'name_right', 'input_str', 'output_str', 'gt_name'],\n",
              "        num_rows: 2000\n",
              "    })\n",
              "    validation: Dataset({\n",
              "        features: ['text', 'name_left', 'name_right', 'input_str', 'output_str', 'gt_name'],\n",
              "        num_rows: 1000\n",
              "    })\n",
              "    train: Dataset({\n",
              "        features: ['text', 'name_left', 'name_right', 'input_str', 'output_str', 'gt_name'],\n",
              "        num_rows: 380110\n",
              "    })\n",
              "    true_test: Dataset({\n",
              "        features: ['text', 'name_left', 'name_right', 'input_str', 'output_str', 'gt_name', '__index_level_0__'],\n",
              "        num_rows: 190\n",
              "    })\n",
              "})"
            ]
          },
          "metadata": {},
          "execution_count": 18
        }
      ]
    },
    {
      "cell_type": "code",
      "execution_count": null,
      "id": "b6ff9a4b",
      "metadata": {
        "colab": {
          "base_uri": "https://localhost:8080/"
        },
        "id": "b6ff9a4b",
        "outputId": "3683cb9b-c952-4000-9542-3f36542d1bf0",
        "scrolled": false
      },
      "outputs": [
        {
          "data": {
            "text/plain": [
              "DatasetDict({\n",
              "    test: Dataset({\n",
              "        features: ['text', 'name_left', 'name_right', 'input_str', 'output_str', 'gt_name'],\n",
              "        num_rows: 2000\n",
              "    })\n",
              "    validation: Dataset({\n",
              "        features: ['text', 'name_left', 'name_right', 'input_str', 'output_str', 'gt_name'],\n",
              "        num_rows: 1000\n",
              "    })\n",
              "    train: Dataset({\n",
              "        features: ['text', 'name_left', 'name_right', 'input_str', 'output_str', 'gt_name'],\n",
              "        num_rows: 380110\n",
              "    })\n",
              "})"
            ]
          },
          "execution_count": 17,
          "metadata": {},
          "output_type": "execute_result"
        }
      ],
      "source": [
        "corpus"
      ]
    },
    {
      "cell_type": "code",
      "execution_count": 19,
      "id": "9c6ae991",
      "metadata": {
        "colab": {
          "base_uri": "https://localhost:8080/",
          "height": 229,
          "referenced_widgets": [
            "4c9a528c65bb4057868044c62e5e2c14",
            "d76a6b14c93749c6bb859b703f58aa25",
            "491d0e62f15e4c53aeb93c13672add76",
            "cf5e1b25f1fb475eaad43331b2e91447",
            "5b1aa633aa32442e8d9bf51b71996e59",
            "b7ddb0f6c0a14e81a83d98c0d9ee3d39",
            "c08a9ef1768c4d19b33f381f906078a6",
            "592788c0ae124dd98fe0712da72f12df",
            "6086ebdc4f6c4ca1a9d2b7079b9a800a",
            "2287ab2fe36a4468a69b815e32f1c531",
            "4b32b1b1db8c47b89fb4f23342c90c0f",
            "5ec71bb32f89437bbcbd759563af25d0",
            "4506b01433d44fd6a5de59f79bb7a606",
            "6c7ba967324f45569628b64c9086d0a4",
            "ae6c79dd4913482fbf172b1605d35ca1",
            "6f8031f6b5aa403d9417738dcb315426",
            "a1474be83fb44b18bab2c195baec82eb",
            "57212d4112f14b718346a0bfc314da74",
            "41c23e51e0444878b79486d2b150b520",
            "39df667c8184481994218a7a28fba65a",
            "f40cf497eb5a46a7af041340397e5d48",
            "0dd483ade67d4f5bbece619326ec4d3d",
            "24bd60cbce0d4906b8be80180feb1eba",
            "8149fa6842ad451d91fe8190059cb6a8",
            "1f03410304cc4810969a1af8cb0fab85",
            "527e45ef27f34f9d966bbce9b86061f6",
            "2ce9c297ef2a45bf8614dc9006582db0",
            "ec7391abcbbe4777a7af26eb466ebca3",
            "3548f438a3334fb49b7f0f83487b5f0c",
            "8899d56c70314c7f8327589fc2c1fe1b",
            "580168d53a8640e78419b6aad71079a0",
            "fa0166c9d39e4529b454526098f795de",
            "4f0a64f1cfd8491eb202577c7c62667e",
            "194cebbfee1147d2b847c5221b55301f",
            "6406b8d71eb7463187cce2405c351518",
            "98845740b7ac4371a7765c22ae2d8d4f",
            "20d7420df8514034ad92946b90e8d010",
            "f2ba928607a249379f1df3839cfaacb1",
            "80a2d8287ed94dc1a95fe84599cd3587",
            "75bd75d2036040dc964fb073941ec047",
            "0e96c9a3307a4497be2dd2b59e099918",
            "3901a3ef808c4aa49f24a38a0084cfc9",
            "d62ad2fb779b4def8c4381addcc912fb",
            "3506f3bfd1e24278add42c2751f303cf"
          ]
        },
        "id": "9c6ae991",
        "outputId": "14203453-3713-4bb0-87a4-343051fee56e"
      },
      "outputs": [
        {
          "output_type": "display_data",
          "data": {
            "text/plain": [
              "Saving the dataset (0/1 shards):   0%|          | 0/2000 [00:00<?, ? examples/s]"
            ],
            "application/vnd.jupyter.widget-view+json": {
              "version_major": 2,
              "version_minor": 0,
              "model_id": "4c9a528c65bb4057868044c62e5e2c14"
            }
          },
          "metadata": {}
        },
        {
          "output_type": "display_data",
          "data": {
            "text/plain": [
              "Saving the dataset (0/1 shards):   0%|          | 0/1000 [00:00<?, ? examples/s]"
            ],
            "application/vnd.jupyter.widget-view+json": {
              "version_major": 2,
              "version_minor": 0,
              "model_id": "5ec71bb32f89437bbcbd759563af25d0"
            }
          },
          "metadata": {}
        },
        {
          "output_type": "display_data",
          "data": {
            "text/plain": [
              "Saving the dataset (0/1 shards):   0%|          | 0/380110 [00:00<?, ? examples/s]"
            ],
            "application/vnd.jupyter.widget-view+json": {
              "version_major": 2,
              "version_minor": 0,
              "model_id": "24bd60cbce0d4906b8be80180feb1eba"
            }
          },
          "metadata": {}
        },
        {
          "output_type": "display_data",
          "data": {
            "text/plain": [
              "Saving the dataset (0/1 shards):   0%|          | 0/190 [00:00<?, ? examples/s]"
            ],
            "application/vnd.jupyter.widget-view+json": {
              "version_major": 2,
              "version_minor": 0,
              "model_id": "194cebbfee1147d2b847c5221b55301f"
            }
          },
          "metadata": {}
        }
      ],
      "source": [
        "corpus.save_to_disk(\"methods_ds\")"
      ]
    },
    {
      "cell_type": "markdown",
      "id": "5e2e331e",
      "metadata": {
        "id": "5e2e331e"
      },
      "source": [
        "-----------\n",
        "## Infer on test set:"
      ]
    },
    {
      "cell_type": "code",
      "execution_count": 20,
      "id": "8wmondC4E5g_",
      "metadata": {
        "id": "8wmondC4E5g_"
      },
      "outputs": [],
      "source": [
        "non_id = re.compile(r\"[^a-zA-Z0-9$_]\")\n",
        "\n",
        "def infer(data, model):\n",
        "    out_prefix = tokenizer(BOS + MASK0, return_tensors=\"pt\", add_special_tokens=False).input_ids.to(DEVICE)\n",
        "\n",
        "    result = []\n",
        "    for row in tqdm.tqdm(data):\n",
        "        inp = tokenizer(row[\"input_str\"], max_length=MAXLEN_INP, truncation=True, return_tensors=\"pt\").to(DEVICE)\n",
        "        out = model.generate(**inp, decoder_input_ids=out_prefix, max_length=MAXLEN_OUT,\n",
        "                             num_beams=4)\n",
        "        out = tokenizer.decode(out[0], skip_special_tokens=True).strip()\n",
        "        out = re.split(non_id, out, maxsplit=1)[0]\n",
        "        result.append(out)\n",
        "\n",
        "    return result"
      ]
    },
    {
      "cell_type": "code",
      "execution_count": 21,
      "id": "9hLwU9q0E-oh",
      "metadata": {
        "colab": {
          "base_uri": "https://localhost:8080/"
        },
        "id": "9hLwU9q0E-oh",
        "outputId": "58b814f3-5ba7-4ad2-b93d-3c134d5d7370"
      },
      "outputs": [
        {
          "output_type": "stream",
          "name": "stderr",
          "text": [
            "100%|██████████| 10/10 [00:08<00:00,  1.15it/s]\n"
          ]
        }
      ],
      "source": [
        "predict = infer(corpus[\"test\"].select(range(10)), model)"
      ]
    },
    {
      "cell_type": "code",
      "execution_count": 23,
      "id": "5faa9ce8",
      "metadata": {
        "id": "5faa9ce8"
      },
      "outputs": [],
      "source": [
        "gt_names = corpus[\"test\"][:10][\"gt_name\"]"
      ]
    },
    {
      "cell_type": "code",
      "execution_count": 24,
      "id": "2b14c281",
      "metadata": {
        "colab": {
          "base_uri": "https://localhost:8080/"
        },
        "id": "2b14c281",
        "outputId": "491eb59c-a7cb-458f-ab4f-49cf0cc8fe45",
        "scrolled": true
      },
      "outputs": [
        {
          "output_type": "stream",
          "name": "stdout",
          "text": [
            "### @TestMetadata(\"correctVararg.kt\")\n",
            "###                 public void testCorrectVararg() throws Exception {\n",
            "###                     runTest(\"testData/inspectionsLocal/mainFunctionReturnUnit/insideObject/correctV...\n",
            "name = testCorrectVararg\n",
            "predict = testCorrectVararg\n",
            "\n",
            "\n",
            "### @Override\n",
            "###         public void onMessage(@NotNull PsiElement context, @NotNull String message) {\n",
            "###           myHost.addMessage(context, message, Validator.ValidationHost.ErrorType.WARNING);\n",
            "###         }\n",
            "name = onMessage\n",
            "predict = addError\n",
            "\n",
            "\n",
            "### public void method(int anObject) {\n",
            "###         System.out.println(anObject);\n",
            "###         System.out.println(this.anObject);\n",
            "###     }\n",
            "name = method\n",
            "predict = main\n",
            "\n",
            "\n",
            "### private void closePreviousScenarios() {\n",
            "###     closeScenario();\n",
            "###     closeScenarioOutline();\n",
            "###   }\n",
            "name = closePreviousScenarios\n",
            "predict = closeScenarioOutline\n",
            "\n",
            "\n",
            "### private static void useMethodInsteadOfRedundantCall(String methodToUse, PsiMethodCallExpression redundantCall) {\n",
            "###     PsiMethodCallExpression equalsCall = PsiTreeUtil.getParentOfType(redundantCall, Psi...\n",
            "name = useMethodInsteadOfRedundantCall\n",
            "predict = bindCallTo\n",
            "\n",
            "\n",
            "### public boolean isAfter(@NotNull SubmissionReceipt other) {\n",
            "###       return submittedTaskCount > other.submittedTaskCount;\n",
            "###     }\n",
            "name = isAfter\n",
            "predict = isSubscribed\n",
            "\n",
            "\n",
            "### public static void setNodeReformatStrategy(@Nullable NotNullFunction<? super ASTNode, Boolean> strategy) {\n",
            "###     NODE_REFORMAT_STRATEGY.set(strategy);\n",
            "###   }\n",
            "name = setNodeReformatStrategy\n",
            "predict = NODE_REFORMAT_STRATEGY\n",
            "\n",
            "\n",
            "### @Override\n",
            "###         public GenericHtmlContributions deserialize(JsonParser parser, DeserializationContext deserializationContext)\n",
            "###             throws IOException\n",
            "###         {\n",
            "###             GenericHtmlContribu...\n",
            "name = deserialize\n",
            "predict = deserialize\n",
            "\n",
            "\n",
            "### private synchronized @NotNull List<? extends IntentionAction> updateOptions(@NotNull List<? extends IntentionAction> newOptions) {\n",
            "###       List<? extends IntentionAction> options = myOptions;\n",
            "###       if (...\n",
            "name = updateOptions\n",
            "predict = myOptions\n",
            "\n",
            "\n",
            "### void foo() {\n",
            "###     int size = values.size();\n",
            "###     List<String> values = new ArrayList<>();  // Let's hide field \"values\" with local variable\n",
            "### \n",
            "###     <caret>for (int i = 0; i < size; i++) {\n",
            "###       String valu...\n",
            "name = foo\n",
            "predict = Main\n",
            "\n",
            "\n"
          ]
        }
      ],
      "source": [
        "for i in range(10):\n",
        "    t = corpus[\"test\"][i][\"text\"]\n",
        "    if len(t) > 200:\n",
        "      t = t[:200] + \"...\"\n",
        "    print('\\n'.join(\"### \" + l for l in t.split('\\n')))\n",
        "    print(f\"name = {gt_names[i]}\\npredict = {predict[i]}\\n\\n\")"
      ]
    },
    {
      "cell_type": "markdown",
      "id": "3f734f8e",
      "metadata": {
        "id": "3f734f8e"
      },
      "source": [
        "Not equal, yet semantically close"
      ]
    },
    {
      "cell_type": "markdown",
      "id": "b364dab8",
      "metadata": {
        "id": "b364dab8"
      },
      "source": [
        "--------------\n",
        "# Metrics:\n",
        "\n",
        "### Accuracy\n",
        "Fraction of samples with full match (hyp = ref), 1.0 = full match.\n",
        "While there are multiple equally acceptable names, 100% in accuracy would not be achievend.\n",
        "\n",
        "### Edit distance\n",
        "Minimal number of operations needed to convert predicted to reference.\n",
        "0 = full match.\n",
        "Distance has a practical meaning if we consider generation for autocomplete (number of edits after autocompletion).\n",
        "\n",
        "### CER (char error rate)\n",
        "Edit-distance(hyp, ref) / len(ref), 0.0 = full match.\n",
        "Normalized edit-distance, can be > 100% (if len(ref) < len(hyp)) but normally in [0, 1] range\n",
        "\n",
        "### BLEU\n",
        "https://en.wikipedia.org/wiki/BLEU\n",
        "Fraction of mutually encountered n-grams in hyp and ref, used in machine translation.\n",
        "More robust to word order change in method names.\n",
        "1 = full match, 0 = no match."
      ]
    },
    {
      "cell_type": "code",
      "execution_count": 35,
      "id": "2f2592f6",
      "metadata": {
        "id": "2f2592f6"
      },
      "outputs": [],
      "source": [
        "import warnings\n",
        "warnings.filterwarnings(\"ignore\")\n",
        "\n",
        "def measure(ref, hyp):\n",
        "    acc = 0\n",
        "    ed = 0\n",
        "    cer = 0\n",
        "    bleu = 0\n",
        "\n",
        "    for r, h in zip(ref, hyp):\n",
        "        acc += r == h\n",
        "        ed_ = editdistance.eval(r, h)\n",
        "        ed += ed_\n",
        "        cer +=  ed_ / len(r)\n",
        "        bleu += bleu_score.sentence_bleu([r], h)\n",
        "\n",
        "    ed /= len(ref)\n",
        "    acc /= len(ref)\n",
        "    cer /= len(ref)\n",
        "    bleu /= len(ref)\n",
        "    return {\n",
        "        \"accuracy\": acc,\n",
        "        \"editdist\": ed,\n",
        "        \"CER\": cer,\n",
        "        \"BLEU\": bleu\n",
        "    }"
      ]
    },
    {
      "cell_type": "code",
      "source": [
        "def predict_and_measure(dataset, model):\n",
        "    gt_names = dataset[\"gt_name\"]\n",
        "    predict = infer(dataset, model)\n",
        "    return measure(gt_names, predict)"
      ],
      "metadata": {
        "id": "uw9XWhqv4PEn"
      },
      "id": "uw9XWhqv4PEn",
      "execution_count": 33,
      "outputs": []
    },
    {
      "cell_type": "code",
      "source": [
        "np.array([len(t) for t in corpus[\"true_test\"][\"gt_name\"]]).mean()"
      ],
      "metadata": {
        "colab": {
          "base_uri": "https://localhost:8080/"
        },
        "id": "AFmTXiPd_Bqo",
        "outputId": "d772abba-63fc-4b21-88bb-85be0a5b96a0"
      },
      "id": "AFmTXiPd_Bqo",
      "execution_count": 48,
      "outputs": [
        {
          "output_type": "execute_result",
          "data": {
            "text/plain": [
              "6.363157894736842"
            ]
          },
          "metadata": {},
          "execution_count": 48
        }
      ]
    },
    {
      "cell_type": "code",
      "source": [
        "np.array([len(t) for t in corpus[\"test\"][\"gt_name\"]]).mean()"
      ],
      "metadata": {
        "colab": {
          "base_uri": "https://localhost:8080/"
        },
        "id": "oYpMW0zt_Q2p",
        "outputId": "cbf8e624-fd1f-4afd-9fa9-ecf2015cb6f9"
      },
      "id": "oYpMW0zt_Q2p",
      "execution_count": 49,
      "outputs": [
        {
          "output_type": "execute_result",
          "data": {
            "text/plain": [
              "15.5305"
            ]
          },
          "metadata": {},
          "execution_count": 49
        }
      ]
    },
    {
      "cell_type": "code",
      "execution_count": 37,
      "id": "eaa22eab",
      "metadata": {
        "colab": {
          "base_uri": "https://localhost:8080/"
        },
        "id": "eaa22eab",
        "outputId": "4e891d3a-8dd3-45e6-fc61-c338764e8aca",
        "scrolled": true
      },
      "outputs": [
        {
          "output_type": "stream",
          "name": "stderr",
          "text": [
            "100%|██████████| 2000/2000 [15:24<00:00,  2.16it/s]\n"
          ]
        },
        {
          "output_type": "execute_result",
          "data": {
            "text/plain": [
              "{'accuracy': 0.236,\n",
              " 'editdist': 9.967,\n",
              " 'CER': 0.7896808758193872,\n",
              " 'BLEU': 0.36287926008522287}"
            ]
          },
          "metadata": {},
          "execution_count": 37
        }
      ],
      "source": [
        "predict_and_measure(corpus[\"test\"], model)"
      ]
    },
    {
      "cell_type": "code",
      "source": [
        "predict_and_measure(corpus[\"test\"], tuned)"
      ],
      "metadata": {
        "colab": {
          "base_uri": "https://localhost:8080/"
        },
        "id": "PD6zx3179Kae",
        "outputId": "050efa18-2d72-4be3-a006-8e5b42cea8ed"
      },
      "id": "PD6zx3179Kae",
      "execution_count": 41,
      "outputs": [
        {
          "output_type": "stream",
          "name": "stderr",
          "text": [
            "100%|██████████| 2000/2000 [04:55<00:00,  6.76it/s]\n"
          ]
        },
        {
          "output_type": "execute_result",
          "data": {
            "text/plain": [
              "{'accuracy': 0.4765,\n",
              " 'editdist': 6.1955,\n",
              " 'CER': 0.4651502028088,\n",
              " 'BLEU': 0.5857547270320025}"
            ]
          },
          "metadata": {},
          "execution_count": 41
        }
      ]
    },
    {
      "cell_type": "code",
      "source": [
        "predict_and_measure(corpus[\"true_test\"], model)"
      ],
      "metadata": {
        "colab": {
          "base_uri": "https://localhost:8080/"
        },
        "id": "h76_2wSA5JVd",
        "outputId": "efc0e40f-4a06-47e0-9675-e742b69760fd"
      },
      "id": "h76_2wSA5JVd",
      "execution_count": 38,
      "outputs": [
        {
          "output_type": "stream",
          "name": "stderr",
          "text": [
            "100%|██████████| 190/190 [01:25<00:00,  2.23it/s]\n"
          ]
        },
        {
          "output_type": "execute_result",
          "data": {
            "text/plain": [
              "{'accuracy': 0.1631578947368421,\n",
              " 'editdist': 6.010526315789473,\n",
              " 'CER': 1.4803486196133047,\n",
              " 'BLEU': 0.18186189487621268}"
            ]
          },
          "metadata": {},
          "execution_count": 38
        }
      ]
    },
    {
      "cell_type": "code",
      "source": [
        "predict_and_measure(corpus[\"true_test\"], tuned)"
      ],
      "metadata": {
        "colab": {
          "base_uri": "https://localhost:8080/"
        },
        "id": "3w74EafX850R",
        "outputId": "226d85fe-4446-4099-b063-e8e7a01d87a7"
      },
      "id": "3w74EafX850R",
      "execution_count": 40,
      "outputs": [
        {
          "output_type": "stream",
          "name": "stderr",
          "text": [
            "100%|██████████| 190/190 [00:43<00:00,  4.37it/s]\n"
          ]
        },
        {
          "output_type": "execute_result",
          "data": {
            "text/plain": [
              "{'accuracy': 0.4789473684210526,\n",
              " 'editdist': 3.942105263157895,\n",
              " 'CER': 0.8729559359100696,\n",
              " 'BLEU': 0.3633304121669109}"
            ]
          },
          "metadata": {},
          "execution_count": 40
        }
      ]
    },
    {
      "cell_type": "markdown",
      "id": "9ce66250",
      "metadata": {
        "id": "9ce66250"
      },
      "source": [
        "--------------\n",
        "# Finetune"
      ]
    },
    {
      "cell_type": "markdown",
      "id": "EQDoGFXVqZjV",
      "metadata": {
        "id": "EQDoGFXVqZjV"
      },
      "source": [
        "for more concise training code we'll use HuggingFace transformers.Trainer.\n",
        "\n",
        "Firstly, we need to make a PT-tensor dataset from our corpus:"
      ]
    },
    {
      "cell_type": "code",
      "execution_count": 51,
      "id": "9645d391",
      "metadata": {
        "id": "9645d391"
      },
      "outputs": [],
      "source": [
        "def extract_tokens(row):\n",
        "    enc = tokenizer(row[\"input_str\"], max_length=MAXLEN_INP, padding=\"max_length\",\n",
        "                    return_tensors=\"pt\", truncation=True)\n",
        "    labels = tokenizer(row[\"output_str\"], max_length=MAXLEN_OUT, padding=\"max_length\",\n",
        "                       truncation=True, return_tensors=\"pt\")[\"input_ids\"]\n",
        "    for i in range(labels.shape[0]):\n",
        "        labels[i][labels[i] == tokenizer.pad_token_id] = -100\n",
        "    enc[\"labels\"] = labels\n",
        "    return enc\n"
      ]
    },
    {
      "cell_type": "code",
      "execution_count": 52,
      "id": "587c62d0",
      "metadata": {
        "colab": {
          "base_uri": "https://localhost:8080/",
          "height": 145,
          "referenced_widgets": [
            "9f7336dab6f34ffa95df6f30305db774",
            "10f1f3b04e0c4c8d8a94b3987cb52323",
            "79b1c808d5b341eab813f6c665058025",
            "8b18fd2ea33e4869beb12c880757bb82",
            "c23f4464ca2c4bb3a582b7d3cef7066f",
            "e753669284c64988bb9e40188dc67b1a",
            "2a88094ddb464ecab2fb7a63deb60029",
            "cf45d27858404524918cc6238553f10e",
            "8f200eba6e624265af52ea7596a39be8",
            "85e0afbb31284a99ba02e10b57b48544",
            "12039815863047f28c93584fc40806ba",
            "d9640752195a486eb379177cf76b546b",
            "fc03bf1a7ac7423daafca278b810a95b",
            "551f3c6e9492493387f8fb3620810223",
            "cbe6561f4838453cbac3d2b0340374cf",
            "be9289d1149542258cc31bb77fde0abd",
            "df1b9ff9efa54f689a8e17f9b42aad42",
            "d40cbb0b986b42bf8162240b01dd589f",
            "3485dd9a2a1a46ea99e2d53c5e695bf3",
            "c10fb83a8606446196101d735dce79ff",
            "a70d54f943c04dfd8e60ba2a96c7d271",
            "a362697968054c4382396f732c8e707f",
            "152fbf8040dc4a9e95ed7c68bff52834",
            "35d2bbe514554171a77c37c3fb52d463",
            "50c3b94ed8974a16877449adfd7e41f8",
            "9365a2b2add44f8baa4d78a713aec9d2",
            "35f469f697d442919312972b0c0ed363",
            "5041188059fc47f88d059649571ae645",
            "e8c60999ff334b52ad8b94f0493f5124",
            "c6fb44e495cb4e5a91c0b68570a139b5",
            "d15567ff874c4a259640e41e50037062",
            "38f1f51323384de59de81cd84d46fef1",
            "75e4bb080c824276b2e278fd9dcb5d40",
            "66ffc5c106c1409f9b0f54a33eae910c",
            "081ea9571a934af1b5abfcafb43c0594",
            "0d3ddac64a0b4a9c82d5767da9a57aa4",
            "f30c68838dba4906beff974550908514",
            "f069a1da0e0a488fa4b86060f2f82691",
            "17a91d3aa4244d78878241f29a560c15",
            "9af40456cb8a46808a75b4894d215c80",
            "a4ba2495487f4432a9554c615f9167cd",
            "35d4ba89b54d41a9bd53f6ea77916f50",
            "36b13f2e1f074851814a118998728264",
            "1cd0a8b2a2dc40209915005bebebf523"
          ]
        },
        "id": "587c62d0",
        "outputId": "c6d9e3b6-fa33-4e9f-840d-d4da7b6332ea"
      },
      "outputs": [
        {
          "output_type": "display_data",
          "data": {
            "text/plain": [
              "Map:   0%|          | 0/2000 [00:00<?, ? examples/s]"
            ],
            "application/vnd.jupyter.widget-view+json": {
              "version_major": 2,
              "version_minor": 0,
              "model_id": "9f7336dab6f34ffa95df6f30305db774"
            }
          },
          "metadata": {}
        },
        {
          "output_type": "display_data",
          "data": {
            "text/plain": [
              "Map:   0%|          | 0/1000 [00:00<?, ? examples/s]"
            ],
            "application/vnd.jupyter.widget-view+json": {
              "version_major": 2,
              "version_minor": 0,
              "model_id": "d9640752195a486eb379177cf76b546b"
            }
          },
          "metadata": {}
        },
        {
          "output_type": "display_data",
          "data": {
            "text/plain": [
              "Map:   0%|          | 0/380110 [00:00<?, ? examples/s]"
            ],
            "application/vnd.jupyter.widget-view+json": {
              "version_major": 2,
              "version_minor": 0,
              "model_id": "152fbf8040dc4a9e95ed7c68bff52834"
            }
          },
          "metadata": {}
        },
        {
          "output_type": "display_data",
          "data": {
            "text/plain": [
              "Map:   0%|          | 0/190 [00:00<?, ? examples/s]"
            ],
            "application/vnd.jupyter.widget-view+json": {
              "version_major": 2,
              "version_minor": 0,
              "model_id": "66ffc5c106c1409f9b0f54a33eae910c"
            }
          },
          "metadata": {}
        }
      ],
      "source": [
        "train_data = corpus.map(\n",
        "    extract_tokens,\n",
        "    batched=True,\n",
        "    remove_columns=corpus.column_names['train'],\n",
        "    load_from_cache_file=False\n",
        ")"
      ]
    },
    {
      "cell_type": "code",
      "execution_count": 53,
      "id": "9dc4c6ad",
      "metadata": {
        "colab": {
          "base_uri": "https://localhost:8080/",
          "height": 229,
          "referenced_widgets": [
            "ec6796245a0f4def85f0b824847ef574",
            "a4a6b15b03e04dd992aa8a1ecc6fe6c5",
            "eda9792eae0e4a8abcf5e9526bc3b278",
            "42942c27da284890882d4c0df5e93dd9",
            "c2e091d1cac84b1f9455b5fa328b1993",
            "147f584b0bc54510a994fefc1e3df2fc",
            "7e516f7c1b4b4698a25bee8675743ede",
            "ede91f20f5ea448eacecb9c960ee767f",
            "3168f4d98cd341699fd94509ad927647",
            "e5d4cfa1d53e4f2ca9e3ca2730c4d566",
            "db9341c7f57c438b9bf57688ce2b8c36",
            "f602c942f2214cb2b523648e99169d83",
            "5c0827af87ef47669ca4663d1cbc1c4b",
            "568a8119f1f94efbb40bf344487b6ac1",
            "f14c254db22c437eab4ed86c0944f3f8",
            "1fc7409b7a934899a5b5de3f2a8917b6",
            "55d81df14cee4129911f4f1563d4a027",
            "810a9299ebe14ef5a3469fb4b218b7a6",
            "3a8345123805481c93ad9a7b507b0050",
            "9c2f2e5fa36a49a19eb57d825a72938a",
            "dba516e635304ea5b4701edfb2450386",
            "f6ab86c866564f6291323fa9ab00be1a",
            "e82a8b25c42e468385399c4c77a2113b",
            "87a06717365b455eb6cd0acac49f2038",
            "95fcb19bda464b0ea0331a714fae3ac9",
            "97037c1c022a4d558acffc439fe2306a",
            "ad74df64bd7148c8bec28fd450a05296",
            "d3e6bc9de8be4b0db3924a21cd67f11e",
            "620e125d16bb46638f5bac6f8ff3ea14",
            "903d1532e3904d9498f259fc8c339183",
            "68ca4c1ebbba491e9818446a296ea59f",
            "885b60188eaf4f19a4557307eebd6d39",
            "db021f9e3f714faf8e1dba4669972472",
            "53af26289db8402a8101543a73c66339",
            "d336c4e9e9e24b0ba74713db6e1a76a0",
            "29dc06f98dbe4e18854e95d652c27b0b",
            "f72a4f4ca1124299973b115732ace698",
            "72c4989bcc0f420e9299b966699d4c41",
            "d23de6ea8ac848f284e8d7e0f208c4c2",
            "d93dd531f7fc4996aa8669c2f70817b8",
            "5e3dbf5746ae47f9800a1eba07c5c6f6",
            "3014b34f1c284e51a21e1834f6fcc413",
            "296968a5a1ae4a638483ca11f2b25612",
            "c549443b3ef14b3897eb99d9146c975d"
          ]
        },
        "id": "9dc4c6ad",
        "outputId": "8dda6965-b8b4-4558-b732-ac8b6c63e907"
      },
      "outputs": [
        {
          "output_type": "display_data",
          "data": {
            "text/plain": [
              "Saving the dataset (0/1 shards):   0%|          | 0/2000 [00:00<?, ? examples/s]"
            ],
            "application/vnd.jupyter.widget-view+json": {
              "version_major": 2,
              "version_minor": 0,
              "model_id": "ec6796245a0f4def85f0b824847ef574"
            }
          },
          "metadata": {}
        },
        {
          "output_type": "display_data",
          "data": {
            "text/plain": [
              "Saving the dataset (0/1 shards):   0%|          | 0/1000 [00:00<?, ? examples/s]"
            ],
            "application/vnd.jupyter.widget-view+json": {
              "version_major": 2,
              "version_minor": 0,
              "model_id": "f602c942f2214cb2b523648e99169d83"
            }
          },
          "metadata": {}
        },
        {
          "output_type": "display_data",
          "data": {
            "text/plain": [
              "Saving the dataset (0/2 shards):   0%|          | 0/380110 [00:00<?, ? examples/s]"
            ],
            "application/vnd.jupyter.widget-view+json": {
              "version_major": 2,
              "version_minor": 0,
              "model_id": "e82a8b25c42e468385399c4c77a2113b"
            }
          },
          "metadata": {}
        },
        {
          "output_type": "display_data",
          "data": {
            "text/plain": [
              "Saving the dataset (0/1 shards):   0%|          | 0/190 [00:00<?, ? examples/s]"
            ],
            "application/vnd.jupyter.widget-view+json": {
              "version_major": 2,
              "version_minor": 0,
              "model_id": "53af26289db8402a8101543a73c66339"
            }
          },
          "metadata": {}
        }
      ],
      "source": [
        "train_data.save_to_disk(\"tokenized_ds\")"
      ]
    },
    {
      "cell_type": "code",
      "execution_count": 54,
      "id": "jloMV02gJ0yH",
      "metadata": {
        "colab": {
          "base_uri": "https://localhost:8080/"
        },
        "id": "jloMV02gJ0yH",
        "outputId": "1da4b3e7-d620-4578-b4f5-d8011a8663b6"
      },
      "outputs": [
        {
          "output_type": "stream",
          "name": "stdout",
          "text": [
            "<s>private void<extra_id_0>() {\n",
            "    if (! myProbableIterator.hasNext()) {\n",
            "      myPreCalculated = null;\n",
            "    } else {\n",
            "      myPreCalculated = myProbableIterator.next();\n",
            "    }\n",
            "  }</s><pad><pad><pad><pad><pad><pad><pad><pad><pad><pad><pad><pad><pad><pad><pad><pad><pad><pad><pad><pad><pad><pad><pad><pad><pad><pad><pad><pad><pad><pad><pad><pad><pad><pad><pad><pad><pad><pad><pad><pad><pad><pad><pad><pad><pad><pad><pad><pad><pad><pad><pad><pad><pad><pad><pad><pad><pad><pad><pad><pad><pad><pad><pad><pad><pad><pad><pad><pad><pad><pad><pad><pad><pad><pad><pad><pad><pad><pad><pad><pad><pad><pad><pad><pad><pad><pad><pad><pad><pad><pad><pad><pad><pad><pad><pad><pad><pad><pad><pad><pad><pad><pad><pad><pad><pad><pad><pad><pad><pad><pad><pad><pad><pad><pad><pad><pad><pad><pad><pad><pad><pad><pad><pad><pad><pad><pad><pad><pad><pad><pad><pad><pad><pad><pad><pad><pad><pad><pad><pad><pad><pad><pad><pad><pad><pad><pad><pad><pad><pad><pad><pad><pad><pad><pad><pad><pad><pad><pad><pad><pad><pad><pad><pad><pad><pad><pad><pad><pad><pad><pad><pad><pad><pad><pad><pad><pad><pad><pad><pad><pad><pad><pad><pad><pad><pad><pad><pad><pad><pad><pad><pad><pad><pad><pad><pad><pad><pad><pad><pad><pad><pad><pad>\n",
            "<s><extra_id_0>step</s><pad><pad><pad><pad><pad><pad><pad><pad><pad><pad><pad><pad><pad><pad><pad><pad><pad><pad><pad><pad>\n"
          ]
        }
      ],
      "source": [
        "print(tokenizer.decode(train_data[\"train\"][0][\"input_ids\"]))\n",
        "print(tokenizer.decode([id if id != -100 else 0 for id in train_data[\"train\"][0][\"labels\"]]))"
      ]
    },
    {
      "cell_type": "code",
      "execution_count": null,
      "id": "VRPqHtGqIoef",
      "metadata": {
        "colab": {
          "base_uri": "https://localhost:8080/",
          "height": 447
        },
        "id": "VRPqHtGqIoef",
        "outputId": "42e3019b-16c8-4d50-e788-931a6ca1b9b6"
      },
      "outputs": [
        {
          "name": "stdout",
          "output_type": "stream",
          "text": [
            "% of samples with output >= 24 tokens: 0.0036831443529504616\n"
          ]
        },
        {
          "data": {
            "image/png": "[encoded data removed]",
            "text/plain": [
              "<Figure size 640x480 with 1 Axes>"
            ]
          },
          "metadata": {},
          "output_type": "display_data"
        }
      ],
      "source": [
        "outlen = train_data.with_format(\"torch\")[\"train\"][\"labels\"]\n",
        "outlen = (outlen != -100).sum(axis=1).numpy()\n",
        "plt.hist(outlen, bins=20);\n",
        "print(f\"% of samples with output >= {MAXLEN_OUT} tokens:\", (outlen >= MAXLEN_OUT).mean()*100)\n"
      ]
    },
    {
      "cell_type": "code",
      "execution_count": null,
      "id": "5iE9DqTlJnU6",
      "metadata": {
        "colab": {
          "base_uri": "https://localhost:8080/",
          "height": 447
        },
        "id": "5iE9DqTlJnU6",
        "outputId": "18ada1cf-4a95-40b4-b222-94c8ee32996c"
      },
      "outputs": [
        {
          "name": "stdout",
          "output_type": "stream",
          "text": [
            "% of samples with input >= 256 tokens: 7.023230117597537\n"
          ]
        },
        {
          "data": {
            "image/png": "[encoded data removed]",
            "text/plain": [
              "<Figure size 640x480 with 1 Axes>"
            ]
          },
          "metadata": {},
          "output_type": "display_data"
        }
      ],
      "source": [
        "inplen = train_data.with_format(\"torch\")[\"train\"][\"input_ids\"]\n",
        "inplen = (inplen != 0).sum(axis=1).numpy()\n",
        "plt.hist(inplen, bins=20);\n",
        "print(f\"% of samples with input >= {MAXLEN_INP} tokens:\", (inplen >= MAXLEN_INP).mean()*100)"
      ]
    },
    {
      "cell_type": "code",
      "execution_count": null,
      "id": "OrBsblAhL4Qu",
      "metadata": {
        "colab": {
          "base_uri": "https://localhost:8080/"
        },
        "id": "OrBsblAhL4Qu",
        "outputId": "f0eac4f3-d74c-4e6b-959f-066194390f35"
      },
      "outputs": [
        {
          "name": "stdout",
          "output_type": "stream",
          "text": [
            "% of total cut train samples: 7.027439425429481\n"
          ]
        }
      ],
      "source": [
        "import numpy as np\n",
        "print(\n",
        "    \"% of total cut train samples:\",\n",
        "    np.logical_or((outlen >= MAXLEN_OUT), (inplen >= MAXLEN_INP)).mean()*100\n",
        ")"
      ]
    },
    {
      "cell_type": "markdown",
      "id": "a2ikZpRlgCiD",
      "metadata": {
        "id": "a2ikZpRlgCiD"
      },
      "source": [
        "---------"
      ]
    },
    {
      "cell_type": "code",
      "execution_count": 55,
      "id": "4O881WbDquGG",
      "metadata": {
        "id": "4O881WbDquGG"
      },
      "outputs": [],
      "source": [
        "# based on CodeT5+ (repo) fineture setup\n",
        "training_args = TrainingArguments(\n",
        "      report_to=\"tensorboard\",\n",
        "      output_dir=\"finetune\",\n",
        "      overwrite_output_dir=False,\n",
        "\n",
        "      do_train=True,\n",
        "\n",
        "      max_steps=5000, # shorter version for brief experiments on GColab\n",
        "      per_device_train_batch_size=16,\n",
        "      gradient_accumulation_steps=4,\n",
        "\n",
        "      eval_steps=100,\n",
        "      evaluation_strategy=\"steps\",\n",
        "\n",
        "      learning_rate=5e-5,\n",
        "      weight_decay=0.05,\n",
        "      warmup_steps=200,\n",
        "\n",
        "      logging_dir=\"finetune\",\n",
        "      logging_first_step=True,\n",
        "      logging_steps=50,\n",
        "      save_total_limit=1,\n",
        "      save_strategy=\"steps\",\n",
        "      save_steps=100,\n",
        "\n",
        "      dataloader_drop_last=True,\n",
        "      dataloader_num_workers=2,\n",
        "      fp16=False,\n",
        "\n",
        "      load_best_model_at_end=True,\n",
        "      metric_for_best_model=\"eval_loss\"\n",
        ")"
      ]
    },
    {
      "cell_type": "code",
      "execution_count": 56,
      "id": "oeieGg-6_J8D",
      "metadata": {
        "colab": {
          "base_uri": "https://localhost:8080/"
        },
        "id": "oeieGg-6_J8D",
        "outputId": "046f3ec2-d662-4b14-d0bb-58b981dcfa5e"
      },
      "outputs": [
        {
          "output_type": "execute_result",
          "data": {
            "text/plain": [
              "device(type='cuda')"
            ]
          },
          "metadata": {},
          "execution_count": 56
        }
      ],
      "source": [
        "# reset model (for experiments)\n",
        "!rm -rf finetune\n",
        "model_cpkt = 'Salesforce/codet5p-220m'\n",
        "model = AutoModelForSeq2SeqLM.from_pretrained(model_cpkt, trust_remote_code=True)\n",
        "model.to(DEVICE)\n",
        "DEVICE"
      ]
    },
    {
      "cell_type": "code",
      "execution_count": 57,
      "id": "Qwz8Qzlvx6mM",
      "metadata": {
        "id": "Qwz8Qzlvx6mM"
      },
      "outputs": [],
      "source": [
        "trainer = Trainer(model=model, args=training_args,\n",
        "                  train_dataset=train_data[\"train\"],\n",
        "                  eval_dataset=train_data[\"validation\"])"
      ]
    },
    {
      "cell_type": "code",
      "source": [
        "trainer.evaluate(train_data[\"test\"])"
      ],
      "metadata": {
        "colab": {
          "base_uri": "https://localhost:8080/",
          "height": 107
        },
        "id": "Q8LHR3ScBJrZ",
        "outputId": "e28406c6-9260-4d57-d390-ad0d75104542"
      },
      "id": "Q8LHR3ScBJrZ",
      "execution_count": 61,
      "outputs": [
        {
          "output_type": "display_data",
          "data": {
            "text/plain": [
              "<IPython.core.display.HTML object>"
            ],
            "text/html": [
              "\n",
              "    <div>\n",
              "      \n",
              "      <progress value='547' max='125' style='width:300px; height:20px; vertical-align: middle;'></progress>\n",
              "      [125/125 02:18]\n",
              "    </div>\n",
              "    "
            ]
          },
          "metadata": {}
        },
        {
          "output_type": "execute_result",
          "data": {
            "text/plain": [
              "{'eval_loss': 8.956530570983887,\n",
              " 'eval_runtime': 22.6759,\n",
              " 'eval_samples_per_second': 88.199,\n",
              " 'eval_steps_per_second': 11.025}"
            ]
          },
          "metadata": {},
          "execution_count": 61
        }
      ]
    },
    {
      "cell_type": "code",
      "source": [
        "\n",
        "trainer.evaluate(train_data[\"true_test\"])"
      ],
      "metadata": {
        "colab": {
          "base_uri": "https://localhost:8080/",
          "height": 107
        },
        "id": "q0mgC2aJBpg6",
        "outputId": "69918eae-0766-4fdb-ba7c-ef635505c1e5"
      },
      "id": "q0mgC2aJBpg6",
      "execution_count": 62,
      "outputs": [
        {
          "output_type": "display_data",
          "data": {
            "text/plain": [
              "<IPython.core.display.HTML object>"
            ],
            "text/html": [
              "\n",
              "    <div>\n",
              "      \n",
              "      <progress value='570' max='125' style='width:300px; height:20px; vertical-align: middle;'></progress>\n",
              "      [125/125 02:38]\n",
              "    </div>\n",
              "    "
            ]
          },
          "metadata": {}
        },
        {
          "output_type": "execute_result",
          "data": {
            "text/plain": [
              "{'eval_loss': 11.30891227722168,\n",
              " 'eval_runtime': 1.4115,\n",
              " 'eval_samples_per_second': 134.609,\n",
              " 'eval_steps_per_second': 17.003}"
            ]
          },
          "metadata": {},
          "execution_count": 62
        }
      ]
    },
    {
      "cell_type": "code",
      "execution_count": null,
      "id": "UTNaaui_bjA5",
      "metadata": {
        "colab": {
          "base_uri": "https://localhost:8080/",
          "height": 1000
        },
        "id": "UTNaaui_bjA5",
        "outputId": "8a0c5d0b-1ec0-427f-a579-d593a2410c15"
      },
      "outputs": [
        {
          "data": {
            "text/html": [
              "\n",
              "    <div>\n",
              "      \n",
              "      <progress value='3200' max='5000' style='width:300px; height:20px; vertical-align: middle;'></progress>\n",
              "      [3200/5000 1:14:43 < 42:03, 0.71 it/s, Epoch 0.54/1]\n",
              "    </div>\n",
              "    <table border=\"1\" class=\"dataframe\">\n",
              "  <thead>\n",
              " <tr style=\"text-align: left;\">\n",
              "      <th>Step</th>\n",
              "      <th>Training Loss</th>\n",
              "      <th>Validation Loss</th>\n",
              "    </tr>\n",
              "  </thead>\n",
              "  <tbody>\n",
              "    <tr>\n",
              "      <td>100</td>\n",
              "      <td>1.392200</td>\n",
              "      <td>1.256332</td>\n",
              "    </tr>\n",
              "    <tr>\n",
              "      <td>200</td>\n",
              "      <td>1.279200</td>\n",
              "      <td>1.226859</td>\n",
              "    </tr>\n",
              "    <tr>\n",
              "      <td>300</td>\n",
              "      <td>1.243300</td>\n",
              "      <td>1.191378</td>\n",
              "    </tr>\n",
              "    <tr>\n",
              "      <td>400</td>\n",
              "      <td>1.181800</td>\n",
              "      <td>1.181262</td>\n",
              "    </tr>\n",
              "    <tr>\n",
              "      <td>500</td>\n",
              "      <td>1.147300</td>\n",
              "      <td>1.162560</td>\n",
              "    </tr>\n",
              "    <tr>\n",
              "      <td>600</td>\n",
              "      <td>1.148300</td>\n",
              "      <td>1.146077</td>\n",
              "    </tr>\n",
              "    <tr>\n",
              "      <td>700</td>\n",
              "      <td>1.115800</td>\n",
              "      <td>1.129950</td>\n",
              "    </tr>\n",
              "    <tr>\n",
              "      <td>800</td>\n",
              "      <td>1.145900</td>\n",
              "      <td>1.121999</td>\n",
              "    </tr>\n",
              "    <tr>\n",
              "      <td>900</td>\n",
              "      <td>1.149300</td>\n",
              "      <td>1.107351</td>\n",
              "    </tr>\n",
              "    <tr>\n",
              "      <td>1000</td>\n",
              "      <td>1.144300</td>\n",
              "      <td>1.096588</td>\n",
              "    </tr>\n",
              "    <tr>\n",
              "      <td>1100</td>\n",
              "      <td>1.100200</td>\n",
              "      <td>1.096334</td>\n",
              "    </tr>\n",
              "    <tr>\n",
              "      <td>1200</td>\n",
              "      <td>1.078900</td>\n",
              "      <td>1.083799</td>\n",
              "    </tr>\n",
              "    <tr>\n",
              "      <td>1300</td>\n",
              "      <td>1.115100</td>\n",
              "      <td>1.075196</td>\n",
              "    </tr>\n",
              "    <tr>\n",
              "      <td>1400</td>\n",
              "      <td>1.091900</td>\n",
              "      <td>1.078512</td>\n",
              "    </tr>\n",
              "    <tr>\n",
              "      <td>1500</td>\n",
              "      <td>1.091200</td>\n",
              "      <td>1.059823</td>\n",
              "    </tr>\n",
              "    <tr>\n",
              "      <td>1600</td>\n",
              "      <td>1.048800</td>\n",
              "      <td>1.052619</td>\n",
              "    </tr>\n",
              "    <tr>\n",
              "      <td>1700</td>\n",
              "      <td>1.072600</td>\n",
              "      <td>1.045569</td>\n",
              "    </tr>\n",
              "    <tr>\n",
              "      <td>1800</td>\n",
              "      <td>1.017500</td>\n",
              "      <td>1.040641</td>\n",
              "    </tr>\n",
              "    <tr>\n",
              "      <td>1900</td>\n",
              "      <td>1.020600</td>\n",
              "      <td>1.036264</td>\n",
              "    </tr>\n",
              "    <tr>\n",
              "      <td>2000</td>\n",
              "      <td>1.072200</td>\n",
              "      <td>1.024694</td>\n",
              "    </tr>\n",
              "    <tr>\n",
              "      <td>2100</td>\n",
              "      <td>1.021800</td>\n",
              "      <td>1.025971</td>\n",
              "    </tr>\n",
              "    <tr>\n",
              "      <td>2200</td>\n",
              "      <td>1.055300</td>\n",
              "      <td>1.019351</td>\n",
              "    </tr>\n",
              "    <tr>\n",
              "      <td>2300</td>\n",
              "      <td>1.026200</td>\n",
              "      <td>1.008170</td>\n",
              "    </tr>\n",
              "    <tr>\n",
              "      <td>2400</td>\n",
              "      <td>0.975200</td>\n",
              "      <td>1.005078</td>\n",
              "    </tr>\n",
              "    <tr>\n",
              "      <td>2500</td>\n",
              "      <td>1.011100</td>\n",
              "      <td>1.005860</td>\n",
              "    </tr>\n",
              "    <tr>\n",
              "      <td>2600</td>\n",
              "      <td>1.029400</td>\n",
              "      <td>0.997296</td>\n",
              "    </tr>\n",
              "    <tr>\n",
              "      <td>2700</td>\n",
              "      <td>1.011300</td>\n",
              "      <td>0.989043</td>\n",
              "    </tr>\n",
              "    <tr>\n",
              "      <td>2800</td>\n",
              "      <td>1.032300</td>\n",
              "      <td>0.982553</td>\n",
              "    </tr>\n",
              "    <tr>\n",
              "      <td>2900</td>\n",
              "      <td>0.990500</td>\n",
              "      <td>0.981876</td>\n",
              "    </tr>\n",
              "    <tr>\n",
              "      <td>3000</td>\n",
              "      <td>0.979800</td>\n",
              "      <td>0.977098</td>\n",
              "    </tr>\n",
              "    <tr>\n",
              "      <td>3100</td>\n",
              "      <td>1.013900</td>\n",
              "      <td>0.977519</td>\n",
              "    </tr>\n",
              "  </tbody>\n",
              "</table><p>"
            ],
            "text/plain": [
              "<IPython.core.display.HTML object>"
            ]
          },
          "metadata": {},
          "output_type": "display_data"
        },
        {
          "data": {
            "text/html": [
              "\n",
              "    <div>\n",
              "      \n",
              "      <progress value='5000' max='5000' style='width:300px; height:20px; vertical-align: middle;'></progress>\n",
              "      [5000/5000 1:58:00, Epoch 0/1]\n",
              "    </div>\n",
              "    <table border=\"1\" class=\"dataframe\">\n",
              "  <thead>\n",
              " <tr style=\"text-align: left;\">\n",
              "      <th>Step</th>\n",
              "      <th>Training Loss</th>\n",
              "      <th>Validation Loss</th>\n",
              "    </tr>\n",
              "  </thead>\n",
              "  <tbody>\n",
              "    <tr>\n",
              "      <td>100</td>\n",
              "      <td>1.392200</td>\n",
              "      <td>1.256332</td>\n",
              "    </tr>\n",
              "    <tr>\n",
              "      <td>200</td>\n",
              "      <td>1.279200</td>\n",
              "      <td>1.226859</td>\n",
              "    </tr>\n",
              "    <tr>\n",
              "      <td>300</td>\n",
              "      <td>1.243300</td>\n",
              "      <td>1.191378</td>\n",
              "    </tr>\n",
              "    <tr>\n",
              "      <td>400</td>\n",
              "      <td>1.181800</td>\n",
              "      <td>1.181262</td>\n",
              "    </tr>\n",
              "    <tr>\n",
              "      <td>500</td>\n",
              "      <td>1.147300</td>\n",
              "      <td>1.162560</td>\n",
              "    </tr>\n",
              "    <tr>\n",
              "      <td>600</td>\n",
              "      <td>1.148300</td>\n",
              "      <td>1.146077</td>\n",
              "    </tr>\n",
              "    <tr>\n",
              "      <td>700</td>\n",
              "      <td>1.115800</td>\n",
              "      <td>1.129950</td>\n",
              "    </tr>\n",
              "    <tr>\n",
              "      <td>800</td>\n",
              "      <td>1.145900</td>\n",
              "      <td>1.121999</td>\n",
              "    </tr>\n",
              "    <tr>\n",
              "      <td>900</td>\n",
              "      <td>1.149300</td>\n",
              "      <td>1.107351</td>\n",
              "    </tr>\n",
              "    <tr>\n",
              "      <td>1000</td>\n",
              "      <td>1.144300</td>\n",
              "      <td>1.096588</td>\n",
              "    </tr>\n",
              "    <tr>\n",
              "      <td>1100</td>\n",
              "      <td>1.100200</td>\n",
              "      <td>1.096334</td>\n",
              "    </tr>\n",
              "    <tr>\n",
              "      <td>1200</td>\n",
              "      <td>1.078900</td>\n",
              "      <td>1.083799</td>\n",
              "    </tr>\n",
              "    <tr>\n",
              "      <td>1300</td>\n",
              "      <td>1.115100</td>\n",
              "      <td>1.075196</td>\n",
              "    </tr>\n",
              "    <tr>\n",
              "      <td>1400</td>\n",
              "      <td>1.091900</td>\n",
              "      <td>1.078512</td>\n",
              "    </tr>\n",
              "    <tr>\n",
              "      <td>1500</td>\n",
              "      <td>1.091200</td>\n",
              "      <td>1.059823</td>\n",
              "    </tr>\n",
              "    <tr>\n",
              "      <td>1600</td>\n",
              "      <td>1.048800</td>\n",
              "      <td>1.052619</td>\n",
              "    </tr>\n",
              "    <tr>\n",
              "      <td>1700</td>\n",
              "      <td>1.072600</td>\n",
              "      <td>1.045569</td>\n",
              "    </tr>\n",
              "    <tr>\n",
              "      <td>1800</td>\n",
              "      <td>1.017500</td>\n",
              "      <td>1.040641</td>\n",
              "    </tr>\n",
              "    <tr>\n",
              "      <td>1900</td>\n",
              "      <td>1.020600</td>\n",
              "      <td>1.036264</td>\n",
              "    </tr>\n",
              "    <tr>\n",
              "      <td>2000</td>\n",
              "      <td>1.072200</td>\n",
              "      <td>1.024694</td>\n",
              "    </tr>\n",
              "    <tr>\n",
              "      <td>2100</td>\n",
              "      <td>1.021800</td>\n",
              "      <td>1.025971</td>\n",
              "    </tr>\n",
              "    <tr>\n",
              "      <td>2200</td>\n",
              "      <td>1.055300</td>\n",
              "      <td>1.019351</td>\n",
              "    </tr>\n",
              "    <tr>\n",
              "      <td>2300</td>\n",
              "      <td>1.026200</td>\n",
              "      <td>1.008170</td>\n",
              "    </tr>\n",
              "    <tr>\n",
              "      <td>2400</td>\n",
              "      <td>0.975200</td>\n",
              "      <td>1.005078</td>\n",
              "    </tr>\n",
              "    <tr>\n",
              "      <td>2500</td>\n",
              "      <td>1.011100</td>\n",
              "      <td>1.005860</td>\n",
              "    </tr>\n",
              "    <tr>\n",
              "      <td>2600</td>\n",
              "      <td>1.029400</td>\n",
              "      <td>0.997296</td>\n",
              "    </tr>\n",
              "    <tr>\n",
              "      <td>2700</td>\n",
              "      <td>1.011300</td>\n",
              "      <td>0.989043</td>\n",
              "    </tr>\n",
              "    <tr>\n",
              "      <td>2800</td>\n",
              "      <td>1.032300</td>\n",
              "      <td>0.982553</td>\n",
              "    </tr>\n",
              "    <tr>\n",
              "      <td>2900</td>\n",
              "      <td>0.990500</td>\n",
              "      <td>0.981876</td>\n",
              "    </tr>\n",
              "    <tr>\n",
              "      <td>3000</td>\n",
              "      <td>0.979800</td>\n",
              "      <td>0.977098</td>\n",
              "    </tr>\n",
              "    <tr>\n",
              "      <td>3100</td>\n",
              "      <td>1.013900</td>\n",
              "      <td>0.977519</td>\n",
              "    </tr>\n",
              "    <tr>\n",
              "      <td>3200</td>\n",
              "      <td>0.987000</td>\n",
              "      <td>0.973357</td>\n",
              "    </tr>\n",
              "    <tr>\n",
              "      <td>3300</td>\n",
              "      <td>0.960700</td>\n",
              "      <td>0.962355</td>\n",
              "    </tr>\n",
              "    <tr>\n",
              "      <td>3400</td>\n",
              "      <td>0.946800</td>\n",
              "      <td>0.960525</td>\n",
              "    </tr>\n",
              "    <tr>\n",
              "      <td>3500</td>\n",
              "      <td>0.949500</td>\n",
              "      <td>0.959143</td>\n",
              "    </tr>\n",
              "    <tr>\n",
              "      <td>3600</td>\n",
              "      <td>0.964000</td>\n",
              "      <td>0.951588</td>\n",
              "    </tr>\n",
              "    <tr>\n",
              "      <td>3700</td>\n",
              "      <td>0.966900</td>\n",
              "      <td>0.951315</td>\n",
              "    </tr>\n",
              "    <tr>\n",
              "      <td>3800</td>\n",
              "      <td>0.972300</td>\n",
              "      <td>0.948082</td>\n",
              "    </tr>\n",
              "    <tr>\n",
              "      <td>3900</td>\n",
              "      <td>0.978900</td>\n",
              "      <td>0.944517</td>\n",
              "    </tr>\n",
              "    <tr>\n",
              "      <td>4000</td>\n",
              "      <td>0.951800</td>\n",
              "      <td>0.941944</td>\n",
              "    </tr>\n",
              "    <tr>\n",
              "      <td>4100</td>\n",
              "      <td>0.999000</td>\n",
              "      <td>0.941585</td>\n",
              "    </tr>\n",
              "    <tr>\n",
              "      <td>4200</td>\n",
              "      <td>0.981000</td>\n",
              "      <td>0.941972</td>\n",
              "    </tr>\n",
              "    <tr>\n",
              "      <td>4300</td>\n",
              "      <td>0.976000</td>\n",
              "      <td>0.938457</td>\n",
              "    </tr>\n",
              "    <tr>\n",
              "      <td>4400</td>\n",
              "      <td>0.948000</td>\n",
              "      <td>0.933793</td>\n",
              "    </tr>\n",
              "    <tr>\n",
              "      <td>4500</td>\n",
              "      <td>0.965300</td>\n",
              "      <td>0.933686</td>\n",
              "    </tr>\n",
              "    <tr>\n",
              "      <td>4600</td>\n",
              "      <td>0.937400</td>\n",
              "      <td>0.931843</td>\n",
              "    </tr>\n",
              "    <tr>\n",
              "      <td>4700</td>\n",
              "      <td>0.989900</td>\n",
              "      <td>0.930130</td>\n",
              "    </tr>\n",
              "    <tr>\n",
              "      <td>4800</td>\n",
              "      <td>0.932900</td>\n",
              "      <td>0.929243</td>\n",
              "    </tr>\n",
              "    <tr>\n",
              "      <td>4900</td>\n",
              "      <td>1.024600</td>\n",
              "      <td>0.927751</td>\n",
              "    </tr>\n",
              "    <tr>\n",
              "      <td>5000</td>\n",
              "      <td>0.934600</td>\n",
              "      <td>0.927994</td>\n",
              "    </tr>\n",
              "  </tbody>\n",
              "</table><p>"
            ],
            "text/plain": [
              "<IPython.core.display.HTML object>"
            ]
          },
          "metadata": {},
          "output_type": "display_data"
        },
        {
          "name": "stderr",
          "output_type": "stream",
          "text": [
            "There were missing keys in the checkpoint model loaded: ['encoder.embed_tokens.weight', 'decoder.embed_tokens.weight', 'lm_head.weight'].\n"
          ]
        },
        {
          "data": {
            "text/plain": [
              "TrainOutput(global_step=5000, training_loss=1.0746742685317994, metrics={'train_runtime': 7081.9986, 'train_samples_per_second': 45.185, 'train_steps_per_second': 0.706, 'total_flos': 9.74332624896e+16, 'train_loss': 1.0746742685317994, 'epoch': 0.84})"
            ]
          },
          "execution_count": 182,
          "metadata": {},
          "output_type": "execute_result"
        }
      ],
      "source": [
        "trainer.train()"
      ]
    },
    {
      "cell_type": "code",
      "execution_count": null,
      "id": "uqBhey1fUxOv",
      "metadata": {
        "colab": {
          "base_uri": "https://localhost:8080/",
          "height": 124
        },
        "id": "uqBhey1fUxOv",
        "outputId": "d87a9782-5895-47ec-a298-2a070655c6bf"
      },
      "outputs": [
        {
          "data": {
            "text/html": [
              "\n",
              "    <div>\n",
              "      \n",
              "      <progress value='125' max='125' style='width:300px; height:20px; vertical-align: middle;'></progress>\n",
              "      [125/125 00:11]\n",
              "    </div>\n",
              "    "
            ],
            "text/plain": [
              "<IPython.core.display.HTML object>"
            ]
          },
          "metadata": {},
          "output_type": "display_data"
        },
        {
          "data": {
            "text/plain": [
              "{'eval_loss': 0.9277512431144714,\n",
              " 'eval_runtime': 12.3036,\n",
              " 'eval_samples_per_second': 81.277,\n",
              " 'eval_steps_per_second': 10.16,\n",
              " 'epoch': 0.84}"
            ]
          },
          "execution_count": 183,
          "metadata": {},
          "output_type": "execute_result"
        }
      ],
      "source": [
        "trainer.evaluate()"
      ]
    },
    {
      "cell_type": "code",
      "source": [
        "trainer = Trainer(model=tuned, args=training_args,\n",
        "                  train_dataset=train_data[\"train\"],\n",
        "                  eval_dataset=train_data[\"validation\"])"
      ],
      "metadata": {
        "id": "0ENIiLCbB3ot"
      },
      "id": "0ENIiLCbB3ot",
      "execution_count": 63,
      "outputs": []
    },
    {
      "cell_type": "code",
      "source": [
        "trainer.evaluate(train_data[\"test\"])"
      ],
      "metadata": {
        "colab": {
          "base_uri": "https://localhost:8080/",
          "height": 107
        },
        "id": "CWVla_qCB5iw",
        "outputId": "e135afa6-6f0b-4e26-cabf-4178e5fff341"
      },
      "id": "CWVla_qCB5iw",
      "execution_count": 64,
      "outputs": [
        {
          "output_type": "display_data",
          "data": {
            "text/plain": [
              "<IPython.core.display.HTML object>"
            ],
            "text/html": [
              "\n",
              "    <div>\n",
              "      \n",
              "      <progress value='250' max='250' style='width:300px; height:20px; vertical-align: middle;'></progress>\n",
              "      [250/250 00:21]\n",
              "    </div>\n",
              "    "
            ]
          },
          "metadata": {}
        },
        {
          "output_type": "execute_result",
          "data": {
            "text/plain": [
              "{'eval_loss': 0.9121536612510681,\n",
              " 'eval_runtime': 21.8081,\n",
              " 'eval_samples_per_second': 91.709,\n",
              " 'eval_steps_per_second': 11.464}"
            ]
          },
          "metadata": {},
          "execution_count": 64
        }
      ]
    },
    {
      "cell_type": "code",
      "source": [
        "trainer.evaluate(train_data[\"true_test\"])"
      ],
      "metadata": {
        "colab": {
          "base_uri": "https://localhost:8080/",
          "height": 107
        },
        "id": "0z6brgInB92L",
        "outputId": "cc94d847-b270-48b3-8af4-44f7de776f11"
      },
      "id": "0z6brgInB92L",
      "execution_count": 65,
      "outputs": [
        {
          "output_type": "display_data",
          "data": {
            "text/plain": [
              "<IPython.core.display.HTML object>"
            ],
            "text/html": [
              "\n",
              "    <div>\n",
              "      \n",
              "      <progress value='273' max='250' style='width:300px; height:20px; vertical-align: middle;'></progress>\n",
              "      [250/250 00:24]\n",
              "    </div>\n",
              "    "
            ]
          },
          "metadata": {}
        },
        {
          "output_type": "execute_result",
          "data": {
            "text/plain": [
              "{'eval_loss': 0.7454847097396851,\n",
              " 'eval_runtime': 2.7463,\n",
              " 'eval_samples_per_second': 69.184,\n",
              " 'eval_steps_per_second': 8.739}"
            ]
          },
          "metadata": {},
          "execution_count": 65
        }
      ]
    },
    {
      "cell_type": "markdown",
      "id": "vtw3Xawrdm7P",
      "metadata": {
        "id": "vtw3Xawrdm7P"
      },
      "source": [
        "---------\n",
        "Evaluate the funetuned:"
      ]
    },
    {
      "cell_type": "code",
      "execution_count": null,
      "id": "0VFn3GwvjMex",
      "metadata": {
        "id": "0VFn3GwvjMex"
      },
      "outputs": [],
      "source": [
        "tuned = model\n",
        "tuned.save_pretrained(\"tuned\")"
      ]
    },
    {
      "cell_type": "markdown",
      "id": "5siwUqplq_mU",
      "metadata": {
        "id": "5siwUqplq_mU"
      },
      "source": [
        "-----------\n",
        "and let's measure the finetuned model:"
      ]
    },
    {
      "cell_type": "code",
      "execution_count": null,
      "id": "Rd3K2yyyCh7r",
      "metadata": {
        "colab": {
          "base_uri": "https://localhost:8080/"
        },
        "id": "Rd3K2yyyCh7r",
        "outputId": "e4315c7e-a9f7-44aa-e0d6-c9bd5ef201a6"
      },
      "outputs": [
        {
          "output_type": "stream",
          "name": "stderr",
          "text": [
            "100%|██████████| 2000/2000 [05:12<00:00,  6.40it/s]\n"
          ]
        },
        {
          "output_type": "execute_result",
          "data": {
            "text/plain": [
              "{'accuracy': 0.4765,\n",
              " 'editdist': 6.1955,\n",
              " 'CER': 0.003097749999999987,\n",
              " 'BLEU': 0.5857547270320025}"
            ]
          },
          "metadata": {},
          "execution_count": 32
        }
      ],
      "source": [
        "gt_names = corpus[\"test\"][\"gt_name\"]\n",
        "predict = infer(corpus[\"test\"], tuned)\n",
        "measure(gt_names, predict)"
      ]
    },
    {
      "cell_type": "markdown",
      "source": [
        "The accuracy increased more than **x2**\n",
        "\n",
        "CER and BLEU enhanced **x1.5**\n",
        "\n",
        "Seems that, firstly, our net tuned to fix minor issues in names and be more aligned with naming codestyle."
      ],
      "metadata": {
        "id": "tW-xYOsH__Nj"
      },
      "id": "tW-xYOsH__Nj"
    },
    {
      "cell_type": "code",
      "execution_count": null,
      "id": "ca94bf51",
      "metadata": {
        "colab": {
          "base_uri": "https://localhost:8080/"
        },
        "id": "ca94bf51",
        "outputId": "c179e419-cd7a-4761-b1cd-577f2135f0d4"
      },
      "outputs": [
        {
          "output_type": "stream",
          "name": "stderr",
          "text": [
            "100%|██████████| 10/10 [00:02<00:00,  4.08it/s]\n"
          ]
        }
      ],
      "source": [
        "gt_names = corpus[\"test\"][\"gt_name\"]\n",
        "predict = infer(corpus[\"test\"].select(range(10)), tuned)"
      ]
    },
    {
      "cell_type": "markdown",
      "id": "nGTjNJdWW6ob",
      "metadata": {
        "id": "nGTjNJdWW6ob"
      },
      "source": [
        "Let's have a look at the generated names:"
      ]
    },
    {
      "cell_type": "code",
      "source": [
        "ntr = set(corpus[\"train\"][\"gt_name\"])\n",
        "nte = set(corpus[\"test\"][\"gt_name\"])"
      ],
      "metadata": {
        "id": "yzVSI_Mk9Yud"
      },
      "id": "yzVSI_Mk9Yud",
      "execution_count": null,
      "outputs": []
    },
    {
      "cell_type": "code",
      "execution_count": null,
      "id": "oBw3SdZ2nZtl",
      "metadata": {
        "colab": {
          "base_uri": "https://localhost:8080/"
        },
        "id": "oBw3SdZ2nZtl",
        "outputId": "934232a5-241f-4c57-e9ee-924f1d966c6f",
        "scrolled": true
      },
      "outputs": [
        {
          "output_type": "stream",
          "name": "stdout",
          "text": [
            "### @TestMetadata(\"correctVararg.kt\")\n",
            "###                 public void testCorrectVararg() throws Exception {\n",
            "###                     runTest(\"testData/inspectionsLocal/mainFunctionReturnUnit/insideObject/correctV...\n",
            "name = testCorrectVararg\n",
            "predict = testCorrectVararg\n",
            "\n",
            "\n",
            "### @Override\n",
            "###         public void onMessage(@NotNull PsiElement context, @NotNull String message) {\n",
            "###           myHost.addMessage(context, message, Validator.ValidationHost.ErrorType.WARNING);\n",
            "###         }\n",
            "name = onMessage\n",
            "predict = addMessage\n",
            "\n",
            "\n",
            "### public void method(int anObject) {\n",
            "###         System.out.println(anObject);\n",
            "###         System.out.println(this.anObject);\n",
            "###     }\n",
            "name = method\n",
            "predict = setAnObject\n",
            "\n",
            "\n",
            "### private void closePreviousScenarios() {\n",
            "###     closeScenario();\n",
            "###     closeScenarioOutline();\n",
            "###   }\n",
            "name = closePreviousScenarios\n",
            "predict = closeAllScenarios\n",
            "\n",
            "\n",
            "### private static void useMethodInsteadOfRedundantCall(String methodToUse, PsiMethodCallExpression redundantCall) {\n",
            "###     PsiMethodCallExpression equalsCall = PsiTreeUtil.getParentOfType(redundantCall, Psi...\n",
            "name = useMethodInsteadOfRedundantCall\n",
            "predict = bindEqualsCall\n",
            "\n",
            "\n",
            "### public boolean isAfter(@NotNull SubmissionReceipt other) {\n",
            "###       return submittedTaskCount > other.submittedTaskCount;\n",
            "###     }\n",
            "name = isAfter\n",
            "predict = isMoreThan\n",
            "\n",
            "\n",
            "### public static void setNodeReformatStrategy(@Nullable NotNullFunction<? super ASTNode, Boolean> strategy) {\n",
            "###     NODE_REFORMAT_STRATEGY.set(strategy);\n",
            "###   }\n",
            "name = setNodeReformatStrategy\n",
            "predict = setNodeReformatStrategy\n",
            "\n",
            "\n",
            "### @Override\n",
            "###         public GenericHtmlContributions deserialize(JsonParser parser, DeserializationContext deserializationContext)\n",
            "###             throws IOException\n",
            "###         {\n",
            "###             GenericHtmlContribu...\n",
            "name = deserialize\n",
            "predict = deserialize\n",
            "\n",
            "\n",
            "### private synchronized @NotNull List<? extends IntentionAction> updateOptions(@NotNull List<? extends IntentionAction> newOptions) {\n",
            "###       List<? extends IntentionAction> options = myOptions;\n",
            "###       if (...\n",
            "name = updateOptions\n",
            "predict = getOptions\n",
            "\n",
            "\n",
            "### void foo() {\n",
            "###     int size = values.size();\n",
            "###     List<String> values = new ArrayList<>();  // Let's hide field \"values\" with local variable\n",
            "### \n",
            "###     <caret>for (int i = 0; i < size; i++) {\n",
            "###       String valu...\n",
            "name = foo\n",
            "predict = foo\n",
            "\n",
            "\n"
          ]
        }
      ],
      "source": [
        "for i in range(10):\n",
        "    t = corpus[\"test\"][i][\"text\"]\n",
        "    if len(t) > 200:\n",
        "      t = t[:200] + \"...\"\n",
        "    print('\\n'.join(\"### \" + l for l in t.split('\\n')))\n",
        "    print(f\"name = {gt_names[i]}\\npredict = {predict[i]}\\n\\n\")"
      ]
    },
    {
      "cell_type": "markdown",
      "id": "s4khnGd7qWtw",
      "metadata": {
        "id": "s4khnGd7qWtw"
      },
      "source": [
        "---------------------"
      ]
    },
    {
      "cell_type": "markdown",
      "id": "dSaWLSpYXAHh",
      "metadata": {
        "id": "dSaWLSpYXAHh"
      },
      "source": [
        "# Appendix: shortcuts with prepared data\n",
        "to start from certain segment"
      ]
    },
    {
      "cell_type": "markdown",
      "id": "YYZ4RKLjXsAb",
      "metadata": {
        "id": "YYZ4RKLjXsAb"
      },
      "source": [
        "## Load parsed methods:\n"
      ]
    },
    {
      "cell_type": "code",
      "execution_count": 10,
      "id": "C0EesQ4tYRvQ",
      "metadata": {
        "colab": {
          "base_uri": "https://localhost:8080/"
        },
        "id": "C0EesQ4tYRvQ",
        "outputId": "e3aa4e21-3c76-42c0-c2bb-a2c27f49ed1d"
      },
      "outputs": [
        {
          "output_type": "stream",
          "name": "stdout",
          "text": [
            "Downloading...\n",
            "From (original): https://drive.google.com/uc?id=1-6ssSSkOmfgMQJJPGgCcazw-ruXdGgB8\n",
            "From (redirected): https://drive.google.com/uc?id=1-6ssSSkOmfgMQJJPGgCcazw-ruXdGgB8&confirm=t&uuid=a65c0d95-1406-47ef-8cc1-cb6dffdd48c2\n",
            "To: /content/methods.csv\n",
            "100% 147M/147M [00:01<00:00, 116MB/s]\n",
            "7f3c09821b991e27a0a4011ac4c76f38  methods.csv\n"
          ]
        }
      ],
      "source": [
        "!gdown 1-6ssSSkOmfgMQJJPGgCcazw-ruXdGgB8\n",
        "!md5sum methods.csv"
      ]
    },
    {
      "cell_type": "code",
      "execution_count": 11,
      "id": "38nH5l0XapnF",
      "metadata": {
        "colab": {
          "base_uri": "https://localhost:8080/",
          "height": 143
        },
        "id": "38nH5l0XapnF",
        "outputId": "e8444f61-7fb9-4163-edb1-e99be46592ab"
      },
      "outputs": [
        {
          "output_type": "execute_result",
          "data": {
            "text/plain": [
              "                                                text  name_left  name_right\n",
              "0  @TestMetadata(\"correctVararg.kt\")\\n           ...         62          79\n",
              "1  @Override\\n        public void onMessage(@NotN...         30          39\n",
              "2  public void method(int anObject) {\\n        Sy...         12          18"
            ],
            "text/html": [
              "\n",
              "  <div id=\"df-2289e3a0-a4f6-4c99-ab7c-5024dbfa8f95\" class=\"colab-df-container\">\n",
              "    <div>\n",
              "<style scoped>\n",
              "    .dataframe tbody tr th:only-of-type {\n",
              "        vertical-align: middle;\n",
              "    }\n",
              "\n",
              "    .dataframe tbody tr th {\n",
              "        vertical-align: top;\n",
              "    }\n",
              "\n",
              "    .dataframe thead th {\n",
              "        text-align: right;\n",
              "    }\n",
              "</style>\n",
              "<table border=\"1\" class=\"dataframe\">\n",
              "  <thead>\n",
              "    <tr style=\"text-align: right;\">\n",
              "      <th></th>\n",
              "      <th>text</th>\n",
              "      <th>name_left</th>\n",
              "      <th>name_right</th>\n",
              "    </tr>\n",
              "  </thead>\n",
              "  <tbody>\n",
              "    <tr>\n",
              "      <th>0</th>\n",
              "      <td>@TestMetadata(\"correctVararg.kt\")\\n           ...</td>\n",
              "      <td>62</td>\n",
              "      <td>79</td>\n",
              "    </tr>\n",
              "    <tr>\n",
              "      <th>1</th>\n",
              "      <td>@Override\\n        public void onMessage(@NotN...</td>\n",
              "      <td>30</td>\n",
              "      <td>39</td>\n",
              "    </tr>\n",
              "    <tr>\n",
              "      <th>2</th>\n",
              "      <td>public void method(int anObject) {\\n        Sy...</td>\n",
              "      <td>12</td>\n",
              "      <td>18</td>\n",
              "    </tr>\n",
              "  </tbody>\n",
              "</table>\n",
              "</div>\n",
              "    <div class=\"colab-df-buttons\">\n",
              "\n",
              "  <div class=\"colab-df-container\">\n",
              "    <button class=\"colab-df-convert\" onclick=\"convertToInteractive('df-2289e3a0-a4f6-4c99-ab7c-5024dbfa8f95')\"\n",
              "            title=\"Convert this dataframe to an interactive table.\"\n",
              "            style=\"display:none;\">\n",
              "\n",
              "  <svg xmlns=\"http://www.w3.org/2000/svg\" height=\"24px\" viewBox=\"0 -960 960 960\">\n",
              "    <path d=\"M120-120v-720h720v720H120Zm60-500h600v-160H180v160Zm220 220h160v-160H400v160Zm0 220h160v-160H400v160ZM180-400h160v-160H180v160Zm440 0h160v-160H620v160ZM180-180h160v-160H180v160Zm440 0h160v-160H620v160Z\"/>\n",
              "  </svg>\n",
              "    </button>\n",
              "\n",
              "  <style>\n",
              "    .colab-df-container {\n",
              "      display:flex;\n",
              "      gap: 12px;\n",
              "    }\n",
              "\n",
              "    .colab-df-convert {\n",
              "      background-color: #E8F0FE;\n",
              "      border: none;\n",
              "      border-radius: 50%;\n",
              "      cursor: pointer;\n",
              "      display: none;\n",
              "      fill: #1967D2;\n",
              "      height: 32px;\n",
              "      padding: 0 0 0 0;\n",
              "      width: 32px;\n",
              "    }\n",
              "\n",
              "    .colab-df-convert:hover {\n",
              "      background-color: #E2EBFA;\n",
              "      box-shadow: 0px 1px 2px rgba(60, 64, 67, 0.3), 0px 1px 3px 1px rgba(60, 64, 67, 0.15);\n",
              "      fill: #174EA6;\n",
              "    }\n",
              "\n",
              "    .colab-df-buttons div {\n",
              "      margin-bottom: 4px;\n",
              "    }\n",
              "\n",
              "    [theme=dark] .colab-df-convert {\n",
              "      background-color: #3B4455;\n",
              "      fill: #D2E3FC;\n",
              "    }\n",
              "\n",
              "    [theme=dark] .colab-df-convert:hover {\n",
              "      background-color: #434B5C;\n",
              "      box-shadow: 0px 1px 3px 1px rgba(0, 0, 0, 0.15);\n",
              "      filter: drop-shadow(0px 1px 2px rgba(0, 0, 0, 0.3));\n",
              "      fill: #FFFFFF;\n",
              "    }\n",
              "  </style>\n",
              "\n",
              "    <script>\n",
              "      const buttonEl =\n",
              "        document.querySelector('#df-2289e3a0-a4f6-4c99-ab7c-5024dbfa8f95 button.colab-df-convert');\n",
              "      buttonEl.style.display =\n",
              "        google.colab.kernel.accessAllowed ? 'block' : 'none';\n",
              "\n",
              "      async function convertToInteractive(key) {\n",
              "        const element = document.querySelector('#df-2289e3a0-a4f6-4c99-ab7c-5024dbfa8f95');\n",
              "        const dataTable =\n",
              "          await google.colab.kernel.invokeFunction('convertToInteractive',\n",
              "                                                    [key], {});\n",
              "        if (!dataTable) return;\n",
              "\n",
              "        const docLinkHtml = 'Like what you see? Visit the ' +\n",
              "          '<a target=\"_blank\" href=https://colab.research.google.com/notebooks/data_table.ipynb>data table notebook</a>'\n",
              "          + ' to learn more about interactive tables.';\n",
              "        element.innerHTML = '';\n",
              "        dataTable['output_type'] = 'display_data';\n",
              "        await google.colab.output.renderOutput(dataTable, element);\n",
              "        const docLink = document.createElement('div');\n",
              "        docLink.innerHTML = docLinkHtml;\n",
              "        element.appendChild(docLink);\n",
              "      }\n",
              "    </script>\n",
              "  </div>\n",
              "\n",
              "\n",
              "<div id=\"df-1da5a120-86d2-478f-a906-fe0fedf937c2\">\n",
              "  <button class=\"colab-df-quickchart\" onclick=\"quickchart('df-1da5a120-86d2-478f-a906-fe0fedf937c2')\"\n",
              "            title=\"Suggest charts\"\n",
              "            style=\"display:none;\">\n",
              "\n",
              "<svg xmlns=\"http://www.w3.org/2000/svg\" height=\"24px\"viewBox=\"0 0 24 24\"\n",
              "     width=\"24px\">\n",
              "    <g>\n",
              "        <path d=\"M19 3H5c-1.1 0-2 .9-2 2v14c0 1.1.9 2 2 2h14c1.1 0 2-.9 2-2V5c0-1.1-.9-2-2-2zM9 17H7v-7h2v7zm4 0h-2V7h2v10zm4 0h-2v-4h2v4z\"/>\n",
              "    </g>\n",
              "</svg>\n",
              "  </button>\n",
              "\n",
              "<style>\n",
              "  .colab-df-quickchart {\n",
              "      --bg-color: #E8F0FE;\n",
              "      --fill-color: #1967D2;\n",
              "      --hover-bg-color: #E2EBFA;\n",
              "      --hover-fill-color: #174EA6;\n",
              "      --disabled-fill-color: #AAA;\n",
              "      --disabled-bg-color: #DDD;\n",
              "  }\n",
              "\n",
              "  [theme=dark] .colab-df-quickchart {\n",
              "      --bg-color: #3B4455;\n",
              "      --fill-color: #D2E3FC;\n",
              "      --hover-bg-color: #434B5C;\n",
              "      --hover-fill-color: #FFFFFF;\n",
              "      --disabled-bg-color: #3B4455;\n",
              "      --disabled-fill-color: #666;\n",
              "  }\n",
              "\n",
              "  .colab-df-quickchart {\n",
              "    background-color: var(--bg-color);\n",
              "    border: none;\n",
              "    border-radius: 50%;\n",
              "    cursor: pointer;\n",
              "    display: none;\n",
              "    fill: var(--fill-color);\n",
              "    height: 32px;\n",
              "    padding: 0;\n",
              "    width: 32px;\n",
              "  }\n",
              "\n",
              "  .colab-df-quickchart:hover {\n",
              "    background-color: var(--hover-bg-color);\n",
              "    box-shadow: 0 1px 2px rgba(60, 64, 67, 0.3), 0 1px 3px 1px rgba(60, 64, 67, 0.15);\n",
              "    fill: var(--button-hover-fill-color);\n",
              "  }\n",
              "\n",
              "  .colab-df-quickchart-complete:disabled,\n",
              "  .colab-df-quickchart-complete:disabled:hover {\n",
              "    background-color: var(--disabled-bg-color);\n",
              "    fill: var(--disabled-fill-color);\n",
              "    box-shadow: none;\n",
              "  }\n",
              "\n",
              "  .colab-df-spinner {\n",
              "    border: 2px solid var(--fill-color);\n",
              "    border-color: transparent;\n",
              "    border-bottom-color: var(--fill-color);\n",
              "    animation:\n",
              "      spin 1s steps(1) infinite;\n",
              "  }\n",
              "\n",
              "  @keyframes spin {\n",
              "    0% {\n",
              "      border-color: transparent;\n",
              "      border-bottom-color: var(--fill-color);\n",
              "      border-left-color: var(--fill-color);\n",
              "    }\n",
              "    20% {\n",
              "      border-color: transparent;\n",
              "      border-left-color: var(--fill-color);\n",
              "      border-top-color: var(--fill-color);\n",
              "    }\n",
              "    30% {\n",
              "      border-color: transparent;\n",
              "      border-left-color: var(--fill-color);\n",
              "      border-top-color: var(--fill-color);\n",
              "      border-right-color: var(--fill-color);\n",
              "    }\n",
              "    40% {\n",
              "      border-color: transparent;\n",
              "      border-right-color: var(--fill-color);\n",
              "      border-top-color: var(--fill-color);\n",
              "    }\n",
              "    60% {\n",
              "      border-color: transparent;\n",
              "      border-right-color: var(--fill-color);\n",
              "    }\n",
              "    80% {\n",
              "      border-color: transparent;\n",
              "      border-right-color: var(--fill-color);\n",
              "      border-bottom-color: var(--fill-color);\n",
              "    }\n",
              "    90% {\n",
              "      border-color: transparent;\n",
              "      border-bottom-color: var(--fill-color);\n",
              "    }\n",
              "  }\n",
              "</style>\n",
              "\n",
              "  <script>\n",
              "    async function quickchart(key) {\n",
              "      const quickchartButtonEl =\n",
              "        document.querySelector('#' + key + ' button');\n",
              "      quickchartButtonEl.disabled = true;  // To prevent multiple clicks.\n",
              "      quickchartButtonEl.classList.add('colab-df-spinner');\n",
              "      try {\n",
              "        const charts = await google.colab.kernel.invokeFunction(\n",
              "            'suggestCharts', [key], {});\n",
              "      } catch (error) {\n",
              "        console.error('Error during call to suggestCharts:', error);\n",
              "      }\n",
              "      quickchartButtonEl.classList.remove('colab-df-spinner');\n",
              "      quickchartButtonEl.classList.add('colab-df-quickchart-complete');\n",
              "    }\n",
              "    (() => {\n",
              "      let quickchartButtonEl =\n",
              "        document.querySelector('#df-1da5a120-86d2-478f-a906-fe0fedf937c2 button');\n",
              "      quickchartButtonEl.style.display =\n",
              "        google.colab.kernel.accessAllowed ? 'block' : 'none';\n",
              "    })();\n",
              "  </script>\n",
              "</div>\n",
              "    </div>\n",
              "  </div>\n"
            ],
            "application/vnd.google.colaboratory.intrinsic+json": {
              "type": "dataframe",
              "variable_name": "methods_df"
            }
          },
          "metadata": {},
          "execution_count": 11
        }
      ],
      "source": [
        "methods_df = pd.read_csv(\"methods.csv\", usecols=[\"text\", \"name_left\", \"name_right\"])\n",
        "methods_df.head(3)"
      ]
    },
    {
      "cell_type": "markdown",
      "id": "6Zc4iaNvYnDN",
      "metadata": {
        "id": "6Zc4iaNvYnDN"
      },
      "source": [
        "## Load methods Dataset:"
      ]
    },
    {
      "cell_type": "code",
      "execution_count": null,
      "id": "rQL7p7pBgDUE",
      "metadata": {
        "colab": {
          "base_uri": "https://localhost:8080/"
        },
        "id": "rQL7p7pBgDUE",
        "outputId": "e27d0a13-54a4-4b9c-b6fa-7ceaa6cf1878"
      },
      "outputs": [
        {
          "output_type": "stream",
          "name": "stdout",
          "text": [
            "Downloading...\n",
            "From (original): https://drive.google.com/uc?id=1-2hGfnPsHliQ1Jb9499SDmCZJhaZYwHd\n",
            "From (redirected): https://drive.google.com/uc?id=1-2hGfnPsHliQ1Jb9499SDmCZJhaZYwHd&confirm=t&uuid=d2ed96c4-7241-489f-b5c7-d4b9ded7cc45\n",
            "To: /content/methods.tar\n",
            "100% 306M/306M [00:05<00:00, 59.9MB/s]\n",
            "1161afab3a1ed5b7f34cfe064dedaf93  methods.tar\n"
          ]
        }
      ],
      "source": [
        "!gdown 1-2hGfnPsHliQ1Jb9499SDmCZJhaZYwHd -O methods.tar\n",
        "!md5sum methods.tar\n",
        "!tar -xf methods.tar"
      ]
    },
    {
      "cell_type": "code",
      "execution_count": null,
      "id": "9bDbdYHVgnJI",
      "metadata": {
        "colab": {
          "base_uri": "https://localhost:8080/"
        },
        "id": "9bDbdYHVgnJI",
        "outputId": "b433572a-aa8d-482e-9474-fa4eafa72551"
      },
      "outputs": [
        {
          "output_type": "execute_result",
          "data": {
            "text/plain": [
              "DatasetDict({\n",
              "    test: Dataset({\n",
              "        features: ['text', 'name_left', 'name_right', 'input_str', 'output_str', 'gt_name'],\n",
              "        num_rows: 2000\n",
              "    })\n",
              "    validation: Dataset({\n",
              "        features: ['text', 'name_left', 'name_right', 'input_str', 'output_str', 'gt_name'],\n",
              "        num_rows: 1000\n",
              "    })\n",
              "    train: Dataset({\n",
              "        features: ['text', 'name_left', 'name_right', 'input_str', 'output_str', 'gt_name'],\n",
              "        num_rows: 380110\n",
              "    })\n",
              "})"
            ]
          },
          "metadata": {},
          "execution_count": 8
        }
      ],
      "source": [
        "corpus = datasets.load_from_disk('methods_ds')\n",
        "corpus"
      ]
    },
    {
      "cell_type": "markdown",
      "id": "XKWXmk3WYvJP",
      "metadata": {
        "id": "XKWXmk3WYvJP"
      },
      "source": [
        "## Load tokenized Dataset:"
      ]
    },
    {
      "cell_type": "code",
      "execution_count": null,
      "id": "h5O4eRn7Y8Yd",
      "metadata": {
        "colab": {
          "base_uri": "https://localhost:8080/"
        },
        "id": "h5O4eRn7Y8Yd",
        "outputId": "f9197ac8-648f-49d0-a45e-82fcc1ed92bf"
      },
      "outputs": [
        {
          "output_type": "stream",
          "name": "stdout",
          "text": [
            "Downloading...\n",
            "From (original): https://drive.google.com/uc?id=1-4-sK2tHftFxZItYMGAI6wKWypOT-YmG\n",
            "From (redirected): https://drive.google.com/uc?id=1-4-sK2tHftFxZItYMGAI6wKWypOT-YmG&confirm=t&uuid=e304294a-3a72-4d7e-aba8-ade6cce5db78\n",
            "To: /content/tokenized.tar\n",
            "100% 569M/569M [00:05<00:00, 105MB/s]\n",
            "bcc05fabdcad4662b469a66881187bdb  tokenized.tar\n"
          ]
        }
      ],
      "source": [
        "!gdown 1-4-sK2tHftFxZItYMGAI6wKWypOT-YmG -O tokenized.tar\n",
        "!md5sum tokenized.tar\n",
        "!tar -xf tokenized.tar"
      ]
    },
    {
      "cell_type": "code",
      "execution_count": null,
      "id": "t-1vcJYqhPB3",
      "metadata": {
        "colab": {
          "base_uri": "https://localhost:8080/"
        },
        "id": "t-1vcJYqhPB3",
        "outputId": "efa0c406-3f32-47d3-f101-3aaa1e3a5cbb"
      },
      "outputs": [
        {
          "output_type": "execute_result",
          "data": {
            "text/plain": [
              "DatasetDict({\n",
              "    test: Dataset({\n",
              "        features: ['input_ids', 'attention_mask', 'labels'],\n",
              "        num_rows: 2000\n",
              "    })\n",
              "    validation: Dataset({\n",
              "        features: ['input_ids', 'attention_mask', 'labels'],\n",
              "        num_rows: 1000\n",
              "    })\n",
              "    train: Dataset({\n",
              "        features: ['input_ids', 'attention_mask', 'labels'],\n",
              "        num_rows: 380110\n",
              "    })\n",
              "})"
            ]
          },
          "metadata": {},
          "execution_count": 10
        }
      ],
      "source": [
        "train_data = datasets.load_from_disk(\"tokenized_ds\")\n",
        "train_data"
      ]
    },
    {
      "cell_type": "markdown",
      "id": "h2VMof6Vmazo",
      "metadata": {
        "id": "h2VMof6Vmazo"
      },
      "source": [
        "## Load finetuned model:"
      ]
    },
    {
      "cell_type": "code",
      "execution_count": 7,
      "id": "8dNqi2Q-m7yD",
      "metadata": {
        "colab": {
          "base_uri": "https://localhost:8080/"
        },
        "id": "8dNqi2Q-m7yD",
        "outputId": "aae7fa73-bf1e-40d7-bb9d-e44e4c6c3242"
      },
      "outputs": [
        {
          "output_type": "stream",
          "name": "stdout",
          "text": [
            "Downloading...\n",
            "From (original): https://drive.google.com/uc?id=1-6ln4koU5BeJRN1qh-KoqUjq8Q-wog8H\n",
            "From (redirected): https://drive.google.com/uc?id=1-6ln4koU5BeJRN1qh-KoqUjq8Q-wog8H&confirm=t&uuid=8363991b-4db5-4dc4-8f16-c1320b577cef\n",
            "To: /content/tuned.tar\n",
            "100% 892M/892M [00:09<00:00, 93.3MB/s]\n"
          ]
        }
      ],
      "source": [
        "!gdown 1-6ln4koU5BeJRN1qh-KoqUjq8Q-wog8H -O tuned.tar\n",
        "!tar -xf tuned.tar"
      ]
    },
    {
      "cell_type": "code",
      "execution_count": null,
      "id": "X7rHALJzBow8",
      "metadata": {
        "colab": {
          "base_uri": "https://localhost:8080/"
        },
        "id": "X7rHALJzBow8",
        "outputId": "72fdb4c3-86ba-4ff4-bb49-7025511c8e6d"
      },
      "outputs": [
        {
          "output_type": "stream",
          "name": "stdout",
          "text": [
            "57bdca5aa6208455f3a13fd6eb0d9ff7  tuned.tar\n"
          ]
        }
      ],
      "source": [
        "!md5sum tuned.tar"
      ]
    },
    {
      "cell_type": "code",
      "source": [
        "!md5sum tuned.tar"
      ],
      "metadata": {
        "colab": {
          "base_uri": "https://localhost:8080/"
        },
        "id": "kTKIJCLmx7hd",
        "outputId": "fc34b80b-4387-436f-9069-070f8e6d858e"
      },
      "id": "kTKIJCLmx7hd",
      "execution_count": 8,
      "outputs": [
        {
          "output_type": "stream",
          "name": "stdout",
          "text": [
            "57bdca5aa6208455f3a13fd6eb0d9ff7  tuned.tar\n"
          ]
        }
      ]
    },
    {
      "cell_type": "code",
      "execution_count": 39,
      "id": "Rz2D8uKb5oA0",
      "metadata": {
        "colab": {
          "base_uri": "https://localhost:8080/"
        },
        "id": "Rz2D8uKb5oA0",
        "outputId": "5bd537ee-845f-480b-bb33-026ab03c0cb6"
      },
      "outputs": [
        {
          "output_type": "execute_result",
          "data": {
            "text/plain": [
              "device(type='cuda')"
            ]
          },
          "metadata": {},
          "execution_count": 39
        }
      ],
      "source": [
        "tuned = AutoModelForSeq2SeqLM.from_pretrained(\"tuned/\", local_files_only=True)\n",
        "tuned.to(DEVICE)\n",
        "DEVICE"
      ]
    },
    {
      "cell_type": "markdown",
      "id": "w1m0Hmvl-ucS",
      "metadata": {
        "id": "w1m0Hmvl-ucS"
      },
      "source": [
        "## Export data to google drive"
      ]
    },
    {
      "cell_type": "code",
      "execution_count": null,
      "id": "Tql4iF29-x5u",
      "metadata": {
        "id": "Tql4iF29-x5u"
      },
      "outputs": [],
      "source": [
        "from google.colab import drive\n",
        "drive.mount('/content/drive')"
      ]
    },
    {
      "cell_type": "code",
      "execution_count": null,
      "id": "cWnuBLMp-91z",
      "metadata": {
        "id": "cWnuBLMp-91z"
      },
      "outputs": [],
      "source": [
        "# upload tar-s to /content/drive/MyDrive/final-data"
      ]
    }
  ],
  "metadata": {
    "accelerator": "GPU",
    "colab": {
      "gpuType": "V100",
      "provenance": []
    },
    "kernelspec": {
      "display_name": "Python 3 (ipykernel)",
      "language": "python",
      "name": "python3"
    },
    "language_info": {
      "codemirror_mode": {
        "name": "ipython",
        "version": 3
      },
      "file_extension": ".py",
      "mimetype": "text/x-python",
      "name": "python",
      "nbconvert_exporter": "python",
      "pygments_lexer": "ipython3",
      "version": "3.11.5"
    },
    "widgets": {
      "application/vnd.jupyter.widget-state+json": {
        "d7b6d1bbb506410a8e6dd14cdaa90562": {
          "model_module": "@jupyter-widgets/controls",
          "model_name": "HBoxModel",
          "model_module_version": "1.5.0",
          "state": {
            "_dom_classes": [],
            "_model_module": "@jupyter-widgets/controls",
            "_model_module_version": "1.5.0",
            "_model_name": "HBoxModel",
            "_view_count": null,
            "_view_module": "@jupyter-widgets/controls",
            "_view_module_version": "1.5.0",
            "_view_name": "HBoxView",
            "box_style": "",
            "children": [
              "IPY_MODEL_4261fdbbdf1646069cda0752081ee0c1",
              "IPY_MODEL_304cfbae49854b84b390a266c4397773",
              "IPY_MODEL_597ed484c5334a37a8734e7340dbb37f"
            ],
            "layout": "IPY_MODEL_abf5601d4f8940eb87027cf36c299538"
          }
        },
        "4261fdbbdf1646069cda0752081ee0c1": {
          "model_module": "@jupyter-widgets/controls",
          "model_name": "HTMLModel",
          "model_module_version": "1.5.0",
          "state": {
            "_dom_classes": [],
            "_model_module": "@jupyter-widgets/controls",
            "_model_module_version": "1.5.0",
            "_model_name": "HTMLModel",
            "_view_count": null,
            "_view_module": "@jupyter-widgets/controls",
            "_view_module_version": "1.5.0",
            "_view_name": "HTMLView",
            "description": "",
            "description_tooltip": null,
            "layout": "IPY_MODEL_9de80d68e82c427686469b6e5dfdfeee",
            "placeholder": "​",
            "style": "IPY_MODEL_50898c2ea1db4471a561dd824d31d3f1",
            "value": "config.json: 100%"
          }
        },
        "304cfbae49854b84b390a266c4397773": {
          "model_module": "@jupyter-widgets/controls",
          "model_name": "FloatProgressModel",
          "model_module_version": "1.5.0",
          "state": {
            "_dom_classes": [],
            "_model_module": "@jupyter-widgets/controls",
            "_model_module_version": "1.5.0",
            "_model_name": "FloatProgressModel",
            "_view_count": null,
            "_view_module": "@jupyter-widgets/controls",
            "_view_module_version": "1.5.0",
            "_view_name": "ProgressView",
            "bar_style": "success",
            "description": "",
            "description_tooltip": null,
            "layout": "IPY_MODEL_1568eb5357a44f26a203bbdaf9ce659b",
            "max": 768,
            "min": 0,
            "orientation": "horizontal",
            "style": "IPY_MODEL_3515fe57d4034fd59bf2c7ce9d8ab4c2",
            "value": 768
          }
        },
        "597ed484c5334a37a8734e7340dbb37f": {
          "model_module": "@jupyter-widgets/controls",
          "model_name": "HTMLModel",
          "model_module_version": "1.5.0",
          "state": {
            "_dom_classes": [],
            "_model_module": "@jupyter-widgets/controls",
            "_model_module_version": "1.5.0",
            "_model_name": "HTMLModel",
            "_view_count": null,
            "_view_module": "@jupyter-widgets/controls",
            "_view_module_version": "1.5.0",
            "_view_name": "HTMLView",
            "description": "",
            "description_tooltip": null,
            "layout": "IPY_MODEL_f05def4347564ced9e33d3c93137ea70",
            "placeholder": "​",
            "style": "IPY_MODEL_6ef0935563c64901aeeb140b96b7bce0",
            "value": " 768/768 [00:00&lt;00:00, 49.0kB/s]"
          }
        },
        "abf5601d4f8940eb87027cf36c299538": {
          "model_module": "@jupyter-widgets/base",
          "model_name": "LayoutModel",
          "model_module_version": "1.2.0",
          "state": {
            "_model_module": "@jupyter-widgets/base",
            "_model_module_version": "1.2.0",
            "_model_name": "LayoutModel",
            "_view_count": null,
            "_view_module": "@jupyter-widgets/base",
            "_view_module_version": "1.2.0",
            "_view_name": "LayoutView",
            "align_content": null,
            "align_items": null,
            "align_self": null,
            "border": null,
            "bottom": null,
            "display": null,
            "flex": null,
            "flex_flow": null,
            "grid_area": null,
            "grid_auto_columns": null,
            "grid_auto_flow": null,
            "grid_auto_rows": null,
            "grid_column": null,
            "grid_gap": null,
            "grid_row": null,
            "grid_template_areas": null,
            "grid_template_columns": null,
            "grid_template_rows": null,
            "height": null,
            "justify_content": null,
            "justify_items": null,
            "left": null,
            "margin": null,
            "max_height": null,
            "max_width": null,
            "min_height": null,
            "min_width": null,
            "object_fit": null,
            "object_position": null,
            "order": null,
            "overflow": null,
            "overflow_x": null,
            "overflow_y": null,
            "padding": null,
            "right": null,
            "top": null,
            "visibility": null,
            "width": null
          }
        },
        "9de80d68e82c427686469b6e5dfdfeee": {
          "model_module": "@jupyter-widgets/base",
          "model_name": "LayoutModel",
          "model_module_version": "1.2.0",
          "state": {
            "_model_module": "@jupyter-widgets/base",
            "_model_module_version": "1.2.0",
            "_model_name": "LayoutModel",
            "_view_count": null,
            "_view_module": "@jupyter-widgets/base",
            "_view_module_version": "1.2.0",
            "_view_name": "LayoutView",
            "align_content": null,
            "align_items": null,
            "align_self": null,
            "border": null,
            "bottom": null,
            "display": null,
            "flex": null,
            "flex_flow": null,
            "grid_area": null,
            "grid_auto_columns": null,
            "grid_auto_flow": null,
            "grid_auto_rows": null,
            "grid_column": null,
            "grid_gap": null,
            "grid_row": null,
            "grid_template_areas": null,
            "grid_template_columns": null,
            "grid_template_rows": null,
            "height": null,
            "justify_content": null,
            "justify_items": null,
            "left": null,
            "margin": null,
            "max_height": null,
            "max_width": null,
            "min_height": null,
            "min_width": null,
            "object_fit": null,
            "object_position": null,
            "order": null,
            "overflow": null,
            "overflow_x": null,
            "overflow_y": null,
            "padding": null,
            "right": null,
            "top": null,
            "visibility": null,
            "width": null
          }
        },
        "50898c2ea1db4471a561dd824d31d3f1": {
          "model_module": "@jupyter-widgets/controls",
          "model_name": "DescriptionStyleModel",
          "model_module_version": "1.5.0",
          "state": {
            "_model_module": "@jupyter-widgets/controls",
            "_model_module_version": "1.5.0",
            "_model_name": "DescriptionStyleModel",
            "_view_count": null,
            "_view_module": "@jupyter-widgets/base",
            "_view_module_version": "1.2.0",
            "_view_name": "StyleView",
            "description_width": ""
          }
        },
        "1568eb5357a44f26a203bbdaf9ce659b": {
          "model_module": "@jupyter-widgets/base",
          "model_name": "LayoutModel",
          "model_module_version": "1.2.0",
          "state": {
            "_model_module": "@jupyter-widgets/base",
            "_model_module_version": "1.2.0",
            "_model_name": "LayoutModel",
            "_view_count": null,
            "_view_module": "@jupyter-widgets/base",
            "_view_module_version": "1.2.0",
            "_view_name": "LayoutView",
            "align_content": null,
            "align_items": null,
            "align_self": null,
            "border": null,
            "bottom": null,
            "display": null,
            "flex": null,
            "flex_flow": null,
            "grid_area": null,
            "grid_auto_columns": null,
            "grid_auto_flow": null,
            "grid_auto_rows": null,
            "grid_column": null,
            "grid_gap": null,
            "grid_row": null,
            "grid_template_areas": null,
            "grid_template_columns": null,
            "grid_template_rows": null,
            "height": null,
            "justify_content": null,
            "justify_items": null,
            "left": null,
            "margin": null,
            "max_height": null,
            "max_width": null,
            "min_height": null,
            "min_width": null,
            "object_fit": null,
            "object_position": null,
            "order": null,
            "overflow": null,
            "overflow_x": null,
            "overflow_y": null,
            "padding": null,
            "right": null,
            "top": null,
            "visibility": null,
            "width": null
          }
        },
        "3515fe57d4034fd59bf2c7ce9d8ab4c2": {
          "model_module": "@jupyter-widgets/controls",
          "model_name": "ProgressStyleModel",
          "model_module_version": "1.5.0",
          "state": {
            "_model_module": "@jupyter-widgets/controls",
            "_model_module_version": "1.5.0",
            "_model_name": "ProgressStyleModel",
            "_view_count": null,
            "_view_module": "@jupyter-widgets/base",
            "_view_module_version": "1.2.0",
            "_view_name": "StyleView",
            "bar_color": null,
            "description_width": ""
          }
        },
        "f05def4347564ced9e33d3c93137ea70": {
          "model_module": "@jupyter-widgets/base",
          "model_name": "LayoutModel",
          "model_module_version": "1.2.0",
          "state": {
            "_model_module": "@jupyter-widgets/base",
            "_model_module_version": "1.2.0",
            "_model_name": "LayoutModel",
            "_view_count": null,
            "_view_module": "@jupyter-widgets/base",
            "_view_module_version": "1.2.0",
            "_view_name": "LayoutView",
            "align_content": null,
            "align_items": null,
            "align_self": null,
            "border": null,
            "bottom": null,
            "display": null,
            "flex": null,
            "flex_flow": null,
            "grid_area": null,
            "grid_auto_columns": null,
            "grid_auto_flow": null,
            "grid_auto_rows": null,
            "grid_column": null,
            "grid_gap": null,
            "grid_row": null,
            "grid_template_areas": null,
            "grid_template_columns": null,
            "grid_template_rows": null,
            "height": null,
            "justify_content": null,
            "justify_items": null,
            "left": null,
            "margin": null,
            "max_height": null,
            "max_width": null,
            "min_height": null,
            "min_width": null,
            "object_fit": null,
            "object_position": null,
            "order": null,
            "overflow": null,
            "overflow_x": null,
            "overflow_y": null,
            "padding": null,
            "right": null,
            "top": null,
            "visibility": null,
            "width": null
          }
        },
        "6ef0935563c64901aeeb140b96b7bce0": {
          "model_module": "@jupyter-widgets/controls",
          "model_name": "DescriptionStyleModel",
          "model_module_version": "1.5.0",
          "state": {
            "_model_module": "@jupyter-widgets/controls",
            "_model_module_version": "1.5.0",
            "_model_name": "DescriptionStyleModel",
            "_view_count": null,
            "_view_module": "@jupyter-widgets/base",
            "_view_module_version": "1.2.0",
            "_view_name": "StyleView",
            "description_width": ""
          }
        },
        "be075f4cd5844039a081ab7843912908": {
          "model_module": "@jupyter-widgets/controls",
          "model_name": "HBoxModel",
          "model_module_version": "1.5.0",
          "state": {
            "_dom_classes": [],
            "_model_module": "@jupyter-widgets/controls",
            "_model_module_version": "1.5.0",
            "_model_name": "HBoxModel",
            "_view_count": null,
            "_view_module": "@jupyter-widgets/controls",
            "_view_module_version": "1.5.0",
            "_view_name": "HBoxView",
            "box_style": "",
            "children": [
              "IPY_MODEL_95fc0bcc9c424d7f8585803be0ac913e",
              "IPY_MODEL_607329ad746a491a99f580219d530f2f",
              "IPY_MODEL_fcf3cf5d5cec4dccabb53d51dec53ed2"
            ],
            "layout": "IPY_MODEL_8641b07f87a14dd8b74fbcc52db2c036"
          }
        },
        "95fc0bcc9c424d7f8585803be0ac913e": {
          "model_module": "@jupyter-widgets/controls",
          "model_name": "HTMLModel",
          "model_module_version": "1.5.0",
          "state": {
            "_dom_classes": [],
            "_model_module": "@jupyter-widgets/controls",
            "_model_module_version": "1.5.0",
            "_model_name": "HTMLModel",
            "_view_count": null,
            "_view_module": "@jupyter-widgets/controls",
            "_view_module_version": "1.5.0",
            "_view_name": "HTMLView",
            "description": "",
            "description_tooltip": null,
            "layout": "IPY_MODEL_e5acfad3a9e845bb972dd6ccca9534bf",
            "placeholder": "​",
            "style": "IPY_MODEL_db2d4b91de5a47b99fe58f1caf06f537",
            "value": "pytorch_model.bin: 100%"
          }
        },
        "607329ad746a491a99f580219d530f2f": {
          "model_module": "@jupyter-widgets/controls",
          "model_name": "FloatProgressModel",
          "model_module_version": "1.5.0",
          "state": {
            "_dom_classes": [],
            "_model_module": "@jupyter-widgets/controls",
            "_model_module_version": "1.5.0",
            "_model_name": "FloatProgressModel",
            "_view_count": null,
            "_view_module": "@jupyter-widgets/controls",
            "_view_module_version": "1.5.0",
            "_view_name": "ProgressView",
            "bar_style": "success",
            "description": "",
            "description_tooltip": null,
            "layout": "IPY_MODEL_5d2949cf3e684a74bf03678ba4a95b89",
            "max": 445800957,
            "min": 0,
            "orientation": "horizontal",
            "style": "IPY_MODEL_12dc5e758ada47c3bd859b7a0c99bf9c",
            "value": 445800957
          }
        },
        "fcf3cf5d5cec4dccabb53d51dec53ed2": {
          "model_module": "@jupyter-widgets/controls",
          "model_name": "HTMLModel",
          "model_module_version": "1.5.0",
          "state": {
            "_dom_classes": [],
            "_model_module": "@jupyter-widgets/controls",
            "_model_module_version": "1.5.0",
            "_model_name": "HTMLModel",
            "_view_count": null,
            "_view_module": "@jupyter-widgets/controls",
            "_view_module_version": "1.5.0",
            "_view_name": "HTMLView",
            "description": "",
            "description_tooltip": null,
            "layout": "IPY_MODEL_48434d86671949c885dea56d9aac25b7",
            "placeholder": "​",
            "style": "IPY_MODEL_43a5428357984c7f81e10ee2a97aa065",
            "value": " 446M/446M [00:01&lt;00:00, 257MB/s]"
          }
        },
        "8641b07f87a14dd8b74fbcc52db2c036": {
          "model_module": "@jupyter-widgets/base",
          "model_name": "LayoutModel",
          "model_module_version": "1.2.0",
          "state": {
            "_model_module": "@jupyter-widgets/base",
            "_model_module_version": "1.2.0",
            "_model_name": "LayoutModel",
            "_view_count": null,
            "_view_module": "@jupyter-widgets/base",
            "_view_module_version": "1.2.0",
            "_view_name": "LayoutView",
            "align_content": null,
            "align_items": null,
            "align_self": null,
            "border": null,
            "bottom": null,
            "display": null,
            "flex": null,
            "flex_flow": null,
            "grid_area": null,
            "grid_auto_columns": null,
            "grid_auto_flow": null,
            "grid_auto_rows": null,
            "grid_column": null,
            "grid_gap": null,
            "grid_row": null,
            "grid_template_areas": null,
            "grid_template_columns": null,
            "grid_template_rows": null,
            "height": null,
            "justify_content": null,
            "justify_items": null,
            "left": null,
            "margin": null,
            "max_height": null,
            "max_width": null,
            "min_height": null,
            "min_width": null,
            "object_fit": null,
            "object_position": null,
            "order": null,
            "overflow": null,
            "overflow_x": null,
            "overflow_y": null,
            "padding": null,
            "right": null,
            "top": null,
            "visibility": null,
            "width": null
          }
        },
        "e5acfad3a9e845bb972dd6ccca9534bf": {
          "model_module": "@jupyter-widgets/base",
          "model_name": "LayoutModel",
          "model_module_version": "1.2.0",
          "state": {
            "_model_module": "@jupyter-widgets/base",
            "_model_module_version": "1.2.0",
            "_model_name": "LayoutModel",
            "_view_count": null,
            "_view_module": "@jupyter-widgets/base",
            "_view_module_version": "1.2.0",
            "_view_name": "LayoutView",
            "align_content": null,
            "align_items": null,
            "align_self": null,
            "border": null,
            "bottom": null,
            "display": null,
            "flex": null,
            "flex_flow": null,
            "grid_area": null,
            "grid_auto_columns": null,
            "grid_auto_flow": null,
            "grid_auto_rows": null,
            "grid_column": null,
            "grid_gap": null,
            "grid_row": null,
            "grid_template_areas": null,
            "grid_template_columns": null,
            "grid_template_rows": null,
            "height": null,
            "justify_content": null,
            "justify_items": null,
            "left": null,
            "margin": null,
            "max_height": null,
            "max_width": null,
            "min_height": null,
            "min_width": null,
            "object_fit": null,
            "object_position": null,
            "order": null,
            "overflow": null,
            "overflow_x": null,
            "overflow_y": null,
            "padding": null,
            "right": null,
            "top": null,
            "visibility": null,
            "width": null
          }
        },
        "db2d4b91de5a47b99fe58f1caf06f537": {
          "model_module": "@jupyter-widgets/controls",
          "model_name": "DescriptionStyleModel",
          "model_module_version": "1.5.0",
          "state": {
            "_model_module": "@jupyter-widgets/controls",
            "_model_module_version": "1.5.0",
            "_model_name": "DescriptionStyleModel",
            "_view_count": null,
            "_view_module": "@jupyter-widgets/base",
            "_view_module_version": "1.2.0",
            "_view_name": "StyleView",
            "description_width": ""
          }
        },
        "5d2949cf3e684a74bf03678ba4a95b89": {
          "model_module": "@jupyter-widgets/base",
          "model_name": "LayoutModel",
          "model_module_version": "1.2.0",
          "state": {
            "_model_module": "@jupyter-widgets/base",
            "_model_module_version": "1.2.0",
            "_model_name": "LayoutModel",
            "_view_count": null,
            "_view_module": "@jupyter-widgets/base",
            "_view_module_version": "1.2.0",
            "_view_name": "LayoutView",
            "align_content": null,
            "align_items": null,
            "align_self": null,
            "border": null,
            "bottom": null,
            "display": null,
            "flex": null,
            "flex_flow": null,
            "grid_area": null,
            "grid_auto_columns": null,
            "grid_auto_flow": null,
            "grid_auto_rows": null,
            "grid_column": null,
            "grid_gap": null,
            "grid_row": null,
            "grid_template_areas": null,
            "grid_template_columns": null,
            "grid_template_rows": null,
            "height": null,
            "justify_content": null,
            "justify_items": null,
            "left": null,
            "margin": null,
            "max_height": null,
            "max_width": null,
            "min_height": null,
            "min_width": null,
            "object_fit": null,
            "object_position": null,
            "order": null,
            "overflow": null,
            "overflow_x": null,
            "overflow_y": null,
            "padding": null,
            "right": null,
            "top": null,
            "visibility": null,
            "width": null
          }
        },
        "12dc5e758ada47c3bd859b7a0c99bf9c": {
          "model_module": "@jupyter-widgets/controls",
          "model_name": "ProgressStyleModel",
          "model_module_version": "1.5.0",
          "state": {
            "_model_module": "@jupyter-widgets/controls",
            "_model_module_version": "1.5.0",
            "_model_name": "ProgressStyleModel",
            "_view_count": null,
            "_view_module": "@jupyter-widgets/base",
            "_view_module_version": "1.2.0",
            "_view_name": "StyleView",
            "bar_color": null,
            "description_width": ""
          }
        },
        "48434d86671949c885dea56d9aac25b7": {
          "model_module": "@jupyter-widgets/base",
          "model_name": "LayoutModel",
          "model_module_version": "1.2.0",
          "state": {
            "_model_module": "@jupyter-widgets/base",
            "_model_module_version": "1.2.0",
            "_model_name": "LayoutModel",
            "_view_count": null,
            "_view_module": "@jupyter-widgets/base",
            "_view_module_version": "1.2.0",
            "_view_name": "LayoutView",
            "align_content": null,
            "align_items": null,
            "align_self": null,
            "border": null,
            "bottom": null,
            "display": null,
            "flex": null,
            "flex_flow": null,
            "grid_area": null,
            "grid_auto_columns": null,
            "grid_auto_flow": null,
            "grid_auto_rows": null,
            "grid_column": null,
            "grid_gap": null,
            "grid_row": null,
            "grid_template_areas": null,
            "grid_template_columns": null,
            "grid_template_rows": null,
            "height": null,
            "justify_content": null,
            "justify_items": null,
            "left": null,
            "margin": null,
            "max_height": null,
            "max_width": null,
            "min_height": null,
            "min_width": null,
            "object_fit": null,
            "object_position": null,
            "order": null,
            "overflow": null,
            "overflow_x": null,
            "overflow_y": null,
            "padding": null,
            "right": null,
            "top": null,
            "visibility": null,
            "width": null
          }
        },
        "43a5428357984c7f81e10ee2a97aa065": {
          "model_module": "@jupyter-widgets/controls",
          "model_name": "DescriptionStyleModel",
          "model_module_version": "1.5.0",
          "state": {
            "_model_module": "@jupyter-widgets/controls",
            "_model_module_version": "1.5.0",
            "_model_name": "DescriptionStyleModel",
            "_view_count": null,
            "_view_module": "@jupyter-widgets/base",
            "_view_module_version": "1.2.0",
            "_view_name": "StyleView",
            "description_width": ""
          }
        },
        "da63fc4dd66f46baa2a43f7c3464fa38": {
          "model_module": "@jupyter-widgets/controls",
          "model_name": "HBoxModel",
          "model_module_version": "1.5.0",
          "state": {
            "_dom_classes": [],
            "_model_module": "@jupyter-widgets/controls",
            "_model_module_version": "1.5.0",
            "_model_name": "HBoxModel",
            "_view_count": null,
            "_view_module": "@jupyter-widgets/controls",
            "_view_module_version": "1.5.0",
            "_view_name": "HBoxView",
            "box_style": "",
            "children": [
              "IPY_MODEL_ab8e902c4005425b9f248253bf1a58b9",
              "IPY_MODEL_3b8a8fa34384408999d43f29e3b74fbd",
              "IPY_MODEL_3811e4473afe42e78007828bcee5ecfb"
            ],
            "layout": "IPY_MODEL_31954a76b23849138f1b4b1f37cf1cc6"
          }
        },
        "ab8e902c4005425b9f248253bf1a58b9": {
          "model_module": "@jupyter-widgets/controls",
          "model_name": "HTMLModel",
          "model_module_version": "1.5.0",
          "state": {
            "_dom_classes": [],
            "_model_module": "@jupyter-widgets/controls",
            "_model_module_version": "1.5.0",
            "_model_name": "HTMLModel",
            "_view_count": null,
            "_view_module": "@jupyter-widgets/controls",
            "_view_module_version": "1.5.0",
            "_view_name": "HTMLView",
            "description": "",
            "description_tooltip": null,
            "layout": "IPY_MODEL_b6fbd2eeca4a4bb3aadd0bdd2272195e",
            "placeholder": "​",
            "style": "IPY_MODEL_4427c8f374854b8caf80acf9faf554dd",
            "value": "tokenizer_config.json: 100%"
          }
        },
        "3b8a8fa34384408999d43f29e3b74fbd": {
          "model_module": "@jupyter-widgets/controls",
          "model_name": "FloatProgressModel",
          "model_module_version": "1.5.0",
          "state": {
            "_dom_classes": [],
            "_model_module": "@jupyter-widgets/controls",
            "_model_module_version": "1.5.0",
            "_model_name": "FloatProgressModel",
            "_view_count": null,
            "_view_module": "@jupyter-widgets/controls",
            "_view_module_version": "1.5.0",
            "_view_name": "ProgressView",
            "bar_style": "success",
            "description": "",
            "description_tooltip": null,
            "layout": "IPY_MODEL_b1f82cbda6b5467b92b6577befcc247e",
            "max": 1477,
            "min": 0,
            "orientation": "horizontal",
            "style": "IPY_MODEL_0125b61f63954849a62c0a1e2cb9a768",
            "value": 1477
          }
        },
        "3811e4473afe42e78007828bcee5ecfb": {
          "model_module": "@jupyter-widgets/controls",
          "model_name": "HTMLModel",
          "model_module_version": "1.5.0",
          "state": {
            "_dom_classes": [],
            "_model_module": "@jupyter-widgets/controls",
            "_model_module_version": "1.5.0",
            "_model_name": "HTMLModel",
            "_view_count": null,
            "_view_module": "@jupyter-widgets/controls",
            "_view_module_version": "1.5.0",
            "_view_name": "HTMLView",
            "description": "",
            "description_tooltip": null,
            "layout": "IPY_MODEL_f690db12593d4792ad2db7eac999c92b",
            "placeholder": "​",
            "style": "IPY_MODEL_9360d357a8b64e7594174ee693bfb601",
            "value": " 1.48k/1.48k [00:00&lt;00:00, 77.1kB/s]"
          }
        },
        "31954a76b23849138f1b4b1f37cf1cc6": {
          "model_module": "@jupyter-widgets/base",
          "model_name": "LayoutModel",
          "model_module_version": "1.2.0",
          "state": {
            "_model_module": "@jupyter-widgets/base",
            "_model_module_version": "1.2.0",
            "_model_name": "LayoutModel",
            "_view_count": null,
            "_view_module": "@jupyter-widgets/base",
            "_view_module_version": "1.2.0",
            "_view_name": "LayoutView",
            "align_content": null,
            "align_items": null,
            "align_self": null,
            "border": null,
            "bottom": null,
            "display": null,
            "flex": null,
            "flex_flow": null,
            "grid_area": null,
            "grid_auto_columns": null,
            "grid_auto_flow": null,
            "grid_auto_rows": null,
            "grid_column": null,
            "grid_gap": null,
            "grid_row": null,
            "grid_template_areas": null,
            "grid_template_columns": null,
            "grid_template_rows": null,
            "height": null,
            "justify_content": null,
            "justify_items": null,
            "left": null,
            "margin": null,
            "max_height": null,
            "max_width": null,
            "min_height": null,
            "min_width": null,
            "object_fit": null,
            "object_position": null,
            "order": null,
            "overflow": null,
            "overflow_x": null,
            "overflow_y": null,
            "padding": null,
            "right": null,
            "top": null,
            "visibility": null,
            "width": null
          }
        },
        "b6fbd2eeca4a4bb3aadd0bdd2272195e": {
          "model_module": "@jupyter-widgets/base",
          "model_name": "LayoutModel",
          "model_module_version": "1.2.0",
          "state": {
            "_model_module": "@jupyter-widgets/base",
            "_model_module_version": "1.2.0",
            "_model_name": "LayoutModel",
            "_view_count": null,
            "_view_module": "@jupyter-widgets/base",
            "_view_module_version": "1.2.0",
            "_view_name": "LayoutView",
            "align_content": null,
            "align_items": null,
            "align_self": null,
            "border": null,
            "bottom": null,
            "display": null,
            "flex": null,
            "flex_flow": null,
            "grid_area": null,
            "grid_auto_columns": null,
            "grid_auto_flow": null,
            "grid_auto_rows": null,
            "grid_column": null,
            "grid_gap": null,
            "grid_row": null,
            "grid_template_areas": null,
            "grid_template_columns": null,
            "grid_template_rows": null,
            "height": null,
            "justify_content": null,
            "justify_items": null,
            "left": null,
            "margin": null,
            "max_height": null,
            "max_width": null,
            "min_height": null,
            "min_width": null,
            "object_fit": null,
            "object_position": null,
            "order": null,
            "overflow": null,
            "overflow_x": null,
            "overflow_y": null,
            "padding": null,
            "right": null,
            "top": null,
            "visibility": null,
            "width": null
          }
        },
        "4427c8f374854b8caf80acf9faf554dd": {
          "model_module": "@jupyter-widgets/controls",
          "model_name": "DescriptionStyleModel",
          "model_module_version": "1.5.0",
          "state": {
            "_model_module": "@jupyter-widgets/controls",
            "_model_module_version": "1.5.0",
            "_model_name": "DescriptionStyleModel",
            "_view_count": null,
            "_view_module": "@jupyter-widgets/base",
            "_view_module_version": "1.2.0",
            "_view_name": "StyleView",
            "description_width": ""
          }
        },
        "b1f82cbda6b5467b92b6577befcc247e": {
          "model_module": "@jupyter-widgets/base",
          "model_name": "LayoutModel",
          "model_module_version": "1.2.0",
          "state": {
            "_model_module": "@jupyter-widgets/base",
            "_model_module_version": "1.2.0",
            "_model_name": "LayoutModel",
            "_view_count": null,
            "_view_module": "@jupyter-widgets/base",
            "_view_module_version": "1.2.0",
            "_view_name": "LayoutView",
            "align_content": null,
            "align_items": null,
            "align_self": null,
            "border": null,
            "bottom": null,
            "display": null,
            "flex": null,
            "flex_flow": null,
            "grid_area": null,
            "grid_auto_columns": null,
            "grid_auto_flow": null,
            "grid_auto_rows": null,
            "grid_column": null,
            "grid_gap": null,
            "grid_row": null,
            "grid_template_areas": null,
            "grid_template_columns": null,
            "grid_template_rows": null,
            "height": null,
            "justify_content": null,
            "justify_items": null,
            "left": null,
            "margin": null,
            "max_height": null,
            "max_width": null,
            "min_height": null,
            "min_width": null,
            "object_fit": null,
            "object_position": null,
            "order": null,
            "overflow": null,
            "overflow_x": null,
            "overflow_y": null,
            "padding": null,
            "right": null,
            "top": null,
            "visibility": null,
            "width": null
          }
        },
        "0125b61f63954849a62c0a1e2cb9a768": {
          "model_module": "@jupyter-widgets/controls",
          "model_name": "ProgressStyleModel",
          "model_module_version": "1.5.0",
          "state": {
            "_model_module": "@jupyter-widgets/controls",
            "_model_module_version": "1.5.0",
            "_model_name": "ProgressStyleModel",
            "_view_count": null,
            "_view_module": "@jupyter-widgets/base",
            "_view_module_version": "1.2.0",
            "_view_name": "StyleView",
            "bar_color": null,
            "description_width": ""
          }
        },
        "f690db12593d4792ad2db7eac999c92b": {
          "model_module": "@jupyter-widgets/base",
          "model_name": "LayoutModel",
          "model_module_version": "1.2.0",
          "state": {
            "_model_module": "@jupyter-widgets/base",
            "_model_module_version": "1.2.0",
            "_model_name": "LayoutModel",
            "_view_count": null,
            "_view_module": "@jupyter-widgets/base",
            "_view_module_version": "1.2.0",
            "_view_name": "LayoutView",
            "align_content": null,
            "align_items": null,
            "align_self": null,
            "border": null,
            "bottom": null,
            "display": null,
            "flex": null,
            "flex_flow": null,
            "grid_area": null,
            "grid_auto_columns": null,
            "grid_auto_flow": null,
            "grid_auto_rows": null,
            "grid_column": null,
            "grid_gap": null,
            "grid_row": null,
            "grid_template_areas": null,
            "grid_template_columns": null,
            "grid_template_rows": null,
            "height": null,
            "justify_content": null,
            "justify_items": null,
            "left": null,
            "margin": null,
            "max_height": null,
            "max_width": null,
            "min_height": null,
            "min_width": null,
            "object_fit": null,
            "object_position": null,
            "order": null,
            "overflow": null,
            "overflow_x": null,
            "overflow_y": null,
            "padding": null,
            "right": null,
            "top": null,
            "visibility": null,
            "width": null
          }
        },
        "9360d357a8b64e7594174ee693bfb601": {
          "model_module": "@jupyter-widgets/controls",
          "model_name": "DescriptionStyleModel",
          "model_module_version": "1.5.0",
          "state": {
            "_model_module": "@jupyter-widgets/controls",
            "_model_module_version": "1.5.0",
            "_model_name": "DescriptionStyleModel",
            "_view_count": null,
            "_view_module": "@jupyter-widgets/base",
            "_view_module_version": "1.2.0",
            "_view_name": "StyleView",
            "description_width": ""
          }
        },
        "e9e2bf51034a4fb281ac79333a12253d": {
          "model_module": "@jupyter-widgets/controls",
          "model_name": "HBoxModel",
          "model_module_version": "1.5.0",
          "state": {
            "_dom_classes": [],
            "_model_module": "@jupyter-widgets/controls",
            "_model_module_version": "1.5.0",
            "_model_name": "HBoxModel",
            "_view_count": null,
            "_view_module": "@jupyter-widgets/controls",
            "_view_module_version": "1.5.0",
            "_view_name": "HBoxView",
            "box_style": "",
            "children": [
              "IPY_MODEL_a07a48e608e74a9aa9a67935161a9ffa",
              "IPY_MODEL_cd0f8a824d61413f876751e6014efe9d",
              "IPY_MODEL_3a3b336711bd4b37a6036f61f7df8739"
            ],
            "layout": "IPY_MODEL_d1955a704efb4596bf4ebc06fb4c4ec4"
          }
        },
        "a07a48e608e74a9aa9a67935161a9ffa": {
          "model_module": "@jupyter-widgets/controls",
          "model_name": "HTMLModel",
          "model_module_version": "1.5.0",
          "state": {
            "_dom_classes": [],
            "_model_module": "@jupyter-widgets/controls",
            "_model_module_version": "1.5.0",
            "_model_name": "HTMLModel",
            "_view_count": null,
            "_view_module": "@jupyter-widgets/controls",
            "_view_module_version": "1.5.0",
            "_view_name": "HTMLView",
            "description": "",
            "description_tooltip": null,
            "layout": "IPY_MODEL_95983c0e46f84bfaae5e34eea270c3f4",
            "placeholder": "​",
            "style": "IPY_MODEL_663edb83bed54b9faf0dca0e8e1c3690",
            "value": "vocab.json: 100%"
          }
        },
        "cd0f8a824d61413f876751e6014efe9d": {
          "model_module": "@jupyter-widgets/controls",
          "model_name": "FloatProgressModel",
          "model_module_version": "1.5.0",
          "state": {
            "_dom_classes": [],
            "_model_module": "@jupyter-widgets/controls",
            "_model_module_version": "1.5.0",
            "_model_name": "FloatProgressModel",
            "_view_count": null,
            "_view_module": "@jupyter-widgets/controls",
            "_view_module_version": "1.5.0",
            "_view_name": "ProgressView",
            "bar_style": "success",
            "description": "",
            "description_tooltip": null,
            "layout": "IPY_MODEL_d7ff9a0f431e4f3c841dd5b9856eccd7",
            "max": 703051,
            "min": 0,
            "orientation": "horizontal",
            "style": "IPY_MODEL_5459f650dc7c4b4fb0d5401beaa8ae16",
            "value": 703051
          }
        },
        "3a3b336711bd4b37a6036f61f7df8739": {
          "model_module": "@jupyter-widgets/controls",
          "model_name": "HTMLModel",
          "model_module_version": "1.5.0",
          "state": {
            "_dom_classes": [],
            "_model_module": "@jupyter-widgets/controls",
            "_model_module_version": "1.5.0",
            "_model_name": "HTMLModel",
            "_view_count": null,
            "_view_module": "@jupyter-widgets/controls",
            "_view_module_version": "1.5.0",
            "_view_name": "HTMLView",
            "description": "",
            "description_tooltip": null,
            "layout": "IPY_MODEL_b022afa3f748419dae74619dc18beb63",
            "placeholder": "​",
            "style": "IPY_MODEL_375fd845daa44c638a4ae1339bb285a6",
            "value": " 703k/703k [00:00&lt;00:00, 2.80MB/s]"
          }
        },
        "d1955a704efb4596bf4ebc06fb4c4ec4": {
          "model_module": "@jupyter-widgets/base",
          "model_name": "LayoutModel",
          "model_module_version": "1.2.0",
          "state": {
            "_model_module": "@jupyter-widgets/base",
            "_model_module_version": "1.2.0",
            "_model_name": "LayoutModel",
            "_view_count": null,
            "_view_module": "@jupyter-widgets/base",
            "_view_module_version": "1.2.0",
            "_view_name": "LayoutView",
            "align_content": null,
            "align_items": null,
            "align_self": null,
            "border": null,
            "bottom": null,
            "display": null,
            "flex": null,
            "flex_flow": null,
            "grid_area": null,
            "grid_auto_columns": null,
            "grid_auto_flow": null,
            "grid_auto_rows": null,
            "grid_column": null,
            "grid_gap": null,
            "grid_row": null,
            "grid_template_areas": null,
            "grid_template_columns": null,
            "grid_template_rows": null,
            "height": null,
            "justify_content": null,
            "justify_items": null,
            "left": null,
            "margin": null,
            "max_height": null,
            "max_width": null,
            "min_height": null,
            "min_width": null,
            "object_fit": null,
            "object_position": null,
            "order": null,
            "overflow": null,
            "overflow_x": null,
            "overflow_y": null,
            "padding": null,
            "right": null,
            "top": null,
            "visibility": null,
            "width": null
          }
        },
        "95983c0e46f84bfaae5e34eea270c3f4": {
          "model_module": "@jupyter-widgets/base",
          "model_name": "LayoutModel",
          "model_module_version": "1.2.0",
          "state": {
            "_model_module": "@jupyter-widgets/base",
            "_model_module_version": "1.2.0",
            "_model_name": "LayoutModel",
            "_view_count": null,
            "_view_module": "@jupyter-widgets/base",
            "_view_module_version": "1.2.0",
            "_view_name": "LayoutView",
            "align_content": null,
            "align_items": null,
            "align_self": null,
            "border": null,
            "bottom": null,
            "display": null,
            "flex": null,
            "flex_flow": null,
            "grid_area": null,
            "grid_auto_columns": null,
            "grid_auto_flow": null,
            "grid_auto_rows": null,
            "grid_column": null,
            "grid_gap": null,
            "grid_row": null,
            "grid_template_areas": null,
            "grid_template_columns": null,
            "grid_template_rows": null,
            "height": null,
            "justify_content": null,
            "justify_items": null,
            "left": null,
            "margin": null,
            "max_height": null,
            "max_width": null,
            "min_height": null,
            "min_width": null,
            "object_fit": null,
            "object_position": null,
            "order": null,
            "overflow": null,
            "overflow_x": null,
            "overflow_y": null,
            "padding": null,
            "right": null,
            "top": null,
            "visibility": null,
            "width": null
          }
        },
        "663edb83bed54b9faf0dca0e8e1c3690": {
          "model_module": "@jupyter-widgets/controls",
          "model_name": "DescriptionStyleModel",
          "model_module_version": "1.5.0",
          "state": {
            "_model_module": "@jupyter-widgets/controls",
            "_model_module_version": "1.5.0",
            "_model_name": "DescriptionStyleModel",
            "_view_count": null,
            "_view_module": "@jupyter-widgets/base",
            "_view_module_version": "1.2.0",
            "_view_name": "StyleView",
            "description_width": ""
          }
        },
        "d7ff9a0f431e4f3c841dd5b9856eccd7": {
          "model_module": "@jupyter-widgets/base",
          "model_name": "LayoutModel",
          "model_module_version": "1.2.0",
          "state": {
            "_model_module": "@jupyter-widgets/base",
            "_model_module_version": "1.2.0",
            "_model_name": "LayoutModel",
            "_view_count": null,
            "_view_module": "@jupyter-widgets/base",
            "_view_module_version": "1.2.0",
            "_view_name": "LayoutView",
            "align_content": null,
            "align_items": null,
            "align_self": null,
            "border": null,
            "bottom": null,
            "display": null,
            "flex": null,
            "flex_flow": null,
            "grid_area": null,
            "grid_auto_columns": null,
            "grid_auto_flow": null,
            "grid_auto_rows": null,
            "grid_column": null,
            "grid_gap": null,
            "grid_row": null,
            "grid_template_areas": null,
            "grid_template_columns": null,
            "grid_template_rows": null,
            "height": null,
            "justify_content": null,
            "justify_items": null,
            "left": null,
            "margin": null,
            "max_height": null,
            "max_width": null,
            "min_height": null,
            "min_width": null,
            "object_fit": null,
            "object_position": null,
            "order": null,
            "overflow": null,
            "overflow_x": null,
            "overflow_y": null,
            "padding": null,
            "right": null,
            "top": null,
            "visibility": null,
            "width": null
          }
        },
        "5459f650dc7c4b4fb0d5401beaa8ae16": {
          "model_module": "@jupyter-widgets/controls",
          "model_name": "ProgressStyleModel",
          "model_module_version": "1.5.0",
          "state": {
            "_model_module": "@jupyter-widgets/controls",
            "_model_module_version": "1.5.0",
            "_model_name": "ProgressStyleModel",
            "_view_count": null,
            "_view_module": "@jupyter-widgets/base",
            "_view_module_version": "1.2.0",
            "_view_name": "StyleView",
            "bar_color": null,
            "description_width": ""
          }
        },
        "b022afa3f748419dae74619dc18beb63": {
          "model_module": "@jupyter-widgets/base",
          "model_name": "LayoutModel",
          "model_module_version": "1.2.0",
          "state": {
            "_model_module": "@jupyter-widgets/base",
            "_model_module_version": "1.2.0",
            "_model_name": "LayoutModel",
            "_view_count": null,
            "_view_module": "@jupyter-widgets/base",
            "_view_module_version": "1.2.0",
            "_view_name": "LayoutView",
            "align_content": null,
            "align_items": null,
            "align_self": null,
            "border": null,
            "bottom": null,
            "display": null,
            "flex": null,
            "flex_flow": null,
            "grid_area": null,
            "grid_auto_columns": null,
            "grid_auto_flow": null,
            "grid_auto_rows": null,
            "grid_column": null,
            "grid_gap": null,
            "grid_row": null,
            "grid_template_areas": null,
            "grid_template_columns": null,
            "grid_template_rows": null,
            "height": null,
            "justify_content": null,
            "justify_items": null,
            "left": null,
            "margin": null,
            "max_height": null,
            "max_width": null,
            "min_height": null,
            "min_width": null,
            "object_fit": null,
            "object_position": null,
            "order": null,
            "overflow": null,
            "overflow_x": null,
            "overflow_y": null,
            "padding": null,
            "right": null,
            "top": null,
            "visibility": null,
            "width": null
          }
        },
        "375fd845daa44c638a4ae1339bb285a6": {
          "model_module": "@jupyter-widgets/controls",
          "model_name": "DescriptionStyleModel",
          "model_module_version": "1.5.0",
          "state": {
            "_model_module": "@jupyter-widgets/controls",
            "_model_module_version": "1.5.0",
            "_model_name": "DescriptionStyleModel",
            "_view_count": null,
            "_view_module": "@jupyter-widgets/base",
            "_view_module_version": "1.2.0",
            "_view_name": "StyleView",
            "description_width": ""
          }
        },
        "b0b570cce6a64f078b5b9d4baf2b6faa": {
          "model_module": "@jupyter-widgets/controls",
          "model_name": "HBoxModel",
          "model_module_version": "1.5.0",
          "state": {
            "_dom_classes": [],
            "_model_module": "@jupyter-widgets/controls",
            "_model_module_version": "1.5.0",
            "_model_name": "HBoxModel",
            "_view_count": null,
            "_view_module": "@jupyter-widgets/controls",
            "_view_module_version": "1.5.0",
            "_view_name": "HBoxView",
            "box_style": "",
            "children": [
              "IPY_MODEL_182df1c2b8ef43beb86079dcd533e24d",
              "IPY_MODEL_0a79bc8fe9ef4599a2ef9d08d9f04562",
              "IPY_MODEL_9bafbdda67894d62b5a271fd2db78194"
            ],
            "layout": "IPY_MODEL_80411b248e1f4fc3846b0fb304c236d3"
          }
        },
        "182df1c2b8ef43beb86079dcd533e24d": {
          "model_module": "@jupyter-widgets/controls",
          "model_name": "HTMLModel",
          "model_module_version": "1.5.0",
          "state": {
            "_dom_classes": [],
            "_model_module": "@jupyter-widgets/controls",
            "_model_module_version": "1.5.0",
            "_model_name": "HTMLModel",
            "_view_count": null,
            "_view_module": "@jupyter-widgets/controls",
            "_view_module_version": "1.5.0",
            "_view_name": "HTMLView",
            "description": "",
            "description_tooltip": null,
            "layout": "IPY_MODEL_acf02d8244e04f9fb056c68ee7fee755",
            "placeholder": "​",
            "style": "IPY_MODEL_66147a81615d447fa46f62005c0261fc",
            "value": "merges.txt: 100%"
          }
        },
        "0a79bc8fe9ef4599a2ef9d08d9f04562": {
          "model_module": "@jupyter-widgets/controls",
          "model_name": "FloatProgressModel",
          "model_module_version": "1.5.0",
          "state": {
            "_dom_classes": [],
            "_model_module": "@jupyter-widgets/controls",
            "_model_module_version": "1.5.0",
            "_model_name": "FloatProgressModel",
            "_view_count": null,
            "_view_module": "@jupyter-widgets/controls",
            "_view_module_version": "1.5.0",
            "_view_name": "ProgressView",
            "bar_style": "success",
            "description": "",
            "description_tooltip": null,
            "layout": "IPY_MODEL_193dcc11eef14d9484260c09aedc92b9",
            "max": 294364,
            "min": 0,
            "orientation": "horizontal",
            "style": "IPY_MODEL_5b27c791e83e4f4e8beb8a87c32e8fc7",
            "value": 294364
          }
        },
        "9bafbdda67894d62b5a271fd2db78194": {
          "model_module": "@jupyter-widgets/controls",
          "model_name": "HTMLModel",
          "model_module_version": "1.5.0",
          "state": {
            "_dom_classes": [],
            "_model_module": "@jupyter-widgets/controls",
            "_model_module_version": "1.5.0",
            "_model_name": "HTMLModel",
            "_view_count": null,
            "_view_module": "@jupyter-widgets/controls",
            "_view_module_version": "1.5.0",
            "_view_name": "HTMLView",
            "description": "",
            "description_tooltip": null,
            "layout": "IPY_MODEL_b02ff45f0a3b42fd82360abc4dbbb0c5",
            "placeholder": "​",
            "style": "IPY_MODEL_ca322c1c743b42e7a7833f24230c3bca",
            "value": " 294k/294k [00:00&lt;00:00, 1.22MB/s]"
          }
        },
        "80411b248e1f4fc3846b0fb304c236d3": {
          "model_module": "@jupyter-widgets/base",
          "model_name": "LayoutModel",
          "model_module_version": "1.2.0",
          "state": {
            "_model_module": "@jupyter-widgets/base",
            "_model_module_version": "1.2.0",
            "_model_name": "LayoutModel",
            "_view_count": null,
            "_view_module": "@jupyter-widgets/base",
            "_view_module_version": "1.2.0",
            "_view_name": "LayoutView",
            "align_content": null,
            "align_items": null,
            "align_self": null,
            "border": null,
            "bottom": null,
            "display": null,
            "flex": null,
            "flex_flow": null,
            "grid_area": null,
            "grid_auto_columns": null,
            "grid_auto_flow": null,
            "grid_auto_rows": null,
            "grid_column": null,
            "grid_gap": null,
            "grid_row": null,
            "grid_template_areas": null,
            "grid_template_columns": null,
            "grid_template_rows": null,
            "height": null,
            "justify_content": null,
            "justify_items": null,
            "left": null,
            "margin": null,
            "max_height": null,
            "max_width": null,
            "min_height": null,
            "min_width": null,
            "object_fit": null,
            "object_position": null,
            "order": null,
            "overflow": null,
            "overflow_x": null,
            "overflow_y": null,
            "padding": null,
            "right": null,
            "top": null,
            "visibility": null,
            "width": null
          }
        },
        "acf02d8244e04f9fb056c68ee7fee755": {
          "model_module": "@jupyter-widgets/base",
          "model_name": "LayoutModel",
          "model_module_version": "1.2.0",
          "state": {
            "_model_module": "@jupyter-widgets/base",
            "_model_module_version": "1.2.0",
            "_model_name": "LayoutModel",
            "_view_count": null,
            "_view_module": "@jupyter-widgets/base",
            "_view_module_version": "1.2.0",
            "_view_name": "LayoutView",
            "align_content": null,
            "align_items": null,
            "align_self": null,
            "border": null,
            "bottom": null,
            "display": null,
            "flex": null,
            "flex_flow": null,
            "grid_area": null,
            "grid_auto_columns": null,
            "grid_auto_flow": null,
            "grid_auto_rows": null,
            "grid_column": null,
            "grid_gap": null,
            "grid_row": null,
            "grid_template_areas": null,
            "grid_template_columns": null,
            "grid_template_rows": null,
            "height": null,
            "justify_content": null,
            "justify_items": null,
            "left": null,
            "margin": null,
            "max_height": null,
            "max_width": null,
            "min_height": null,
            "min_width": null,
            "object_fit": null,
            "object_position": null,
            "order": null,
            "overflow": null,
            "overflow_x": null,
            "overflow_y": null,
            "padding": null,
            "right": null,
            "top": null,
            "visibility": null,
            "width": null
          }
        },
        "66147a81615d447fa46f62005c0261fc": {
          "model_module": "@jupyter-widgets/controls",
          "model_name": "DescriptionStyleModel",
          "model_module_version": "1.5.0",
          "state": {
            "_model_module": "@jupyter-widgets/controls",
            "_model_module_version": "1.5.0",
            "_model_name": "DescriptionStyleModel",
            "_view_count": null,
            "_view_module": "@jupyter-widgets/base",
            "_view_module_version": "1.2.0",
            "_view_name": "StyleView",
            "description_width": ""
          }
        },
        "193dcc11eef14d9484260c09aedc92b9": {
          "model_module": "@jupyter-widgets/base",
          "model_name": "LayoutModel",
          "model_module_version": "1.2.0",
          "state": {
            "_model_module": "@jupyter-widgets/base",
            "_model_module_version": "1.2.0",
            "_model_name": "LayoutModel",
            "_view_count": null,
            "_view_module": "@jupyter-widgets/base",
            "_view_module_version": "1.2.0",
            "_view_name": "LayoutView",
            "align_content": null,
            "align_items": null,
            "align_self": null,
            "border": null,
            "bottom": null,
            "display": null,
            "flex": null,
            "flex_flow": null,
            "grid_area": null,
            "grid_auto_columns": null,
            "grid_auto_flow": null,
            "grid_auto_rows": null,
            "grid_column": null,
            "grid_gap": null,
            "grid_row": null,
            "grid_template_areas": null,
            "grid_template_columns": null,
            "grid_template_rows": null,
            "height": null,
            "justify_content": null,
            "justify_items": null,
            "left": null,
            "margin": null,
            "max_height": null,
            "max_width": null,
            "min_height": null,
            "min_width": null,
            "object_fit": null,
            "object_position": null,
            "order": null,
            "overflow": null,
            "overflow_x": null,
            "overflow_y": null,
            "padding": null,
            "right": null,
            "top": null,
            "visibility": null,
            "width": null
          }
        },
        "5b27c791e83e4f4e8beb8a87c32e8fc7": {
          "model_module": "@jupyter-widgets/controls",
          "model_name": "ProgressStyleModel",
          "model_module_version": "1.5.0",
          "state": {
            "_model_module": "@jupyter-widgets/controls",
            "_model_module_version": "1.5.0",
            "_model_name": "ProgressStyleModel",
            "_view_count": null,
            "_view_module": "@jupyter-widgets/base",
            "_view_module_version": "1.2.0",
            "_view_name": "StyleView",
            "bar_color": null,
            "description_width": ""
          }
        },
        "b02ff45f0a3b42fd82360abc4dbbb0c5": {
          "model_module": "@jupyter-widgets/base",
          "model_name": "LayoutModel",
          "model_module_version": "1.2.0",
          "state": {
            "_model_module": "@jupyter-widgets/base",
            "_model_module_version": "1.2.0",
            "_model_name": "LayoutModel",
            "_view_count": null,
            "_view_module": "@jupyter-widgets/base",
            "_view_module_version": "1.2.0",
            "_view_name": "LayoutView",
            "align_content": null,
            "align_items": null,
            "align_self": null,
            "border": null,
            "bottom": null,
            "display": null,
            "flex": null,
            "flex_flow": null,
            "grid_area": null,
            "grid_auto_columns": null,
            "grid_auto_flow": null,
            "grid_auto_rows": null,
            "grid_column": null,
            "grid_gap": null,
            "grid_row": null,
            "grid_template_areas": null,
            "grid_template_columns": null,
            "grid_template_rows": null,
            "height": null,
            "justify_content": null,
            "justify_items": null,
            "left": null,
            "margin": null,
            "max_height": null,
            "max_width": null,
            "min_height": null,
            "min_width": null,
            "object_fit": null,
            "object_position": null,
            "order": null,
            "overflow": null,
            "overflow_x": null,
            "overflow_y": null,
            "padding": null,
            "right": null,
            "top": null,
            "visibility": null,
            "width": null
          }
        },
        "ca322c1c743b42e7a7833f24230c3bca": {
          "model_module": "@jupyter-widgets/controls",
          "model_name": "DescriptionStyleModel",
          "model_module_version": "1.5.0",
          "state": {
            "_model_module": "@jupyter-widgets/controls",
            "_model_module_version": "1.5.0",
            "_model_name": "DescriptionStyleModel",
            "_view_count": null,
            "_view_module": "@jupyter-widgets/base",
            "_view_module_version": "1.2.0",
            "_view_name": "StyleView",
            "description_width": ""
          }
        },
        "d24d8600565a48018ff640bec14310c7": {
          "model_module": "@jupyter-widgets/controls",
          "model_name": "HBoxModel",
          "model_module_version": "1.5.0",
          "state": {
            "_dom_classes": [],
            "_model_module": "@jupyter-widgets/controls",
            "_model_module_version": "1.5.0",
            "_model_name": "HBoxModel",
            "_view_count": null,
            "_view_module": "@jupyter-widgets/controls",
            "_view_module_version": "1.5.0",
            "_view_name": "HBoxView",
            "box_style": "",
            "children": [
              "IPY_MODEL_3f3ff5900fa042589f2428ddc5212a9a",
              "IPY_MODEL_21fd33d8df6c4973a9136d280c270d76",
              "IPY_MODEL_f84b8910eeb441f6a36ad66614192d4e"
            ],
            "layout": "IPY_MODEL_51a46be30625473e9fed66e421e76fb4"
          }
        },
        "3f3ff5900fa042589f2428ddc5212a9a": {
          "model_module": "@jupyter-widgets/controls",
          "model_name": "HTMLModel",
          "model_module_version": "1.5.0",
          "state": {
            "_dom_classes": [],
            "_model_module": "@jupyter-widgets/controls",
            "_model_module_version": "1.5.0",
            "_model_name": "HTMLModel",
            "_view_count": null,
            "_view_module": "@jupyter-widgets/controls",
            "_view_module_version": "1.5.0",
            "_view_name": "HTMLView",
            "description": "",
            "description_tooltip": null,
            "layout": "IPY_MODEL_b62bea40cf16488f8c4fbca047c8dd7a",
            "placeholder": "​",
            "style": "IPY_MODEL_1f31f542550d443c8ecfb774c5950505",
            "value": "added_tokens.json: 100%"
          }
        },
        "21fd33d8df6c4973a9136d280c270d76": {
          "model_module": "@jupyter-widgets/controls",
          "model_name": "FloatProgressModel",
          "model_module_version": "1.5.0",
          "state": {
            "_dom_classes": [],
            "_model_module": "@jupyter-widgets/controls",
            "_model_module_version": "1.5.0",
            "_model_name": "FloatProgressModel",
            "_view_count": null,
            "_view_module": "@jupyter-widgets/controls",
            "_view_module_version": "1.5.0",
            "_view_name": "ProgressView",
            "bar_style": "success",
            "description": "",
            "description_tooltip": null,
            "layout": "IPY_MODEL_0e17210d73ac4fa7a137cab8ecaad1db",
            "max": 2,
            "min": 0,
            "orientation": "horizontal",
            "style": "IPY_MODEL_980f424d2899484ca92a093ec01d4b8c",
            "value": 2
          }
        },
        "f84b8910eeb441f6a36ad66614192d4e": {
          "model_module": "@jupyter-widgets/controls",
          "model_name": "HTMLModel",
          "model_module_version": "1.5.0",
          "state": {
            "_dom_classes": [],
            "_model_module": "@jupyter-widgets/controls",
            "_model_module_version": "1.5.0",
            "_model_name": "HTMLModel",
            "_view_count": null,
            "_view_module": "@jupyter-widgets/controls",
            "_view_module_version": "1.5.0",
            "_view_name": "HTMLView",
            "description": "",
            "description_tooltip": null,
            "layout": "IPY_MODEL_7295b5e93e15449fb98e36cd22a330cd",
            "placeholder": "​",
            "style": "IPY_MODEL_b2fbd5e7b49447378668994c83d6c9e9",
            "value": " 2.00/2.00 [00:00&lt;00:00, 132B/s]"
          }
        },
        "51a46be30625473e9fed66e421e76fb4": {
          "model_module": "@jupyter-widgets/base",
          "model_name": "LayoutModel",
          "model_module_version": "1.2.0",
          "state": {
            "_model_module": "@jupyter-widgets/base",
            "_model_module_version": "1.2.0",
            "_model_name": "LayoutModel",
            "_view_count": null,
            "_view_module": "@jupyter-widgets/base",
            "_view_module_version": "1.2.0",
            "_view_name": "LayoutView",
            "align_content": null,
            "align_items": null,
            "align_self": null,
            "border": null,
            "bottom": null,
            "display": null,
            "flex": null,
            "flex_flow": null,
            "grid_area": null,
            "grid_auto_columns": null,
            "grid_auto_flow": null,
            "grid_auto_rows": null,
            "grid_column": null,
            "grid_gap": null,
            "grid_row": null,
            "grid_template_areas": null,
            "grid_template_columns": null,
            "grid_template_rows": null,
            "height": null,
            "justify_content": null,
            "justify_items": null,
            "left": null,
            "margin": null,
            "max_height": null,
            "max_width": null,
            "min_height": null,
            "min_width": null,
            "object_fit": null,
            "object_position": null,
            "order": null,
            "overflow": null,
            "overflow_x": null,
            "overflow_y": null,
            "padding": null,
            "right": null,
            "top": null,
            "visibility": null,
            "width": null
          }
        },
        "b62bea40cf16488f8c4fbca047c8dd7a": {
          "model_module": "@jupyter-widgets/base",
          "model_name": "LayoutModel",
          "model_module_version": "1.2.0",
          "state": {
            "_model_module": "@jupyter-widgets/base",
            "_model_module_version": "1.2.0",
            "_model_name": "LayoutModel",
            "_view_count": null,
            "_view_module": "@jupyter-widgets/base",
            "_view_module_version": "1.2.0",
            "_view_name": "LayoutView",
            "align_content": null,
            "align_items": null,
            "align_self": null,
            "border": null,
            "bottom": null,
            "display": null,
            "flex": null,
            "flex_flow": null,
            "grid_area": null,
            "grid_auto_columns": null,
            "grid_auto_flow": null,
            "grid_auto_rows": null,
            "grid_column": null,
            "grid_gap": null,
            "grid_row": null,
            "grid_template_areas": null,
            "grid_template_columns": null,
            "grid_template_rows": null,
            "height": null,
            "justify_content": null,
            "justify_items": null,
            "left": null,
            "margin": null,
            "max_height": null,
            "max_width": null,
            "min_height": null,
            "min_width": null,
            "object_fit": null,
            "object_position": null,
            "order": null,
            "overflow": null,
            "overflow_x": null,
            "overflow_y": null,
            "padding": null,
            "right": null,
            "top": null,
            "visibility": null,
            "width": null
          }
        },
        "1f31f542550d443c8ecfb774c5950505": {
          "model_module": "@jupyter-widgets/controls",
          "model_name": "DescriptionStyleModel",
          "model_module_version": "1.5.0",
          "state": {
            "_model_module": "@jupyter-widgets/controls",
            "_model_module_version": "1.5.0",
            "_model_name": "DescriptionStyleModel",
            "_view_count": null,
            "_view_module": "@jupyter-widgets/base",
            "_view_module_version": "1.2.0",
            "_view_name": "StyleView",
            "description_width": ""
          }
        },
        "0e17210d73ac4fa7a137cab8ecaad1db": {
          "model_module": "@jupyter-widgets/base",
          "model_name": "LayoutModel",
          "model_module_version": "1.2.0",
          "state": {
            "_model_module": "@jupyter-widgets/base",
            "_model_module_version": "1.2.0",
            "_model_name": "LayoutModel",
            "_view_count": null,
            "_view_module": "@jupyter-widgets/base",
            "_view_module_version": "1.2.0",
            "_view_name": "LayoutView",
            "align_content": null,
            "align_items": null,
            "align_self": null,
            "border": null,
            "bottom": null,
            "display": null,
            "flex": null,
            "flex_flow": null,
            "grid_area": null,
            "grid_auto_columns": null,
            "grid_auto_flow": null,
            "grid_auto_rows": null,
            "grid_column": null,
            "grid_gap": null,
            "grid_row": null,
            "grid_template_areas": null,
            "grid_template_columns": null,
            "grid_template_rows": null,
            "height": null,
            "justify_content": null,
            "justify_items": null,
            "left": null,
            "margin": null,
            "max_height": null,
            "max_width": null,
            "min_height": null,
            "min_width": null,
            "object_fit": null,
            "object_position": null,
            "order": null,
            "overflow": null,
            "overflow_x": null,
            "overflow_y": null,
            "padding": null,
            "right": null,
            "top": null,
            "visibility": null,
            "width": null
          }
        },
        "980f424d2899484ca92a093ec01d4b8c": {
          "model_module": "@jupyter-widgets/controls",
          "model_name": "ProgressStyleModel",
          "model_module_version": "1.5.0",
          "state": {
            "_model_module": "@jupyter-widgets/controls",
            "_model_module_version": "1.5.0",
            "_model_name": "ProgressStyleModel",
            "_view_count": null,
            "_view_module": "@jupyter-widgets/base",
            "_view_module_version": "1.2.0",
            "_view_name": "StyleView",
            "bar_color": null,
            "description_width": ""
          }
        },
        "7295b5e93e15449fb98e36cd22a330cd": {
          "model_module": "@jupyter-widgets/base",
          "model_name": "LayoutModel",
          "model_module_version": "1.2.0",
          "state": {
            "_model_module": "@jupyter-widgets/base",
            "_model_module_version": "1.2.0",
            "_model_name": "LayoutModel",
            "_view_count": null,
            "_view_module": "@jupyter-widgets/base",
            "_view_module_version": "1.2.0",
            "_view_name": "LayoutView",
            "align_content": null,
            "align_items": null,
            "align_self": null,
            "border": null,
            "bottom": null,
            "display": null,
            "flex": null,
            "flex_flow": null,
            "grid_area": null,
            "grid_auto_columns": null,
            "grid_auto_flow": null,
            "grid_auto_rows": null,
            "grid_column": null,
            "grid_gap": null,
            "grid_row": null,
            "grid_template_areas": null,
            "grid_template_columns": null,
            "grid_template_rows": null,
            "height": null,
            "justify_content": null,
            "justify_items": null,
            "left": null,
            "margin": null,
            "max_height": null,
            "max_width": null,
            "min_height": null,
            "min_width": null,
            "object_fit": null,
            "object_position": null,
            "order": null,
            "overflow": null,
            "overflow_x": null,
            "overflow_y": null,
            "padding": null,
            "right": null,
            "top": null,
            "visibility": null,
            "width": null
          }
        },
        "b2fbd5e7b49447378668994c83d6c9e9": {
          "model_module": "@jupyter-widgets/controls",
          "model_name": "DescriptionStyleModel",
          "model_module_version": "1.5.0",
          "state": {
            "_model_module": "@jupyter-widgets/controls",
            "_model_module_version": "1.5.0",
            "_model_name": "DescriptionStyleModel",
            "_view_count": null,
            "_view_module": "@jupyter-widgets/base",
            "_view_module_version": "1.2.0",
            "_view_name": "StyleView",
            "description_width": ""
          }
        },
        "4880f026d34b4e98a17042c499ebb667": {
          "model_module": "@jupyter-widgets/controls",
          "model_name": "HBoxModel",
          "model_module_version": "1.5.0",
          "state": {
            "_dom_classes": [],
            "_model_module": "@jupyter-widgets/controls",
            "_model_module_version": "1.5.0",
            "_model_name": "HBoxModel",
            "_view_count": null,
            "_view_module": "@jupyter-widgets/controls",
            "_view_module_version": "1.5.0",
            "_view_name": "HBoxView",
            "box_style": "",
            "children": [
              "IPY_MODEL_e6c61ad1170241178785fd9dde6f73ec",
              "IPY_MODEL_3106b7f9f13f42d2a490399157923d3c",
              "IPY_MODEL_73a39d55e1b24b1eae2f91df63cc3c12"
            ],
            "layout": "IPY_MODEL_c13427722aca4d3fba05b84975ea4f4c"
          }
        },
        "e6c61ad1170241178785fd9dde6f73ec": {
          "model_module": "@jupyter-widgets/controls",
          "model_name": "HTMLModel",
          "model_module_version": "1.5.0",
          "state": {
            "_dom_classes": [],
            "_model_module": "@jupyter-widgets/controls",
            "_model_module_version": "1.5.0",
            "_model_name": "HTMLModel",
            "_view_count": null,
            "_view_module": "@jupyter-widgets/controls",
            "_view_module_version": "1.5.0",
            "_view_name": "HTMLView",
            "description": "",
            "description_tooltip": null,
            "layout": "IPY_MODEL_0403cd7d49984359924472df7802b8c4",
            "placeholder": "​",
            "style": "IPY_MODEL_d60548a7cb4b48908e1d6006c742b96b",
            "value": "special_tokens_map.json: 100%"
          }
        },
        "3106b7f9f13f42d2a490399157923d3c": {
          "model_module": "@jupyter-widgets/controls",
          "model_name": "FloatProgressModel",
          "model_module_version": "1.5.0",
          "state": {
            "_dom_classes": [],
            "_model_module": "@jupyter-widgets/controls",
            "_model_module_version": "1.5.0",
            "_model_name": "FloatProgressModel",
            "_view_count": null,
            "_view_module": "@jupyter-widgets/controls",
            "_view_module_version": "1.5.0",
            "_view_name": "ProgressView",
            "bar_style": "success",
            "description": "",
            "description_tooltip": null,
            "layout": "IPY_MODEL_26b9f9b5771a47b296fc5bbbfd1c3859",
            "max": 12512,
            "min": 0,
            "orientation": "horizontal",
            "style": "IPY_MODEL_2b03bd06a14e4bf7837d42f160aaf6e2",
            "value": 12512
          }
        },
        "73a39d55e1b24b1eae2f91df63cc3c12": {
          "model_module": "@jupyter-widgets/controls",
          "model_name": "HTMLModel",
          "model_module_version": "1.5.0",
          "state": {
            "_dom_classes": [],
            "_model_module": "@jupyter-widgets/controls",
            "_model_module_version": "1.5.0",
            "_model_name": "HTMLModel",
            "_view_count": null,
            "_view_module": "@jupyter-widgets/controls",
            "_view_module_version": "1.5.0",
            "_view_name": "HTMLView",
            "description": "",
            "description_tooltip": null,
            "layout": "IPY_MODEL_1c71ae9237794d718e2a9d2209ed6b3a",
            "placeholder": "​",
            "style": "IPY_MODEL_48c666ba291241a1a52c3b7ccc5d5d8d",
            "value": " 12.5k/12.5k [00:00&lt;00:00, 866kB/s]"
          }
        },
        "c13427722aca4d3fba05b84975ea4f4c": {
          "model_module": "@jupyter-widgets/base",
          "model_name": "LayoutModel",
          "model_module_version": "1.2.0",
          "state": {
            "_model_module": "@jupyter-widgets/base",
            "_model_module_version": "1.2.0",
            "_model_name": "LayoutModel",
            "_view_count": null,
            "_view_module": "@jupyter-widgets/base",
            "_view_module_version": "1.2.0",
            "_view_name": "LayoutView",
            "align_content": null,
            "align_items": null,
            "align_self": null,
            "border": null,
            "bottom": null,
            "display": null,
            "flex": null,
            "flex_flow": null,
            "grid_area": null,
            "grid_auto_columns": null,
            "grid_auto_flow": null,
            "grid_auto_rows": null,
            "grid_column": null,
            "grid_gap": null,
            "grid_row": null,
            "grid_template_areas": null,
            "grid_template_columns": null,
            "grid_template_rows": null,
            "height": null,
            "justify_content": null,
            "justify_items": null,
            "left": null,
            "margin": null,
            "max_height": null,
            "max_width": null,
            "min_height": null,
            "min_width": null,
            "object_fit": null,
            "object_position": null,
            "order": null,
            "overflow": null,
            "overflow_x": null,
            "overflow_y": null,
            "padding": null,
            "right": null,
            "top": null,
            "visibility": null,
            "width": null
          }
        },
        "0403cd7d49984359924472df7802b8c4": {
          "model_module": "@jupyter-widgets/base",
          "model_name": "LayoutModel",
          "model_module_version": "1.2.0",
          "state": {
            "_model_module": "@jupyter-widgets/base",
            "_model_module_version": "1.2.0",
            "_model_name": "LayoutModel",
            "_view_count": null,
            "_view_module": "@jupyter-widgets/base",
            "_view_module_version": "1.2.0",
            "_view_name": "LayoutView",
            "align_content": null,
            "align_items": null,
            "align_self": null,
            "border": null,
            "bottom": null,
            "display": null,
            "flex": null,
            "flex_flow": null,
            "grid_area": null,
            "grid_auto_columns": null,
            "grid_auto_flow": null,
            "grid_auto_rows": null,
            "grid_column": null,
            "grid_gap": null,
            "grid_row": null,
            "grid_template_areas": null,
            "grid_template_columns": null,
            "grid_template_rows": null,
            "height": null,
            "justify_content": null,
            "justify_items": null,
            "left": null,
            "margin": null,
            "max_height": null,
            "max_width": null,
            "min_height": null,
            "min_width": null,
            "object_fit": null,
            "object_position": null,
            "order": null,
            "overflow": null,
            "overflow_x": null,
            "overflow_y": null,
            "padding": null,
            "right": null,
            "top": null,
            "visibility": null,
            "width": null
          }
        },
        "d60548a7cb4b48908e1d6006c742b96b": {
          "model_module": "@jupyter-widgets/controls",
          "model_name": "DescriptionStyleModel",
          "model_module_version": "1.5.0",
          "state": {
            "_model_module": "@jupyter-widgets/controls",
            "_model_module_version": "1.5.0",
            "_model_name": "DescriptionStyleModel",
            "_view_count": null,
            "_view_module": "@jupyter-widgets/base",
            "_view_module_version": "1.2.0",
            "_view_name": "StyleView",
            "description_width": ""
          }
        },
        "26b9f9b5771a47b296fc5bbbfd1c3859": {
          "model_module": "@jupyter-widgets/base",
          "model_name": "LayoutModel",
          "model_module_version": "1.2.0",
          "state": {
            "_model_module": "@jupyter-widgets/base",
            "_model_module_version": "1.2.0",
            "_model_name": "LayoutModel",
            "_view_count": null,
            "_view_module": "@jupyter-widgets/base",
            "_view_module_version": "1.2.0",
            "_view_name": "LayoutView",
            "align_content": null,
            "align_items": null,
            "align_self": null,
            "border": null,
            "bottom": null,
            "display": null,
            "flex": null,
            "flex_flow": null,
            "grid_area": null,
            "grid_auto_columns": null,
            "grid_auto_flow": null,
            "grid_auto_rows": null,
            "grid_column": null,
            "grid_gap": null,
            "grid_row": null,
            "grid_template_areas": null,
            "grid_template_columns": null,
            "grid_template_rows": null,
            "height": null,
            "justify_content": null,
            "justify_items": null,
            "left": null,
            "margin": null,
            "max_height": null,
            "max_width": null,
            "min_height": null,
            "min_width": null,
            "object_fit": null,
            "object_position": null,
            "order": null,
            "overflow": null,
            "overflow_x": null,
            "overflow_y": null,
            "padding": null,
            "right": null,
            "top": null,
            "visibility": null,
            "width": null
          }
        },
        "2b03bd06a14e4bf7837d42f160aaf6e2": {
          "model_module": "@jupyter-widgets/controls",
          "model_name": "ProgressStyleModel",
          "model_module_version": "1.5.0",
          "state": {
            "_model_module": "@jupyter-widgets/controls",
            "_model_module_version": "1.5.0",
            "_model_name": "ProgressStyleModel",
            "_view_count": null,
            "_view_module": "@jupyter-widgets/base",
            "_view_module_version": "1.2.0",
            "_view_name": "StyleView",
            "bar_color": null,
            "description_width": ""
          }
        },
        "1c71ae9237794d718e2a9d2209ed6b3a": {
          "model_module": "@jupyter-widgets/base",
          "model_name": "LayoutModel",
          "model_module_version": "1.2.0",
          "state": {
            "_model_module": "@jupyter-widgets/base",
            "_model_module_version": "1.2.0",
            "_model_name": "LayoutModel",
            "_view_count": null,
            "_view_module": "@jupyter-widgets/base",
            "_view_module_version": "1.2.0",
            "_view_name": "LayoutView",
            "align_content": null,
            "align_items": null,
            "align_self": null,
            "border": null,
            "bottom": null,
            "display": null,
            "flex": null,
            "flex_flow": null,
            "grid_area": null,
            "grid_auto_columns": null,
            "grid_auto_flow": null,
            "grid_auto_rows": null,
            "grid_column": null,
            "grid_gap": null,
            "grid_row": null,
            "grid_template_areas": null,
            "grid_template_columns": null,
            "grid_template_rows": null,
            "height": null,
            "justify_content": null,
            "justify_items": null,
            "left": null,
            "margin": null,
            "max_height": null,
            "max_width": null,
            "min_height": null,
            "min_width": null,
            "object_fit": null,
            "object_position": null,
            "order": null,
            "overflow": null,
            "overflow_x": null,
            "overflow_y": null,
            "padding": null,
            "right": null,
            "top": null,
            "visibility": null,
            "width": null
          }
        },
        "48c666ba291241a1a52c3b7ccc5d5d8d": {
          "model_module": "@jupyter-widgets/controls",
          "model_name": "DescriptionStyleModel",
          "model_module_version": "1.5.0",
          "state": {
            "_model_module": "@jupyter-widgets/controls",
            "_model_module_version": "1.5.0",
            "_model_name": "DescriptionStyleModel",
            "_view_count": null,
            "_view_module": "@jupyter-widgets/base",
            "_view_module_version": "1.2.0",
            "_view_name": "StyleView",
            "description_width": ""
          }
        },
        "4c9a528c65bb4057868044c62e5e2c14": {
          "model_module": "@jupyter-widgets/controls",
          "model_name": "HBoxModel",
          "model_module_version": "1.5.0",
          "state": {
            "_dom_classes": [],
            "_model_module": "@jupyter-widgets/controls",
            "_model_module_version": "1.5.0",
            "_model_name": "HBoxModel",
            "_view_count": null,
            "_view_module": "@jupyter-widgets/controls",
            "_view_module_version": "1.5.0",
            "_view_name": "HBoxView",
            "box_style": "",
            "children": [
              "IPY_MODEL_d76a6b14c93749c6bb859b703f58aa25",
              "IPY_MODEL_491d0e62f15e4c53aeb93c13672add76",
              "IPY_MODEL_cf5e1b25f1fb475eaad43331b2e91447"
            ],
            "layout": "IPY_MODEL_5b1aa633aa32442e8d9bf51b71996e59"
          }
        },
        "d76a6b14c93749c6bb859b703f58aa25": {
          "model_module": "@jupyter-widgets/controls",
          "model_name": "HTMLModel",
          "model_module_version": "1.5.0",
          "state": {
            "_dom_classes": [],
            "_model_module": "@jupyter-widgets/controls",
            "_model_module_version": "1.5.0",
            "_model_name": "HTMLModel",
            "_view_count": null,
            "_view_module": "@jupyter-widgets/controls",
            "_view_module_version": "1.5.0",
            "_view_name": "HTMLView",
            "description": "",
            "description_tooltip": null,
            "layout": "IPY_MODEL_b7ddb0f6c0a14e81a83d98c0d9ee3d39",
            "placeholder": "​",
            "style": "IPY_MODEL_c08a9ef1768c4d19b33f381f906078a6",
            "value": "Saving the dataset (1/1 shards): 100%"
          }
        },
        "491d0e62f15e4c53aeb93c13672add76": {
          "model_module": "@jupyter-widgets/controls",
          "model_name": "FloatProgressModel",
          "model_module_version": "1.5.0",
          "state": {
            "_dom_classes": [],
            "_model_module": "@jupyter-widgets/controls",
            "_model_module_version": "1.5.0",
            "_model_name": "FloatProgressModel",
            "_view_count": null,
            "_view_module": "@jupyter-widgets/controls",
            "_view_module_version": "1.5.0",
            "_view_name": "ProgressView",
            "bar_style": "success",
            "description": "",
            "description_tooltip": null,
            "layout": "IPY_MODEL_592788c0ae124dd98fe0712da72f12df",
            "max": 2000,
            "min": 0,
            "orientation": "horizontal",
            "style": "IPY_MODEL_6086ebdc4f6c4ca1a9d2b7079b9a800a",
            "value": 2000
          }
        },
        "cf5e1b25f1fb475eaad43331b2e91447": {
          "model_module": "@jupyter-widgets/controls",
          "model_name": "HTMLModel",
          "model_module_version": "1.5.0",
          "state": {
            "_dom_classes": [],
            "_model_module": "@jupyter-widgets/controls",
            "_model_module_version": "1.5.0",
            "_model_name": "HTMLModel",
            "_view_count": null,
            "_view_module": "@jupyter-widgets/controls",
            "_view_module_version": "1.5.0",
            "_view_name": "HTMLView",
            "description": "",
            "description_tooltip": null,
            "layout": "IPY_MODEL_2287ab2fe36a4468a69b815e32f1c531",
            "placeholder": "​",
            "style": "IPY_MODEL_4b32b1b1db8c47b89fb4f23342c90c0f",
            "value": " 2000/2000 [00:00&lt;00:00, 24397.83 examples/s]"
          }
        },
        "5b1aa633aa32442e8d9bf51b71996e59": {
          "model_module": "@jupyter-widgets/base",
          "model_name": "LayoutModel",
          "model_module_version": "1.2.0",
          "state": {
            "_model_module": "@jupyter-widgets/base",
            "_model_module_version": "1.2.0",
            "_model_name": "LayoutModel",
            "_view_count": null,
            "_view_module": "@jupyter-widgets/base",
            "_view_module_version": "1.2.0",
            "_view_name": "LayoutView",
            "align_content": null,
            "align_items": null,
            "align_self": null,
            "border": null,
            "bottom": null,
            "display": null,
            "flex": null,
            "flex_flow": null,
            "grid_area": null,
            "grid_auto_columns": null,
            "grid_auto_flow": null,
            "grid_auto_rows": null,
            "grid_column": null,
            "grid_gap": null,
            "grid_row": null,
            "grid_template_areas": null,
            "grid_template_columns": null,
            "grid_template_rows": null,
            "height": null,
            "justify_content": null,
            "justify_items": null,
            "left": null,
            "margin": null,
            "max_height": null,
            "max_width": null,
            "min_height": null,
            "min_width": null,
            "object_fit": null,
            "object_position": null,
            "order": null,
            "overflow": null,
            "overflow_x": null,
            "overflow_y": null,
            "padding": null,
            "right": null,
            "top": null,
            "visibility": null,
            "width": null
          }
        },
        "b7ddb0f6c0a14e81a83d98c0d9ee3d39": {
          "model_module": "@jupyter-widgets/base",
          "model_name": "LayoutModel",
          "model_module_version": "1.2.0",
          "state": {
            "_model_module": "@jupyter-widgets/base",
            "_model_module_version": "1.2.0",
            "_model_name": "LayoutModel",
            "_view_count": null,
            "_view_module": "@jupyter-widgets/base",
            "_view_module_version": "1.2.0",
            "_view_name": "LayoutView",
            "align_content": null,
            "align_items": null,
            "align_self": null,
            "border": null,
            "bottom": null,
            "display": null,
            "flex": null,
            "flex_flow": null,
            "grid_area": null,
            "grid_auto_columns": null,
            "grid_auto_flow": null,
            "grid_auto_rows": null,
            "grid_column": null,
            "grid_gap": null,
            "grid_row": null,
            "grid_template_areas": null,
            "grid_template_columns": null,
            "grid_template_rows": null,
            "height": null,
            "justify_content": null,
            "justify_items": null,
            "left": null,
            "margin": null,
            "max_height": null,
            "max_width": null,
            "min_height": null,
            "min_width": null,
            "object_fit": null,
            "object_position": null,
            "order": null,
            "overflow": null,
            "overflow_x": null,
            "overflow_y": null,
            "padding": null,
            "right": null,
            "top": null,
            "visibility": null,
            "width": null
          }
        },
        "c08a9ef1768c4d19b33f381f906078a6": {
          "model_module": "@jupyter-widgets/controls",
          "model_name": "DescriptionStyleModel",
          "model_module_version": "1.5.0",
          "state": {
            "_model_module": "@jupyter-widgets/controls",
            "_model_module_version": "1.5.0",
            "_model_name": "DescriptionStyleModel",
            "_view_count": null,
            "_view_module": "@jupyter-widgets/base",
            "_view_module_version": "1.2.0",
            "_view_name": "StyleView",
            "description_width": ""
          }
        },
        "592788c0ae124dd98fe0712da72f12df": {
          "model_module": "@jupyter-widgets/base",
          "model_name": "LayoutModel",
          "model_module_version": "1.2.0",
          "state": {
            "_model_module": "@jupyter-widgets/base",
            "_model_module_version": "1.2.0",
            "_model_name": "LayoutModel",
            "_view_count": null,
            "_view_module": "@jupyter-widgets/base",
            "_view_module_version": "1.2.0",
            "_view_name": "LayoutView",
            "align_content": null,
            "align_items": null,
            "align_self": null,
            "border": null,
            "bottom": null,
            "display": null,
            "flex": null,
            "flex_flow": null,
            "grid_area": null,
            "grid_auto_columns": null,
            "grid_auto_flow": null,
            "grid_auto_rows": null,
            "grid_column": null,
            "grid_gap": null,
            "grid_row": null,
            "grid_template_areas": null,
            "grid_template_columns": null,
            "grid_template_rows": null,
            "height": null,
            "justify_content": null,
            "justify_items": null,
            "left": null,
            "margin": null,
            "max_height": null,
            "max_width": null,
            "min_height": null,
            "min_width": null,
            "object_fit": null,
            "object_position": null,
            "order": null,
            "overflow": null,
            "overflow_x": null,
            "overflow_y": null,
            "padding": null,
            "right": null,
            "top": null,
            "visibility": null,
            "width": null
          }
        },
        "6086ebdc4f6c4ca1a9d2b7079b9a800a": {
          "model_module": "@jupyter-widgets/controls",
          "model_name": "ProgressStyleModel",
          "model_module_version": "1.5.0",
          "state": {
            "_model_module": "@jupyter-widgets/controls",
            "_model_module_version": "1.5.0",
            "_model_name": "ProgressStyleModel",
            "_view_count": null,
            "_view_module": "@jupyter-widgets/base",
            "_view_module_version": "1.2.0",
            "_view_name": "StyleView",
            "bar_color": null,
            "description_width": ""
          }
        },
        "2287ab2fe36a4468a69b815e32f1c531": {
          "model_module": "@jupyter-widgets/base",
          "model_name": "LayoutModel",
          "model_module_version": "1.2.0",
          "state": {
            "_model_module": "@jupyter-widgets/base",
            "_model_module_version": "1.2.0",
            "_model_name": "LayoutModel",
            "_view_count": null,
            "_view_module": "@jupyter-widgets/base",
            "_view_module_version": "1.2.0",
            "_view_name": "LayoutView",
            "align_content": null,
            "align_items": null,
            "align_self": null,
            "border": null,
            "bottom": null,
            "display": null,
            "flex": null,
            "flex_flow": null,
            "grid_area": null,
            "grid_auto_columns": null,
            "grid_auto_flow": null,
            "grid_auto_rows": null,
            "grid_column": null,
            "grid_gap": null,
            "grid_row": null,
            "grid_template_areas": null,
            "grid_template_columns": null,
            "grid_template_rows": null,
            "height": null,
            "justify_content": null,
            "justify_items": null,
            "left": null,
            "margin": null,
            "max_height": null,
            "max_width": null,
            "min_height": null,
            "min_width": null,
            "object_fit": null,
            "object_position": null,
            "order": null,
            "overflow": null,
            "overflow_x": null,
            "overflow_y": null,
            "padding": null,
            "right": null,
            "top": null,
            "visibility": null,
            "width": null
          }
        },
        "4b32b1b1db8c47b89fb4f23342c90c0f": {
          "model_module": "@jupyter-widgets/controls",
          "model_name": "DescriptionStyleModel",
          "model_module_version": "1.5.0",
          "state": {
            "_model_module": "@jupyter-widgets/controls",
            "_model_module_version": "1.5.0",
            "_model_name": "DescriptionStyleModel",
            "_view_count": null,
            "_view_module": "@jupyter-widgets/base",
            "_view_module_version": "1.2.0",
            "_view_name": "StyleView",
            "description_width": ""
          }
        },
        "5ec71bb32f89437bbcbd759563af25d0": {
          "model_module": "@jupyter-widgets/controls",
          "model_name": "HBoxModel",
          "model_module_version": "1.5.0",
          "state": {
            "_dom_classes": [],
            "_model_module": "@jupyter-widgets/controls",
            "_model_module_version": "1.5.0",
            "_model_name": "HBoxModel",
            "_view_count": null,
            "_view_module": "@jupyter-widgets/controls",
            "_view_module_version": "1.5.0",
            "_view_name": "HBoxView",
            "box_style": "",
            "children": [
              "IPY_MODEL_4506b01433d44fd6a5de59f79bb7a606",
              "IPY_MODEL_6c7ba967324f45569628b64c9086d0a4",
              "IPY_MODEL_ae6c79dd4913482fbf172b1605d35ca1"
            ],
            "layout": "IPY_MODEL_6f8031f6b5aa403d9417738dcb315426"
          }
        },
        "4506b01433d44fd6a5de59f79bb7a606": {
          "model_module": "@jupyter-widgets/controls",
          "model_name": "HTMLModel",
          "model_module_version": "1.5.0",
          "state": {
            "_dom_classes": [],
            "_model_module": "@jupyter-widgets/controls",
            "_model_module_version": "1.5.0",
            "_model_name": "HTMLModel",
            "_view_count": null,
            "_view_module": "@jupyter-widgets/controls",
            "_view_module_version": "1.5.0",
            "_view_name": "HTMLView",
            "description": "",
            "description_tooltip": null,
            "layout": "IPY_MODEL_a1474be83fb44b18bab2c195baec82eb",
            "placeholder": "​",
            "style": "IPY_MODEL_57212d4112f14b718346a0bfc314da74",
            "value": "Saving the dataset (1/1 shards): 100%"
          }
        },
        "6c7ba967324f45569628b64c9086d0a4": {
          "model_module": "@jupyter-widgets/controls",
          "model_name": "FloatProgressModel",
          "model_module_version": "1.5.0",
          "state": {
            "_dom_classes": [],
            "_model_module": "@jupyter-widgets/controls",
            "_model_module_version": "1.5.0",
            "_model_name": "FloatProgressModel",
            "_view_count": null,
            "_view_module": "@jupyter-widgets/controls",
            "_view_module_version": "1.5.0",
            "_view_name": "ProgressView",
            "bar_style": "success",
            "description": "",
            "description_tooltip": null,
            "layout": "IPY_MODEL_41c23e51e0444878b79486d2b150b520",
            "max": 1000,
            "min": 0,
            "orientation": "horizontal",
            "style": "IPY_MODEL_39df667c8184481994218a7a28fba65a",
            "value": 1000
          }
        },
        "ae6c79dd4913482fbf172b1605d35ca1": {
          "model_module": "@jupyter-widgets/controls",
          "model_name": "HTMLModel",
          "model_module_version": "1.5.0",
          "state": {
            "_dom_classes": [],
            "_model_module": "@jupyter-widgets/controls",
            "_model_module_version": "1.5.0",
            "_model_name": "HTMLModel",
            "_view_count": null,
            "_view_module": "@jupyter-widgets/controls",
            "_view_module_version": "1.5.0",
            "_view_name": "HTMLView",
            "description": "",
            "description_tooltip": null,
            "layout": "IPY_MODEL_f40cf497eb5a46a7af041340397e5d48",
            "placeholder": "​",
            "style": "IPY_MODEL_0dd483ade67d4f5bbece619326ec4d3d",
            "value": " 1000/1000 [00:00&lt;00:00, 16452.32 examples/s]"
          }
        },
        "6f8031f6b5aa403d9417738dcb315426": {
          "model_module": "@jupyter-widgets/base",
          "model_name": "LayoutModel",
          "model_module_version": "1.2.0",
          "state": {
            "_model_module": "@jupyter-widgets/base",
            "_model_module_version": "1.2.0",
            "_model_name": "LayoutModel",
            "_view_count": null,
            "_view_module": "@jupyter-widgets/base",
            "_view_module_version": "1.2.0",
            "_view_name": "LayoutView",
            "align_content": null,
            "align_items": null,
            "align_self": null,
            "border": null,
            "bottom": null,
            "display": null,
            "flex": null,
            "flex_flow": null,
            "grid_area": null,
            "grid_auto_columns": null,
            "grid_auto_flow": null,
            "grid_auto_rows": null,
            "grid_column": null,
            "grid_gap": null,
            "grid_row": null,
            "grid_template_areas": null,
            "grid_template_columns": null,
            "grid_template_rows": null,
            "height": null,
            "justify_content": null,
            "justify_items": null,
            "left": null,
            "margin": null,
            "max_height": null,
            "max_width": null,
            "min_height": null,
            "min_width": null,
            "object_fit": null,
            "object_position": null,
            "order": null,
            "overflow": null,
            "overflow_x": null,
            "overflow_y": null,
            "padding": null,
            "right": null,
            "top": null,
            "visibility": null,
            "width": null
          }
        },
        "a1474be83fb44b18bab2c195baec82eb": {
          "model_module": "@jupyter-widgets/base",
          "model_name": "LayoutModel",
          "model_module_version": "1.2.0",
          "state": {
            "_model_module": "@jupyter-widgets/base",
            "_model_module_version": "1.2.0",
            "_model_name": "LayoutModel",
            "_view_count": null,
            "_view_module": "@jupyter-widgets/base",
            "_view_module_version": "1.2.0",
            "_view_name": "LayoutView",
            "align_content": null,
            "align_items": null,
            "align_self": null,
            "border": null,
            "bottom": null,
            "display": null,
            "flex": null,
            "flex_flow": null,
            "grid_area": null,
            "grid_auto_columns": null,
            "grid_auto_flow": null,
            "grid_auto_rows": null,
            "grid_column": null,
            "grid_gap": null,
            "grid_row": null,
            "grid_template_areas": null,
            "grid_template_columns": null,
            "grid_template_rows": null,
            "height": null,
            "justify_content": null,
            "justify_items": null,
            "left": null,
            "margin": null,
            "max_height": null,
            "max_width": null,
            "min_height": null,
            "min_width": null,
            "object_fit": null,
            "object_position": null,
            "order": null,
            "overflow": null,
            "overflow_x": null,
            "overflow_y": null,
            "padding": null,
            "right": null,
            "top": null,
            "visibility": null,
            "width": null
          }
        },
        "57212d4112f14b718346a0bfc314da74": {
          "model_module": "@jupyter-widgets/controls",
          "model_name": "DescriptionStyleModel",
          "model_module_version": "1.5.0",
          "state": {
            "_model_module": "@jupyter-widgets/controls",
            "_model_module_version": "1.5.0",
            "_model_name": "DescriptionStyleModel",
            "_view_count": null,
            "_view_module": "@jupyter-widgets/base",
            "_view_module_version": "1.2.0",
            "_view_name": "StyleView",
            "description_width": ""
          }
        },
        "41c23e51e0444878b79486d2b150b520": {
          "model_module": "@jupyter-widgets/base",
          "model_name": "LayoutModel",
          "model_module_version": "1.2.0",
          "state": {
            "_model_module": "@jupyter-widgets/base",
            "_model_module_version": "1.2.0",
            "_model_name": "LayoutModel",
            "_view_count": null,
            "_view_module": "@jupyter-widgets/base",
            "_view_module_version": "1.2.0",
            "_view_name": "LayoutView",
            "align_content": null,
            "align_items": null,
            "align_self": null,
            "border": null,
            "bottom": null,
            "display": null,
            "flex": null,
            "flex_flow": null,
            "grid_area": null,
            "grid_auto_columns": null,
            "grid_auto_flow": null,
            "grid_auto_rows": null,
            "grid_column": null,
            "grid_gap": null,
            "grid_row": null,
            "grid_template_areas": null,
            "grid_template_columns": null,
            "grid_template_rows": null,
            "height": null,
            "justify_content": null,
            "justify_items": null,
            "left": null,
            "margin": null,
            "max_height": null,
            "max_width": null,
            "min_height": null,
            "min_width": null,
            "object_fit": null,
            "object_position": null,
            "order": null,
            "overflow": null,
            "overflow_x": null,
            "overflow_y": null,
            "padding": null,
            "right": null,
            "top": null,
            "visibility": null,
            "width": null
          }
        },
        "39df667c8184481994218a7a28fba65a": {
          "model_module": "@jupyter-widgets/controls",
          "model_name": "ProgressStyleModel",
          "model_module_version": "1.5.0",
          "state": {
            "_model_module": "@jupyter-widgets/controls",
            "_model_module_version": "1.5.0",
            "_model_name": "ProgressStyleModel",
            "_view_count": null,
            "_view_module": "@jupyter-widgets/base",
            "_view_module_version": "1.2.0",
            "_view_name": "StyleView",
            "bar_color": null,
            "description_width": ""
          }
        },
        "f40cf497eb5a46a7af041340397e5d48": {
          "model_module": "@jupyter-widgets/base",
          "model_name": "LayoutModel",
          "model_module_version": "1.2.0",
          "state": {
            "_model_module": "@jupyter-widgets/base",
            "_model_module_version": "1.2.0",
            "_model_name": "LayoutModel",
            "_view_count": null,
            "_view_module": "@jupyter-widgets/base",
            "_view_module_version": "1.2.0",
            "_view_name": "LayoutView",
            "align_content": null,
            "align_items": null,
            "align_self": null,
            "border": null,
            "bottom": null,
            "display": null,
            "flex": null,
            "flex_flow": null,
            "grid_area": null,
            "grid_auto_columns": null,
            "grid_auto_flow": null,
            "grid_auto_rows": null,
            "grid_column": null,
            "grid_gap": null,
            "grid_row": null,
            "grid_template_areas": null,
            "grid_template_columns": null,
            "grid_template_rows": null,
            "height": null,
            "justify_content": null,
            "justify_items": null,
            "left": null,
            "margin": null,
            "max_height": null,
            "max_width": null,
            "min_height": null,
            "min_width": null,
            "object_fit": null,
            "object_position": null,
            "order": null,
            "overflow": null,
            "overflow_x": null,
            "overflow_y": null,
            "padding": null,
            "right": null,
            "top": null,
            "visibility": null,
            "width": null
          }
        },
        "0dd483ade67d4f5bbece619326ec4d3d": {
          "model_module": "@jupyter-widgets/controls",
          "model_name": "DescriptionStyleModel",
          "model_module_version": "1.5.0",
          "state": {
            "_model_module": "@jupyter-widgets/controls",
            "_model_module_version": "1.5.0",
            "_model_name": "DescriptionStyleModel",
            "_view_count": null,
            "_view_module": "@jupyter-widgets/base",
            "_view_module_version": "1.2.0",
            "_view_name": "StyleView",
            "description_width": ""
          }
        },
        "24bd60cbce0d4906b8be80180feb1eba": {
          "model_module": "@jupyter-widgets/controls",
          "model_name": "HBoxModel",
          "model_module_version": "1.5.0",
          "state": {
            "_dom_classes": [],
            "_model_module": "@jupyter-widgets/controls",
            "_model_module_version": "1.5.0",
            "_model_name": "HBoxModel",
            "_view_count": null,
            "_view_module": "@jupyter-widgets/controls",
            "_view_module_version": "1.5.0",
            "_view_name": "HBoxView",
            "box_style": "",
            "children": [
              "IPY_MODEL_8149fa6842ad451d91fe8190059cb6a8",
              "IPY_MODEL_1f03410304cc4810969a1af8cb0fab85",
              "IPY_MODEL_527e45ef27f34f9d966bbce9b86061f6"
            ],
            "layout": "IPY_MODEL_2ce9c297ef2a45bf8614dc9006582db0"
          }
        },
        "8149fa6842ad451d91fe8190059cb6a8": {
          "model_module": "@jupyter-widgets/controls",
          "model_name": "HTMLModel",
          "model_module_version": "1.5.0",
          "state": {
            "_dom_classes": [],
            "_model_module": "@jupyter-widgets/controls",
            "_model_module_version": "1.5.0",
            "_model_name": "HTMLModel",
            "_view_count": null,
            "_view_module": "@jupyter-widgets/controls",
            "_view_module_version": "1.5.0",
            "_view_name": "HTMLView",
            "description": "",
            "description_tooltip": null,
            "layout": "IPY_MODEL_ec7391abcbbe4777a7af26eb466ebca3",
            "placeholder": "​",
            "style": "IPY_MODEL_3548f438a3334fb49b7f0f83487b5f0c",
            "value": "Saving the dataset (1/1 shards): 100%"
          }
        },
        "1f03410304cc4810969a1af8cb0fab85": {
          "model_module": "@jupyter-widgets/controls",
          "model_name": "FloatProgressModel",
          "model_module_version": "1.5.0",
          "state": {
            "_dom_classes": [],
            "_model_module": "@jupyter-widgets/controls",
            "_model_module_version": "1.5.0",
            "_model_name": "FloatProgressModel",
            "_view_count": null,
            "_view_module": "@jupyter-widgets/controls",
            "_view_module_version": "1.5.0",
            "_view_name": "ProgressView",
            "bar_style": "success",
            "description": "",
            "description_tooltip": null,
            "layout": "IPY_MODEL_8899d56c70314c7f8327589fc2c1fe1b",
            "max": 380110,
            "min": 0,
            "orientation": "horizontal",
            "style": "IPY_MODEL_580168d53a8640e78419b6aad71079a0",
            "value": 380110
          }
        },
        "527e45ef27f34f9d966bbce9b86061f6": {
          "model_module": "@jupyter-widgets/controls",
          "model_name": "HTMLModel",
          "model_module_version": "1.5.0",
          "state": {
            "_dom_classes": [],
            "_model_module": "@jupyter-widgets/controls",
            "_model_module_version": "1.5.0",
            "_model_name": "HTMLModel",
            "_view_count": null,
            "_view_module": "@jupyter-widgets/controls",
            "_view_module_version": "1.5.0",
            "_view_name": "HTMLView",
            "description": "",
            "description_tooltip": null,
            "layout": "IPY_MODEL_fa0166c9d39e4529b454526098f795de",
            "placeholder": "​",
            "style": "IPY_MODEL_4f0a64f1cfd8491eb202577c7c62667e",
            "value": " 380110/380110 [00:01&lt;00:00, 266614.28 examples/s]"
          }
        },
        "2ce9c297ef2a45bf8614dc9006582db0": {
          "model_module": "@jupyter-widgets/base",
          "model_name": "LayoutModel",
          "model_module_version": "1.2.0",
          "state": {
            "_model_module": "@jupyter-widgets/base",
            "_model_module_version": "1.2.0",
            "_model_name": "LayoutModel",
            "_view_count": null,
            "_view_module": "@jupyter-widgets/base",
            "_view_module_version": "1.2.0",
            "_view_name": "LayoutView",
            "align_content": null,
            "align_items": null,
            "align_self": null,
            "border": null,
            "bottom": null,
            "display": null,
            "flex": null,
            "flex_flow": null,
            "grid_area": null,
            "grid_auto_columns": null,
            "grid_auto_flow": null,
            "grid_auto_rows": null,
            "grid_column": null,
            "grid_gap": null,
            "grid_row": null,
            "grid_template_areas": null,
            "grid_template_columns": null,
            "grid_template_rows": null,
            "height": null,
            "justify_content": null,
            "justify_items": null,
            "left": null,
            "margin": null,
            "max_height": null,
            "max_width": null,
            "min_height": null,
            "min_width": null,
            "object_fit": null,
            "object_position": null,
            "order": null,
            "overflow": null,
            "overflow_x": null,
            "overflow_y": null,
            "padding": null,
            "right": null,
            "top": null,
            "visibility": null,
            "width": null
          }
        },
        "ec7391abcbbe4777a7af26eb466ebca3": {
          "model_module": "@jupyter-widgets/base",
          "model_name": "LayoutModel",
          "model_module_version": "1.2.0",
          "state": {
            "_model_module": "@jupyter-widgets/base",
            "_model_module_version": "1.2.0",
            "_model_name": "LayoutModel",
            "_view_count": null,
            "_view_module": "@jupyter-widgets/base",
            "_view_module_version": "1.2.0",
            "_view_name": "LayoutView",
            "align_content": null,
            "align_items": null,
            "align_self": null,
            "border": null,
            "bottom": null,
            "display": null,
            "flex": null,
            "flex_flow": null,
            "grid_area": null,
            "grid_auto_columns": null,
            "grid_auto_flow": null,
            "grid_auto_rows": null,
            "grid_column": null,
            "grid_gap": null,
            "grid_row": null,
            "grid_template_areas": null,
            "grid_template_columns": null,
            "grid_template_rows": null,
            "height": null,
            "justify_content": null,
            "justify_items": null,
            "left": null,
            "margin": null,
            "max_height": null,
            "max_width": null,
            "min_height": null,
            "min_width": null,
            "object_fit": null,
            "object_position": null,
            "order": null,
            "overflow": null,
            "overflow_x": null,
            "overflow_y": null,
            "padding": null,
            "right": null,
            "top": null,
            "visibility": null,
            "width": null
          }
        },
        "3548f438a3334fb49b7f0f83487b5f0c": {
          "model_module": "@jupyter-widgets/controls",
          "model_name": "DescriptionStyleModel",
          "model_module_version": "1.5.0",
          "state": {
            "_model_module": "@jupyter-widgets/controls",
            "_model_module_version": "1.5.0",
            "_model_name": "DescriptionStyleModel",
            "_view_count": null,
            "_view_module": "@jupyter-widgets/base",
            "_view_module_version": "1.2.0",
            "_view_name": "StyleView",
            "description_width": ""
          }
        },
        "8899d56c70314c7f8327589fc2c1fe1b": {
          "model_module": "@jupyter-widgets/base",
          "model_name": "LayoutModel",
          "model_module_version": "1.2.0",
          "state": {
            "_model_module": "@jupyter-widgets/base",
            "_model_module_version": "1.2.0",
            "_model_name": "LayoutModel",
            "_view_count": null,
            "_view_module": "@jupyter-widgets/base",
            "_view_module_version": "1.2.0",
            "_view_name": "LayoutView",
            "align_content": null,
            "align_items": null,
            "align_self": null,
            "border": null,
            "bottom": null,
            "display": null,
            "flex": null,
            "flex_flow": null,
            "grid_area": null,
            "grid_auto_columns": null,
            "grid_auto_flow": null,
            "grid_auto_rows": null,
            "grid_column": null,
            "grid_gap": null,
            "grid_row": null,
            "grid_template_areas": null,
            "grid_template_columns": null,
            "grid_template_rows": null,
            "height": null,
            "justify_content": null,
            "justify_items": null,
            "left": null,
            "margin": null,
            "max_height": null,
            "max_width": null,
            "min_height": null,
            "min_width": null,
            "object_fit": null,
            "object_position": null,
            "order": null,
            "overflow": null,
            "overflow_x": null,
            "overflow_y": null,
            "padding": null,
            "right": null,
            "top": null,
            "visibility": null,
            "width": null
          }
        },
        "580168d53a8640e78419b6aad71079a0": {
          "model_module": "@jupyter-widgets/controls",
          "model_name": "ProgressStyleModel",
          "model_module_version": "1.5.0",
          "state": {
            "_model_module": "@jupyter-widgets/controls",
            "_model_module_version": "1.5.0",
            "_model_name": "ProgressStyleModel",
            "_view_count": null,
            "_view_module": "@jupyter-widgets/base",
            "_view_module_version": "1.2.0",
            "_view_name": "StyleView",
            "bar_color": null,
            "description_width": ""
          }
        },
        "fa0166c9d39e4529b454526098f795de": {
          "model_module": "@jupyter-widgets/base",
          "model_name": "LayoutModel",
          "model_module_version": "1.2.0",
          "state": {
            "_model_module": "@jupyter-widgets/base",
            "_model_module_version": "1.2.0",
            "_model_name": "LayoutModel",
            "_view_count": null,
            "_view_module": "@jupyter-widgets/base",
            "_view_module_version": "1.2.0",
            "_view_name": "LayoutView",
            "align_content": null,
            "align_items": null,
            "align_self": null,
            "border": null,
            "bottom": null,
            "display": null,
            "flex": null,
            "flex_flow": null,
            "grid_area": null,
            "grid_auto_columns": null,
            "grid_auto_flow": null,
            "grid_auto_rows": null,
            "grid_column": null,
            "grid_gap": null,
            "grid_row": null,
            "grid_template_areas": null,
            "grid_template_columns": null,
            "grid_template_rows": null,
            "height": null,
            "justify_content": null,
            "justify_items": null,
            "left": null,
            "margin": null,
            "max_height": null,
            "max_width": null,
            "min_height": null,
            "min_width": null,
            "object_fit": null,
            "object_position": null,
            "order": null,
            "overflow": null,
            "overflow_x": null,
            "overflow_y": null,
            "padding": null,
            "right": null,
            "top": null,
            "visibility": null,
            "width": null
          }
        },
        "4f0a64f1cfd8491eb202577c7c62667e": {
          "model_module": "@jupyter-widgets/controls",
          "model_name": "DescriptionStyleModel",
          "model_module_version": "1.5.0",
          "state": {
            "_model_module": "@jupyter-widgets/controls",
            "_model_module_version": "1.5.0",
            "_model_name": "DescriptionStyleModel",
            "_view_count": null,
            "_view_module": "@jupyter-widgets/base",
            "_view_module_version": "1.2.0",
            "_view_name": "StyleView",
            "description_width": ""
          }
        },
        "194cebbfee1147d2b847c5221b55301f": {
          "model_module": "@jupyter-widgets/controls",
          "model_name": "HBoxModel",
          "model_module_version": "1.5.0",
          "state": {
            "_dom_classes": [],
            "_model_module": "@jupyter-widgets/controls",
            "_model_module_version": "1.5.0",
            "_model_name": "HBoxModel",
            "_view_count": null,
            "_view_module": "@jupyter-widgets/controls",
            "_view_module_version": "1.5.0",
            "_view_name": "HBoxView",
            "box_style": "",
            "children": [
              "IPY_MODEL_6406b8d71eb7463187cce2405c351518",
              "IPY_MODEL_98845740b7ac4371a7765c22ae2d8d4f",
              "IPY_MODEL_20d7420df8514034ad92946b90e8d010"
            ],
            "layout": "IPY_MODEL_f2ba928607a249379f1df3839cfaacb1"
          }
        },
        "6406b8d71eb7463187cce2405c351518": {
          "model_module": "@jupyter-widgets/controls",
          "model_name": "HTMLModel",
          "model_module_version": "1.5.0",
          "state": {
            "_dom_classes": [],
            "_model_module": "@jupyter-widgets/controls",
            "_model_module_version": "1.5.0",
            "_model_name": "HTMLModel",
            "_view_count": null,
            "_view_module": "@jupyter-widgets/controls",
            "_view_module_version": "1.5.0",
            "_view_name": "HTMLView",
            "description": "",
            "description_tooltip": null,
            "layout": "IPY_MODEL_80a2d8287ed94dc1a95fe84599cd3587",
            "placeholder": "​",
            "style": "IPY_MODEL_75bd75d2036040dc964fb073941ec047",
            "value": "Saving the dataset (1/1 shards): 100%"
          }
        },
        "98845740b7ac4371a7765c22ae2d8d4f": {
          "model_module": "@jupyter-widgets/controls",
          "model_name": "FloatProgressModel",
          "model_module_version": "1.5.0",
          "state": {
            "_dom_classes": [],
            "_model_module": "@jupyter-widgets/controls",
            "_model_module_version": "1.5.0",
            "_model_name": "FloatProgressModel",
            "_view_count": null,
            "_view_module": "@jupyter-widgets/controls",
            "_view_module_version": "1.5.0",
            "_view_name": "ProgressView",
            "bar_style": "success",
            "description": "",
            "description_tooltip": null,
            "layout": "IPY_MODEL_0e96c9a3307a4497be2dd2b59e099918",
            "max": 190,
            "min": 0,
            "orientation": "horizontal",
            "style": "IPY_MODEL_3901a3ef808c4aa49f24a38a0084cfc9",
            "value": 190
          }
        },
        "20d7420df8514034ad92946b90e8d010": {
          "model_module": "@jupyter-widgets/controls",
          "model_name": "HTMLModel",
          "model_module_version": "1.5.0",
          "state": {
            "_dom_classes": [],
            "_model_module": "@jupyter-widgets/controls",
            "_model_module_version": "1.5.0",
            "_model_name": "HTMLModel",
            "_view_count": null,
            "_view_module": "@jupyter-widgets/controls",
            "_view_module_version": "1.5.0",
            "_view_name": "HTMLView",
            "description": "",
            "description_tooltip": null,
            "layout": "IPY_MODEL_d62ad2fb779b4def8c4381addcc912fb",
            "placeholder": "​",
            "style": "IPY_MODEL_3506f3bfd1e24278add42c2751f303cf",
            "value": " 190/190 [00:00&lt;00:00, 3894.00 examples/s]"
          }
        },
        "f2ba928607a249379f1df3839cfaacb1": {
          "model_module": "@jupyter-widgets/base",
          "model_name": "LayoutModel",
          "model_module_version": "1.2.0",
          "state": {
            "_model_module": "@jupyter-widgets/base",
            "_model_module_version": "1.2.0",
            "_model_name": "LayoutModel",
            "_view_count": null,
            "_view_module": "@jupyter-widgets/base",
            "_view_module_version": "1.2.0",
            "_view_name": "LayoutView",
            "align_content": null,
            "align_items": null,
            "align_self": null,
            "border": null,
            "bottom": null,
            "display": null,
            "flex": null,
            "flex_flow": null,
            "grid_area": null,
            "grid_auto_columns": null,
            "grid_auto_flow": null,
            "grid_auto_rows": null,
            "grid_column": null,
            "grid_gap": null,
            "grid_row": null,
            "grid_template_areas": null,
            "grid_template_columns": null,
            "grid_template_rows": null,
            "height": null,
            "justify_content": null,
            "justify_items": null,
            "left": null,
            "margin": null,
            "max_height": null,
            "max_width": null,
            "min_height": null,
            "min_width": null,
            "object_fit": null,
            "object_position": null,
            "order": null,
            "overflow": null,
            "overflow_x": null,
            "overflow_y": null,
            "padding": null,
            "right": null,
            "top": null,
            "visibility": null,
            "width": null
          }
        },
        "80a2d8287ed94dc1a95fe84599cd3587": {
          "model_module": "@jupyter-widgets/base",
          "model_name": "LayoutModel",
          "model_module_version": "1.2.0",
          "state": {
            "_model_module": "@jupyter-widgets/base",
            "_model_module_version": "1.2.0",
            "_model_name": "LayoutModel",
            "_view_count": null,
            "_view_module": "@jupyter-widgets/base",
            "_view_module_version": "1.2.0",
            "_view_name": "LayoutView",
            "align_content": null,
            "align_items": null,
            "align_self": null,
            "border": null,
            "bottom": null,
            "display": null,
            "flex": null,
            "flex_flow": null,
            "grid_area": null,
            "grid_auto_columns": null,
            "grid_auto_flow": null,
            "grid_auto_rows": null,
            "grid_column": null,
            "grid_gap": null,
            "grid_row": null,
            "grid_template_areas": null,
            "grid_template_columns": null,
            "grid_template_rows": null,
            "height": null,
            "justify_content": null,
            "justify_items": null,
            "left": null,
            "margin": null,
            "max_height": null,
            "max_width": null,
            "min_height": null,
            "min_width": null,
            "object_fit": null,
            "object_position": null,
            "order": null,
            "overflow": null,
            "overflow_x": null,
            "overflow_y": null,
            "padding": null,
            "right": null,
            "top": null,
            "visibility": null,
            "width": null
          }
        },
        "75bd75d2036040dc964fb073941ec047": {
          "model_module": "@jupyter-widgets/controls",
          "model_name": "DescriptionStyleModel",
          "model_module_version": "1.5.0",
          "state": {
            "_model_module": "@jupyter-widgets/controls",
            "_model_module_version": "1.5.0",
            "_model_name": "DescriptionStyleModel",
            "_view_count": null,
            "_view_module": "@jupyter-widgets/base",
            "_view_module_version": "1.2.0",
            "_view_name": "StyleView",
            "description_width": ""
          }
        },
        "0e96c9a3307a4497be2dd2b59e099918": {
          "model_module": "@jupyter-widgets/base",
          "model_name": "LayoutModel",
          "model_module_version": "1.2.0",
          "state": {
            "_model_module": "@jupyter-widgets/base",
            "_model_module_version": "1.2.0",
            "_model_name": "LayoutModel",
            "_view_count": null,
            "_view_module": "@jupyter-widgets/base",
            "_view_module_version": "1.2.0",
            "_view_name": "LayoutView",
            "align_content": null,
            "align_items": null,
            "align_self": null,
            "border": null,
            "bottom": null,
            "display": null,
            "flex": null,
            "flex_flow": null,
            "grid_area": null,
            "grid_auto_columns": null,
            "grid_auto_flow": null,
            "grid_auto_rows": null,
            "grid_column": null,
            "grid_gap": null,
            "grid_row": null,
            "grid_template_areas": null,
            "grid_template_columns": null,
            "grid_template_rows": null,
            "height": null,
            "justify_content": null,
            "justify_items": null,
            "left": null,
            "margin": null,
            "max_height": null,
            "max_width": null,
            "min_height": null,
            "min_width": null,
            "object_fit": null,
            "object_position": null,
            "order": null,
            "overflow": null,
            "overflow_x": null,
            "overflow_y": null,
            "padding": null,
            "right": null,
            "top": null,
            "visibility": null,
            "width": null
          }
        },
        "3901a3ef808c4aa49f24a38a0084cfc9": {
          "model_module": "@jupyter-widgets/controls",
          "model_name": "ProgressStyleModel",
          "model_module_version": "1.5.0",
          "state": {
            "_model_module": "@jupyter-widgets/controls",
            "_model_module_version": "1.5.0",
            "_model_name": "ProgressStyleModel",
            "_view_count": null,
            "_view_module": "@jupyter-widgets/base",
            "_view_module_version": "1.2.0",
            "_view_name": "StyleView",
            "bar_color": null,
            "description_width": ""
          }
        },
        "d62ad2fb779b4def8c4381addcc912fb": {
          "model_module": "@jupyter-widgets/base",
          "model_name": "LayoutModel",
          "model_module_version": "1.2.0",
          "state": {
            "_model_module": "@jupyter-widgets/base",
            "_model_module_version": "1.2.0",
            "_model_name": "LayoutModel",
            "_view_count": null,
            "_view_module": "@jupyter-widgets/base",
            "_view_module_version": "1.2.0",
            "_view_name": "LayoutView",
            "align_content": null,
            "align_items": null,
            "align_self": null,
            "border": null,
            "bottom": null,
            "display": null,
            "flex": null,
            "flex_flow": null,
            "grid_area": null,
            "grid_auto_columns": null,
            "grid_auto_flow": null,
            "grid_auto_rows": null,
            "grid_column": null,
            "grid_gap": null,
            "grid_row": null,
            "grid_template_areas": null,
            "grid_template_columns": null,
            "grid_template_rows": null,
            "height": null,
            "justify_content": null,
            "justify_items": null,
            "left": null,
            "margin": null,
            "max_height": null,
            "max_width": null,
            "min_height": null,
            "min_width": null,
            "object_fit": null,
            "object_position": null,
            "order": null,
            "overflow": null,
            "overflow_x": null,
            "overflow_y": null,
            "padding": null,
            "right": null,
            "top": null,
            "visibility": null,
            "width": null
          }
        },
        "3506f3bfd1e24278add42c2751f303cf": {
          "model_module": "@jupyter-widgets/controls",
          "model_name": "DescriptionStyleModel",
          "model_module_version": "1.5.0",
          "state": {
            "_model_module": "@jupyter-widgets/controls",
            "_model_module_version": "1.5.0",
            "_model_name": "DescriptionStyleModel",
            "_view_count": null,
            "_view_module": "@jupyter-widgets/base",
            "_view_module_version": "1.2.0",
            "_view_name": "StyleView",
            "description_width": ""
          }
        },
        "9f7336dab6f34ffa95df6f30305db774": {
          "model_module": "@jupyter-widgets/controls",
          "model_name": "HBoxModel",
          "model_module_version": "1.5.0",
          "state": {
            "_dom_classes": [],
            "_model_module": "@jupyter-widgets/controls",
            "_model_module_version": "1.5.0",
            "_model_name": "HBoxModel",
            "_view_count": null,
            "_view_module": "@jupyter-widgets/controls",
            "_view_module_version": "1.5.0",
            "_view_name": "HBoxView",
            "box_style": "",
            "children": [
              "IPY_MODEL_10f1f3b04e0c4c8d8a94b3987cb52323",
              "IPY_MODEL_79b1c808d5b341eab813f6c665058025",
              "IPY_MODEL_8b18fd2ea33e4869beb12c880757bb82"
            ],
            "layout": "IPY_MODEL_c23f4464ca2c4bb3a582b7d3cef7066f"
          }
        },
        "10f1f3b04e0c4c8d8a94b3987cb52323": {
          "model_module": "@jupyter-widgets/controls",
          "model_name": "HTMLModel",
          "model_module_version": "1.5.0",
          "state": {
            "_dom_classes": [],
            "_model_module": "@jupyter-widgets/controls",
            "_model_module_version": "1.5.0",
            "_model_name": "HTMLModel",
            "_view_count": null,
            "_view_module": "@jupyter-widgets/controls",
            "_view_module_version": "1.5.0",
            "_view_name": "HTMLView",
            "description": "",
            "description_tooltip": null,
            "layout": "IPY_MODEL_e753669284c64988bb9e40188dc67b1a",
            "placeholder": "​",
            "style": "IPY_MODEL_2a88094ddb464ecab2fb7a63deb60029",
            "value": "Map: 100%"
          }
        },
        "79b1c808d5b341eab813f6c665058025": {
          "model_module": "@jupyter-widgets/controls",
          "model_name": "FloatProgressModel",
          "model_module_version": "1.5.0",
          "state": {
            "_dom_classes": [],
            "_model_module": "@jupyter-widgets/controls",
            "_model_module_version": "1.5.0",
            "_model_name": "FloatProgressModel",
            "_view_count": null,
            "_view_module": "@jupyter-widgets/controls",
            "_view_module_version": "1.5.0",
            "_view_name": "ProgressView",
            "bar_style": "success",
            "description": "",
            "description_tooltip": null,
            "layout": "IPY_MODEL_cf45d27858404524918cc6238553f10e",
            "max": 2000,
            "min": 0,
            "orientation": "horizontal",
            "style": "IPY_MODEL_8f200eba6e624265af52ea7596a39be8",
            "value": 2000
          }
        },
        "8b18fd2ea33e4869beb12c880757bb82": {
          "model_module": "@jupyter-widgets/controls",
          "model_name": "HTMLModel",
          "model_module_version": "1.5.0",
          "state": {
            "_dom_classes": [],
            "_model_module": "@jupyter-widgets/controls",
            "_model_module_version": "1.5.0",
            "_model_name": "HTMLModel",
            "_view_count": null,
            "_view_module": "@jupyter-widgets/controls",
            "_view_module_version": "1.5.0",
            "_view_name": "HTMLView",
            "description": "",
            "description_tooltip": null,
            "layout": "IPY_MODEL_85e0afbb31284a99ba02e10b57b48544",
            "placeholder": "​",
            "style": "IPY_MODEL_12039815863047f28c93584fc40806ba",
            "value": " 2000/2000 [00:00&lt;00:00, 2262.78 examples/s]"
          }
        },
        "c23f4464ca2c4bb3a582b7d3cef7066f": {
          "model_module": "@jupyter-widgets/base",
          "model_name": "LayoutModel",
          "model_module_version": "1.2.0",
          "state": {
            "_model_module": "@jupyter-widgets/base",
            "_model_module_version": "1.2.0",
            "_model_name": "LayoutModel",
            "_view_count": null,
            "_view_module": "@jupyter-widgets/base",
            "_view_module_version": "1.2.0",
            "_view_name": "LayoutView",
            "align_content": null,
            "align_items": null,
            "align_self": null,
            "border": null,
            "bottom": null,
            "display": null,
            "flex": null,
            "flex_flow": null,
            "grid_area": null,
            "grid_auto_columns": null,
            "grid_auto_flow": null,
            "grid_auto_rows": null,
            "grid_column": null,
            "grid_gap": null,
            "grid_row": null,
            "grid_template_areas": null,
            "grid_template_columns": null,
            "grid_template_rows": null,
            "height": null,
            "justify_content": null,
            "justify_items": null,
            "left": null,
            "margin": null,
            "max_height": null,
            "max_width": null,
            "min_height": null,
            "min_width": null,
            "object_fit": null,
            "object_position": null,
            "order": null,
            "overflow": null,
            "overflow_x": null,
            "overflow_y": null,
            "padding": null,
            "right": null,
            "top": null,
            "visibility": null,
            "width": null
          }
        },
        "e753669284c64988bb9e40188dc67b1a": {
          "model_module": "@jupyter-widgets/base",
          "model_name": "LayoutModel",
          "model_module_version": "1.2.0",
          "state": {
            "_model_module": "@jupyter-widgets/base",
            "_model_module_version": "1.2.0",
            "_model_name": "LayoutModel",
            "_view_count": null,
            "_view_module": "@jupyter-widgets/base",
            "_view_module_version": "1.2.0",
            "_view_name": "LayoutView",
            "align_content": null,
            "align_items": null,
            "align_self": null,
            "border": null,
            "bottom": null,
            "display": null,
            "flex": null,
            "flex_flow": null,
            "grid_area": null,
            "grid_auto_columns": null,
            "grid_auto_flow": null,
            "grid_auto_rows": null,
            "grid_column": null,
            "grid_gap": null,
            "grid_row": null,
            "grid_template_areas": null,
            "grid_template_columns": null,
            "grid_template_rows": null,
            "height": null,
            "justify_content": null,
            "justify_items": null,
            "left": null,
            "margin": null,
            "max_height": null,
            "max_width": null,
            "min_height": null,
            "min_width": null,
            "object_fit": null,
            "object_position": null,
            "order": null,
            "overflow": null,
            "overflow_x": null,
            "overflow_y": null,
            "padding": null,
            "right": null,
            "top": null,
            "visibility": null,
            "width": null
          }
        },
        "2a88094ddb464ecab2fb7a63deb60029": {
          "model_module": "@jupyter-widgets/controls",
          "model_name": "DescriptionStyleModel",
          "model_module_version": "1.5.0",
          "state": {
            "_model_module": "@jupyter-widgets/controls",
            "_model_module_version": "1.5.0",
            "_model_name": "DescriptionStyleModel",
            "_view_count": null,
            "_view_module": "@jupyter-widgets/base",
            "_view_module_version": "1.2.0",
            "_view_name": "StyleView",
            "description_width": ""
          }
        },
        "cf45d27858404524918cc6238553f10e": {
          "model_module": "@jupyter-widgets/base",
          "model_name": "LayoutModel",
          "model_module_version": "1.2.0",
          "state": {
            "_model_module": "@jupyter-widgets/base",
            "_model_module_version": "1.2.0",
            "_model_name": "LayoutModel",
            "_view_count": null,
            "_view_module": "@jupyter-widgets/base",
            "_view_module_version": "1.2.0",
            "_view_name": "LayoutView",
            "align_content": null,
            "align_items": null,
            "align_self": null,
            "border": null,
            "bottom": null,
            "display": null,
            "flex": null,
            "flex_flow": null,
            "grid_area": null,
            "grid_auto_columns": null,
            "grid_auto_flow": null,
            "grid_auto_rows": null,
            "grid_column": null,
            "grid_gap": null,
            "grid_row": null,
            "grid_template_areas": null,
            "grid_template_columns": null,
            "grid_template_rows": null,
            "height": null,
            "justify_content": null,
            "justify_items": null,
            "left": null,
            "margin": null,
            "max_height": null,
            "max_width": null,
            "min_height": null,
            "min_width": null,
            "object_fit": null,
            "object_position": null,
            "order": null,
            "overflow": null,
            "overflow_x": null,
            "overflow_y": null,
            "padding": null,
            "right": null,
            "top": null,
            "visibility": null,
            "width": null
          }
        },
        "8f200eba6e624265af52ea7596a39be8": {
          "model_module": "@jupyter-widgets/controls",
          "model_name": "ProgressStyleModel",
          "model_module_version": "1.5.0",
          "state": {
            "_model_module": "@jupyter-widgets/controls",
            "_model_module_version": "1.5.0",
            "_model_name": "ProgressStyleModel",
            "_view_count": null,
            "_view_module": "@jupyter-widgets/base",
            "_view_module_version": "1.2.0",
            "_view_name": "StyleView",
            "bar_color": null,
            "description_width": ""
          }
        },
        "85e0afbb31284a99ba02e10b57b48544": {
          "model_module": "@jupyter-widgets/base",
          "model_name": "LayoutModel",
          "model_module_version": "1.2.0",
          "state": {
            "_model_module": "@jupyter-widgets/base",
            "_model_module_version": "1.2.0",
            "_model_name": "LayoutModel",
            "_view_count": null,
            "_view_module": "@jupyter-widgets/base",
            "_view_module_version": "1.2.0",
            "_view_name": "LayoutView",
            "align_content": null,
            "align_items": null,
            "align_self": null,
            "border": null,
            "bottom": null,
            "display": null,
            "flex": null,
            "flex_flow": null,
            "grid_area": null,
            "grid_auto_columns": null,
            "grid_auto_flow": null,
            "grid_auto_rows": null,
            "grid_column": null,
            "grid_gap": null,
            "grid_row": null,
            "grid_template_areas": null,
            "grid_template_columns": null,
            "grid_template_rows": null,
            "height": null,
            "justify_content": null,
            "justify_items": null,
            "left": null,
            "margin": null,
            "max_height": null,
            "max_width": null,
            "min_height": null,
            "min_width": null,
            "object_fit": null,
            "object_position": null,
            "order": null,
            "overflow": null,
            "overflow_x": null,
            "overflow_y": null,
            "padding": null,
            "right": null,
            "top": null,
            "visibility": null,
            "width": null
          }
        },
        "12039815863047f28c93584fc40806ba": {
          "model_module": "@jupyter-widgets/controls",
          "model_name": "DescriptionStyleModel",
          "model_module_version": "1.5.0",
          "state": {
            "_model_module": "@jupyter-widgets/controls",
            "_model_module_version": "1.5.0",
            "_model_name": "DescriptionStyleModel",
            "_view_count": null,
            "_view_module": "@jupyter-widgets/base",
            "_view_module_version": "1.2.0",
            "_view_name": "StyleView",
            "description_width": ""
          }
        },
        "d9640752195a486eb379177cf76b546b": {
          "model_module": "@jupyter-widgets/controls",
          "model_name": "HBoxModel",
          "model_module_version": "1.5.0",
          "state": {
            "_dom_classes": [],
            "_model_module": "@jupyter-widgets/controls",
            "_model_module_version": "1.5.0",
            "_model_name": "HBoxModel",
            "_view_count": null,
            "_view_module": "@jupyter-widgets/controls",
            "_view_module_version": "1.5.0",
            "_view_name": "HBoxView",
            "box_style": "",
            "children": [
              "IPY_MODEL_fc03bf1a7ac7423daafca278b810a95b",
              "IPY_MODEL_551f3c6e9492493387f8fb3620810223",
              "IPY_MODEL_cbe6561f4838453cbac3d2b0340374cf"
            ],
            "layout": "IPY_MODEL_be9289d1149542258cc31bb77fde0abd"
          }
        },
        "fc03bf1a7ac7423daafca278b810a95b": {
          "model_module": "@jupyter-widgets/controls",
          "model_name": "HTMLModel",
          "model_module_version": "1.5.0",
          "state": {
            "_dom_classes": [],
            "_model_module": "@jupyter-widgets/controls",
            "_model_module_version": "1.5.0",
            "_model_name": "HTMLModel",
            "_view_count": null,
            "_view_module": "@jupyter-widgets/controls",
            "_view_module_version": "1.5.0",
            "_view_name": "HTMLView",
            "description": "",
            "description_tooltip": null,
            "layout": "IPY_MODEL_df1b9ff9efa54f689a8e17f9b42aad42",
            "placeholder": "​",
            "style": "IPY_MODEL_d40cbb0b986b42bf8162240b01dd589f",
            "value": "Map: 100%"
          }
        },
        "551f3c6e9492493387f8fb3620810223": {
          "model_module": "@jupyter-widgets/controls",
          "model_name": "FloatProgressModel",
          "model_module_version": "1.5.0",
          "state": {
            "_dom_classes": [],
            "_model_module": "@jupyter-widgets/controls",
            "_model_module_version": "1.5.0",
            "_model_name": "FloatProgressModel",
            "_view_count": null,
            "_view_module": "@jupyter-widgets/controls",
            "_view_module_version": "1.5.0",
            "_view_name": "ProgressView",
            "bar_style": "success",
            "description": "",
            "description_tooltip": null,
            "layout": "IPY_MODEL_3485dd9a2a1a46ea99e2d53c5e695bf3",
            "max": 1000,
            "min": 0,
            "orientation": "horizontal",
            "style": "IPY_MODEL_c10fb83a8606446196101d735dce79ff",
            "value": 1000
          }
        },
        "cbe6561f4838453cbac3d2b0340374cf": {
          "model_module": "@jupyter-widgets/controls",
          "model_name": "HTMLModel",
          "model_module_version": "1.5.0",
          "state": {
            "_dom_classes": [],
            "_model_module": "@jupyter-widgets/controls",
            "_model_module_version": "1.5.0",
            "_model_name": "HTMLModel",
            "_view_count": null,
            "_view_module": "@jupyter-widgets/controls",
            "_view_module_version": "1.5.0",
            "_view_name": "HTMLView",
            "description": "",
            "description_tooltip": null,
            "layout": "IPY_MODEL_a70d54f943c04dfd8e60ba2a96c7d271",
            "placeholder": "​",
            "style": "IPY_MODEL_a362697968054c4382396f732c8e707f",
            "value": " 1000/1000 [00:00&lt;00:00, 1430.79 examples/s]"
          }
        },
        "be9289d1149542258cc31bb77fde0abd": {
          "model_module": "@jupyter-widgets/base",
          "model_name": "LayoutModel",
          "model_module_version": "1.2.0",
          "state": {
            "_model_module": "@jupyter-widgets/base",
            "_model_module_version": "1.2.0",
            "_model_name": "LayoutModel",
            "_view_count": null,
            "_view_module": "@jupyter-widgets/base",
            "_view_module_version": "1.2.0",
            "_view_name": "LayoutView",
            "align_content": null,
            "align_items": null,
            "align_self": null,
            "border": null,
            "bottom": null,
            "display": null,
            "flex": null,
            "flex_flow": null,
            "grid_area": null,
            "grid_auto_columns": null,
            "grid_auto_flow": null,
            "grid_auto_rows": null,
            "grid_column": null,
            "grid_gap": null,
            "grid_row": null,
            "grid_template_areas": null,
            "grid_template_columns": null,
            "grid_template_rows": null,
            "height": null,
            "justify_content": null,
            "justify_items": null,
            "left": null,
            "margin": null,
            "max_height": null,
            "max_width": null,
            "min_height": null,
            "min_width": null,
            "object_fit": null,
            "object_position": null,
            "order": null,
            "overflow": null,
            "overflow_x": null,
            "overflow_y": null,
            "padding": null,
            "right": null,
            "top": null,
            "visibility": null,
            "width": null
          }
        },
        "df1b9ff9efa54f689a8e17f9b42aad42": {
          "model_module": "@jupyter-widgets/base",
          "model_name": "LayoutModel",
          "model_module_version": "1.2.0",
          "state": {
            "_model_module": "@jupyter-widgets/base",
            "_model_module_version": "1.2.0",
            "_model_name": "LayoutModel",
            "_view_count": null,
            "_view_module": "@jupyter-widgets/base",
            "_view_module_version": "1.2.0",
            "_view_name": "LayoutView",
            "align_content": null,
            "align_items": null,
            "align_self": null,
            "border": null,
            "bottom": null,
            "display": null,
            "flex": null,
            "flex_flow": null,
            "grid_area": null,
            "grid_auto_columns": null,
            "grid_auto_flow": null,
            "grid_auto_rows": null,
            "grid_column": null,
            "grid_gap": null,
            "grid_row": null,
            "grid_template_areas": null,
            "grid_template_columns": null,
            "grid_template_rows": null,
            "height": null,
            "justify_content": null,
            "justify_items": null,
            "left": null,
            "margin": null,
            "max_height": null,
            "max_width": null,
            "min_height": null,
            "min_width": null,
            "object_fit": null,
            "object_position": null,
            "order": null,
            "overflow": null,
            "overflow_x": null,
            "overflow_y": null,
            "padding": null,
            "right": null,
            "top": null,
            "visibility": null,
            "width": null
          }
        },
        "d40cbb0b986b42bf8162240b01dd589f": {
          "model_module": "@jupyter-widgets/controls",
          "model_name": "DescriptionStyleModel",
          "model_module_version": "1.5.0",
          "state": {
            "_model_module": "@jupyter-widgets/controls",
            "_model_module_version": "1.5.0",
            "_model_name": "DescriptionStyleModel",
            "_view_count": null,
            "_view_module": "@jupyter-widgets/base",
            "_view_module_version": "1.2.0",
            "_view_name": "StyleView",
            "description_width": ""
          }
        },
        "3485dd9a2a1a46ea99e2d53c5e695bf3": {
          "model_module": "@jupyter-widgets/base",
          "model_name": "LayoutModel",
          "model_module_version": "1.2.0",
          "state": {
            "_model_module": "@jupyter-widgets/base",
            "_model_module_version": "1.2.0",
            "_model_name": "LayoutModel",
            "_view_count": null,
            "_view_module": "@jupyter-widgets/base",
            "_view_module_version": "1.2.0",
            "_view_name": "LayoutView",
            "align_content": null,
            "align_items": null,
            "align_self": null,
            "border": null,
            "bottom": null,
            "display": null,
            "flex": null,
            "flex_flow": null,
            "grid_area": null,
            "grid_auto_columns": null,
            "grid_auto_flow": null,
            "grid_auto_rows": null,
            "grid_column": null,
            "grid_gap": null,
            "grid_row": null,
            "grid_template_areas": null,
            "grid_template_columns": null,
            "grid_template_rows": null,
            "height": null,
            "justify_content": null,
            "justify_items": null,
            "left": null,
            "margin": null,
            "max_height": null,
            "max_width": null,
            "min_height": null,
            "min_width": null,
            "object_fit": null,
            "object_position": null,
            "order": null,
            "overflow": null,
            "overflow_x": null,
            "overflow_y": null,
            "padding": null,
            "right": null,
            "top": null,
            "visibility": null,
            "width": null
          }
        },
        "c10fb83a8606446196101d735dce79ff": {
          "model_module": "@jupyter-widgets/controls",
          "model_name": "ProgressStyleModel",
          "model_module_version": "1.5.0",
          "state": {
            "_model_module": "@jupyter-widgets/controls",
            "_model_module_version": "1.5.0",
            "_model_name": "ProgressStyleModel",
            "_view_count": null,
            "_view_module": "@jupyter-widgets/base",
            "_view_module_version": "1.2.0",
            "_view_name": "StyleView",
            "bar_color": null,
            "description_width": ""
          }
        },
        "a70d54f943c04dfd8e60ba2a96c7d271": {
          "model_module": "@jupyter-widgets/base",
          "model_name": "LayoutModel",
          "model_module_version": "1.2.0",
          "state": {
            "_model_module": "@jupyter-widgets/base",
            "_model_module_version": "1.2.0",
            "_model_name": "LayoutModel",
            "_view_count": null,
            "_view_module": "@jupyter-widgets/base",
            "_view_module_version": "1.2.0",
            "_view_name": "LayoutView",
            "align_content": null,
            "align_items": null,
            "align_self": null,
            "border": null,
            "bottom": null,
            "display": null,
            "flex": null,
            "flex_flow": null,
            "grid_area": null,
            "grid_auto_columns": null,
            "grid_auto_flow": null,
            "grid_auto_rows": null,
            "grid_column": null,
            "grid_gap": null,
            "grid_row": null,
            "grid_template_areas": null,
            "grid_template_columns": null,
            "grid_template_rows": null,
            "height": null,
            "justify_content": null,
            "justify_items": null,
            "left": null,
            "margin": null,
            "max_height": null,
            "max_width": null,
            "min_height": null,
            "min_width": null,
            "object_fit": null,
            "object_position": null,
            "order": null,
            "overflow": null,
            "overflow_x": null,
            "overflow_y": null,
            "padding": null,
            "right": null,
            "top": null,
            "visibility": null,
            "width": null
          }
        },
        "a362697968054c4382396f732c8e707f": {
          "model_module": "@jupyter-widgets/controls",
          "model_name": "DescriptionStyleModel",
          "model_module_version": "1.5.0",
          "state": {
            "_model_module": "@jupyter-widgets/controls",
            "_model_module_version": "1.5.0",
            "_model_name": "DescriptionStyleModel",
            "_view_count": null,
            "_view_module": "@jupyter-widgets/base",
            "_view_module_version": "1.2.0",
            "_view_name": "StyleView",
            "description_width": ""
          }
        },
        "152fbf8040dc4a9e95ed7c68bff52834": {
          "model_module": "@jupyter-widgets/controls",
          "model_name": "HBoxModel",
          "model_module_version": "1.5.0",
          "state": {
            "_dom_classes": [],
            "_model_module": "@jupyter-widgets/controls",
            "_model_module_version": "1.5.0",
            "_model_name": "HBoxModel",
            "_view_count": null,
            "_view_module": "@jupyter-widgets/controls",
            "_view_module_version": "1.5.0",
            "_view_name": "HBoxView",
            "box_style": "",
            "children": [
              "IPY_MODEL_35d2bbe514554171a77c37c3fb52d463",
              "IPY_MODEL_50c3b94ed8974a16877449adfd7e41f8",
              "IPY_MODEL_9365a2b2add44f8baa4d78a713aec9d2"
            ],
            "layout": "IPY_MODEL_35f469f697d442919312972b0c0ed363"
          }
        },
        "35d2bbe514554171a77c37c3fb52d463": {
          "model_module": "@jupyter-widgets/controls",
          "model_name": "HTMLModel",
          "model_module_version": "1.5.0",
          "state": {
            "_dom_classes": [],
            "_model_module": "@jupyter-widgets/controls",
            "_model_module_version": "1.5.0",
            "_model_name": "HTMLModel",
            "_view_count": null,
            "_view_module": "@jupyter-widgets/controls",
            "_view_module_version": "1.5.0",
            "_view_name": "HTMLView",
            "description": "",
            "description_tooltip": null,
            "layout": "IPY_MODEL_5041188059fc47f88d059649571ae645",
            "placeholder": "​",
            "style": "IPY_MODEL_e8c60999ff334b52ad8b94f0493f5124",
            "value": "Map: 100%"
          }
        },
        "50c3b94ed8974a16877449adfd7e41f8": {
          "model_module": "@jupyter-widgets/controls",
          "model_name": "FloatProgressModel",
          "model_module_version": "1.5.0",
          "state": {
            "_dom_classes": [],
            "_model_module": "@jupyter-widgets/controls",
            "_model_module_version": "1.5.0",
            "_model_name": "FloatProgressModel",
            "_view_count": null,
            "_view_module": "@jupyter-widgets/controls",
            "_view_module_version": "1.5.0",
            "_view_name": "ProgressView",
            "bar_style": "success",
            "description": "",
            "description_tooltip": null,
            "layout": "IPY_MODEL_c6fb44e495cb4e5a91c0b68570a139b5",
            "max": 380110,
            "min": 0,
            "orientation": "horizontal",
            "style": "IPY_MODEL_d15567ff874c4a259640e41e50037062",
            "value": 380110
          }
        },
        "9365a2b2add44f8baa4d78a713aec9d2": {
          "model_module": "@jupyter-widgets/controls",
          "model_name": "HTMLModel",
          "model_module_version": "1.5.0",
          "state": {
            "_dom_classes": [],
            "_model_module": "@jupyter-widgets/controls",
            "_model_module_version": "1.5.0",
            "_model_name": "HTMLModel",
            "_view_count": null,
            "_view_module": "@jupyter-widgets/controls",
            "_view_module_version": "1.5.0",
            "_view_name": "HTMLView",
            "description": "",
            "description_tooltip": null,
            "layout": "IPY_MODEL_38f1f51323384de59de81cd84d46fef1",
            "placeholder": "​",
            "style": "IPY_MODEL_75e4bb080c824276b2e278fd9dcb5d40",
            "value": " 380110/380110 [02:53&lt;00:00, 2551.43 examples/s]"
          }
        },
        "35f469f697d442919312972b0c0ed363": {
          "model_module": "@jupyter-widgets/base",
          "model_name": "LayoutModel",
          "model_module_version": "1.2.0",
          "state": {
            "_model_module": "@jupyter-widgets/base",
            "_model_module_version": "1.2.0",
            "_model_name": "LayoutModel",
            "_view_count": null,
            "_view_module": "@jupyter-widgets/base",
            "_view_module_version": "1.2.0",
            "_view_name": "LayoutView",
            "align_content": null,
            "align_items": null,
            "align_self": null,
            "border": null,
            "bottom": null,
            "display": null,
            "flex": null,
            "flex_flow": null,
            "grid_area": null,
            "grid_auto_columns": null,
            "grid_auto_flow": null,
            "grid_auto_rows": null,
            "grid_column": null,
            "grid_gap": null,
            "grid_row": null,
            "grid_template_areas": null,
            "grid_template_columns": null,
            "grid_template_rows": null,
            "height": null,
            "justify_content": null,
            "justify_items": null,
            "left": null,
            "margin": null,
            "max_height": null,
            "max_width": null,
            "min_height": null,
            "min_width": null,
            "object_fit": null,
            "object_position": null,
            "order": null,
            "overflow": null,
            "overflow_x": null,
            "overflow_y": null,
            "padding": null,
            "right": null,
            "top": null,
            "visibility": null,
            "width": null
          }
        },
        "5041188059fc47f88d059649571ae645": {
          "model_module": "@jupyter-widgets/base",
          "model_name": "LayoutModel",
          "model_module_version": "1.2.0",
          "state": {
            "_model_module": "@jupyter-widgets/base",
            "_model_module_version": "1.2.0",
            "_model_name": "LayoutModel",
            "_view_count": null,
            "_view_module": "@jupyter-widgets/base",
            "_view_module_version": "1.2.0",
            "_view_name": "LayoutView",
            "align_content": null,
            "align_items": null,
            "align_self": null,
            "border": null,
            "bottom": null,
            "display": null,
            "flex": null,
            "flex_flow": null,
            "grid_area": null,
            "grid_auto_columns": null,
            "grid_auto_flow": null,
            "grid_auto_rows": null,
            "grid_column": null,
            "grid_gap": null,
            "grid_row": null,
            "grid_template_areas": null,
            "grid_template_columns": null,
            "grid_template_rows": null,
            "height": null,
            "justify_content": null,
            "justify_items": null,
            "left": null,
            "margin": null,
            "max_height": null,
            "max_width": null,
            "min_height": null,
            "min_width": null,
            "object_fit": null,
            "object_position": null,
            "order": null,
            "overflow": null,
            "overflow_x": null,
            "overflow_y": null,
            "padding": null,
            "right": null,
            "top": null,
            "visibility": null,
            "width": null
          }
        },
        "e8c60999ff334b52ad8b94f0493f5124": {
          "model_module": "@jupyter-widgets/controls",
          "model_name": "DescriptionStyleModel",
          "model_module_version": "1.5.0",
          "state": {
            "_model_module": "@jupyter-widgets/controls",
            "_model_module_version": "1.5.0",
            "_model_name": "DescriptionStyleModel",
            "_view_count": null,
            "_view_module": "@jupyter-widgets/base",
            "_view_module_version": "1.2.0",
            "_view_name": "StyleView",
            "description_width": ""
          }
        },
        "c6fb44e495cb4e5a91c0b68570a139b5": {
          "model_module": "@jupyter-widgets/base",
          "model_name": "LayoutModel",
          "model_module_version": "1.2.0",
          "state": {
            "_model_module": "@jupyter-widgets/base",
            "_model_module_version": "1.2.0",
            "_model_name": "LayoutModel",
            "_view_count": null,
            "_view_module": "@jupyter-widgets/base",
            "_view_module_version": "1.2.0",
            "_view_name": "LayoutView",
            "align_content": null,
            "align_items": null,
            "align_self": null,
            "border": null,
            "bottom": null,
            "display": null,
            "flex": null,
            "flex_flow": null,
            "grid_area": null,
            "grid_auto_columns": null,
            "grid_auto_flow": null,
            "grid_auto_rows": null,
            "grid_column": null,
            "grid_gap": null,
            "grid_row": null,
            "grid_template_areas": null,
            "grid_template_columns": null,
            "grid_template_rows": null,
            "height": null,
            "justify_content": null,
            "justify_items": null,
            "left": null,
            "margin": null,
            "max_height": null,
            "max_width": null,
            "min_height": null,
            "min_width": null,
            "object_fit": null,
            "object_position": null,
            "order": null,
            "overflow": null,
            "overflow_x": null,
            "overflow_y": null,
            "padding": null,
            "right": null,
            "top": null,
            "visibility": null,
            "width": null
          }
        },
        "d15567ff874c4a259640e41e50037062": {
          "model_module": "@jupyter-widgets/controls",
          "model_name": "ProgressStyleModel",
          "model_module_version": "1.5.0",
          "state": {
            "_model_module": "@jupyter-widgets/controls",
            "_model_module_version": "1.5.0",
            "_model_name": "ProgressStyleModel",
            "_view_count": null,
            "_view_module": "@jupyter-widgets/base",
            "_view_module_version": "1.2.0",
            "_view_name": "StyleView",
            "bar_color": null,
            "description_width": ""
          }
        },
        "38f1f51323384de59de81cd84d46fef1": {
          "model_module": "@jupyter-widgets/base",
          "model_name": "LayoutModel",
          "model_module_version": "1.2.0",
          "state": {
            "_model_module": "@jupyter-widgets/base",
            "_model_module_version": "1.2.0",
            "_model_name": "LayoutModel",
            "_view_count": null,
            "_view_module": "@jupyter-widgets/base",
            "_view_module_version": "1.2.0",
            "_view_name": "LayoutView",
            "align_content": null,
            "align_items": null,
            "align_self": null,
            "border": null,
            "bottom": null,
            "display": null,
            "flex": null,
            "flex_flow": null,
            "grid_area": null,
            "grid_auto_columns": null,
            "grid_auto_flow": null,
            "grid_auto_rows": null,
            "grid_column": null,
            "grid_gap": null,
            "grid_row": null,
            "grid_template_areas": null,
            "grid_template_columns": null,
            "grid_template_rows": null,
            "height": null,
            "justify_content": null,
            "justify_items": null,
            "left": null,
            "margin": null,
            "max_height": null,
            "max_width": null,
            "min_height": null,
            "min_width": null,
            "object_fit": null,
            "object_position": null,
            "order": null,
            "overflow": null,
            "overflow_x": null,
            "overflow_y": null,
            "padding": null,
            "right": null,
            "top": null,
            "visibility": null,
            "width": null
          }
        },
        "75e4bb080c824276b2e278fd9dcb5d40": {
          "model_module": "@jupyter-widgets/controls",
          "model_name": "DescriptionStyleModel",
          "model_module_version": "1.5.0",
          "state": {
            "_model_module": "@jupyter-widgets/controls",
            "_model_module_version": "1.5.0",
            "_model_name": "DescriptionStyleModel",
            "_view_count": null,
            "_view_module": "@jupyter-widgets/base",
            "_view_module_version": "1.2.0",
            "_view_name": "StyleView",
            "description_width": ""
          }
        },
        "66ffc5c106c1409f9b0f54a33eae910c": {
          "model_module": "@jupyter-widgets/controls",
          "model_name": "HBoxModel",
          "model_module_version": "1.5.0",
          "state": {
            "_dom_classes": [],
            "_model_module": "@jupyter-widgets/controls",
            "_model_module_version": "1.5.0",
            "_model_name": "HBoxModel",
            "_view_count": null,
            "_view_module": "@jupyter-widgets/controls",
            "_view_module_version": "1.5.0",
            "_view_name": "HBoxView",
            "box_style": "",
            "children": [
              "IPY_MODEL_081ea9571a934af1b5abfcafb43c0594",
              "IPY_MODEL_0d3ddac64a0b4a9c82d5767da9a57aa4",
              "IPY_MODEL_f30c68838dba4906beff974550908514"
            ],
            "layout": "IPY_MODEL_f069a1da0e0a488fa4b86060f2f82691"
          }
        },
        "081ea9571a934af1b5abfcafb43c0594": {
          "model_module": "@jupyter-widgets/controls",
          "model_name": "HTMLModel",
          "model_module_version": "1.5.0",
          "state": {
            "_dom_classes": [],
            "_model_module": "@jupyter-widgets/controls",
            "_model_module_version": "1.5.0",
            "_model_name": "HTMLModel",
            "_view_count": null,
            "_view_module": "@jupyter-widgets/controls",
            "_view_module_version": "1.5.0",
            "_view_name": "HTMLView",
            "description": "",
            "description_tooltip": null,
            "layout": "IPY_MODEL_17a91d3aa4244d78878241f29a560c15",
            "placeholder": "​",
            "style": "IPY_MODEL_9af40456cb8a46808a75b4894d215c80",
            "value": "Map: 100%"
          }
        },
        "0d3ddac64a0b4a9c82d5767da9a57aa4": {
          "model_module": "@jupyter-widgets/controls",
          "model_name": "FloatProgressModel",
          "model_module_version": "1.5.0",
          "state": {
            "_dom_classes": [],
            "_model_module": "@jupyter-widgets/controls",
            "_model_module_version": "1.5.0",
            "_model_name": "FloatProgressModel",
            "_view_count": null,
            "_view_module": "@jupyter-widgets/controls",
            "_view_module_version": "1.5.0",
            "_view_name": "ProgressView",
            "bar_style": "success",
            "description": "",
            "description_tooltip": null,
            "layout": "IPY_MODEL_a4ba2495487f4432a9554c615f9167cd",
            "max": 190,
            "min": 0,
            "orientation": "horizontal",
            "style": "IPY_MODEL_35d4ba89b54d41a9bd53f6ea77916f50",
            "value": 190
          }
        },
        "f30c68838dba4906beff974550908514": {
          "model_module": "@jupyter-widgets/controls",
          "model_name": "HTMLModel",
          "model_module_version": "1.5.0",
          "state": {
            "_dom_classes": [],
            "_model_module": "@jupyter-widgets/controls",
            "_model_module_version": "1.5.0",
            "_model_name": "HTMLModel",
            "_view_count": null,
            "_view_module": "@jupyter-widgets/controls",
            "_view_module_version": "1.5.0",
            "_view_name": "HTMLView",
            "description": "",
            "description_tooltip": null,
            "layout": "IPY_MODEL_36b13f2e1f074851814a118998728264",
            "placeholder": "​",
            "style": "IPY_MODEL_1cd0a8b2a2dc40209915005bebebf523",
            "value": " 190/190 [00:00&lt;00:00, 1707.04 examples/s]"
          }
        },
        "f069a1da0e0a488fa4b86060f2f82691": {
          "model_module": "@jupyter-widgets/base",
          "model_name": "LayoutModel",
          "model_module_version": "1.2.0",
          "state": {
            "_model_module": "@jupyter-widgets/base",
            "_model_module_version": "1.2.0",
            "_model_name": "LayoutModel",
            "_view_count": null,
            "_view_module": "@jupyter-widgets/base",
            "_view_module_version": "1.2.0",
            "_view_name": "LayoutView",
            "align_content": null,
            "align_items": null,
            "align_self": null,
            "border": null,
            "bottom": null,
            "display": null,
            "flex": null,
            "flex_flow": null,
            "grid_area": null,
            "grid_auto_columns": null,
            "grid_auto_flow": null,
            "grid_auto_rows": null,
            "grid_column": null,
            "grid_gap": null,
            "grid_row": null,
            "grid_template_areas": null,
            "grid_template_columns": null,
            "grid_template_rows": null,
            "height": null,
            "justify_content": null,
            "justify_items": null,
            "left": null,
            "margin": null,
            "max_height": null,
            "max_width": null,
            "min_height": null,
            "min_width": null,
            "object_fit": null,
            "object_position": null,
            "order": null,
            "overflow": null,
            "overflow_x": null,
            "overflow_y": null,
            "padding": null,
            "right": null,
            "top": null,
            "visibility": null,
            "width": null
          }
        },
        "17a91d3aa4244d78878241f29a560c15": {
          "model_module": "@jupyter-widgets/base",
          "model_name": "LayoutModel",
          "model_module_version": "1.2.0",
          "state": {
            "_model_module": "@jupyter-widgets/base",
            "_model_module_version": "1.2.0",
            "_model_name": "LayoutModel",
            "_view_count": null,
            "_view_module": "@jupyter-widgets/base",
            "_view_module_version": "1.2.0",
            "_view_name": "LayoutView",
            "align_content": null,
            "align_items": null,
            "align_self": null,
            "border": null,
            "bottom": null,
            "display": null,
            "flex": null,
            "flex_flow": null,
            "grid_area": null,
            "grid_auto_columns": null,
            "grid_auto_flow": null,
            "grid_auto_rows": null,
            "grid_column": null,
            "grid_gap": null,
            "grid_row": null,
            "grid_template_areas": null,
            "grid_template_columns": null,
            "grid_template_rows": null,
            "height": null,
            "justify_content": null,
            "justify_items": null,
            "left": null,
            "margin": null,
            "max_height": null,
            "max_width": null,
            "min_height": null,
            "min_width": null,
            "object_fit": null,
            "object_position": null,
            "order": null,
            "overflow": null,
            "overflow_x": null,
            "overflow_y": null,
            "padding": null,
            "right": null,
            "top": null,
            "visibility": null,
            "width": null
          }
        },
        "9af40456cb8a46808a75b4894d215c80": {
          "model_module": "@jupyter-widgets/controls",
          "model_name": "DescriptionStyleModel",
          "model_module_version": "1.5.0",
          "state": {
            "_model_module": "@jupyter-widgets/controls",
            "_model_module_version": "1.5.0",
            "_model_name": "DescriptionStyleModel",
            "_view_count": null,
            "_view_module": "@jupyter-widgets/base",
            "_view_module_version": "1.2.0",
            "_view_name": "StyleView",
            "description_width": ""
          }
        },
        "a4ba2495487f4432a9554c615f9167cd": {
          "model_module": "@jupyter-widgets/base",
          "model_name": "LayoutModel",
          "model_module_version": "1.2.0",
          "state": {
            "_model_module": "@jupyter-widgets/base",
            "_model_module_version": "1.2.0",
            "_model_name": "LayoutModel",
            "_view_count": null,
            "_view_module": "@jupyter-widgets/base",
            "_view_module_version": "1.2.0",
            "_view_name": "LayoutView",
            "align_content": null,
            "align_items": null,
            "align_self": null,
            "border": null,
            "bottom": null,
            "display": null,
            "flex": null,
            "flex_flow": null,
            "grid_area": null,
            "grid_auto_columns": null,
            "grid_auto_flow": null,
            "grid_auto_rows": null,
            "grid_column": null,
            "grid_gap": null,
            "grid_row": null,
            "grid_template_areas": null,
            "grid_template_columns": null,
            "grid_template_rows": null,
            "height": null,
            "justify_content": null,
            "justify_items": null,
            "left": null,
            "margin": null,
            "max_height": null,
            "max_width": null,
            "min_height": null,
            "min_width": null,
            "object_fit": null,
            "object_position": null,
            "order": null,
            "overflow": null,
            "overflow_x": null,
            "overflow_y": null,
            "padding": null,
            "right": null,
            "top": null,
            "visibility": null,
            "width": null
          }
        },
        "35d4ba89b54d41a9bd53f6ea77916f50": {
          "model_module": "@jupyter-widgets/controls",
          "model_name": "ProgressStyleModel",
          "model_module_version": "1.5.0",
          "state": {
            "_model_module": "@jupyter-widgets/controls",
            "_model_module_version": "1.5.0",
            "_model_name": "ProgressStyleModel",
            "_view_count": null,
            "_view_module": "@jupyter-widgets/base",
            "_view_module_version": "1.2.0",
            "_view_name": "StyleView",
            "bar_color": null,
            "description_width": ""
          }
        },
        "36b13f2e1f074851814a118998728264": {
          "model_module": "@jupyter-widgets/base",
          "model_name": "LayoutModel",
          "model_module_version": "1.2.0",
          "state": {
            "_model_module": "@jupyter-widgets/base",
            "_model_module_version": "1.2.0",
            "_model_name": "LayoutModel",
            "_view_count": null,
            "_view_module": "@jupyter-widgets/base",
            "_view_module_version": "1.2.0",
            "_view_name": "LayoutView",
            "align_content": null,
            "align_items": null,
            "align_self": null,
            "border": null,
            "bottom": null,
            "display": null,
            "flex": null,
            "flex_flow": null,
            "grid_area": null,
            "grid_auto_columns": null,
            "grid_auto_flow": null,
            "grid_auto_rows": null,
            "grid_column": null,
            "grid_gap": null,
            "grid_row": null,
            "grid_template_areas": null,
            "grid_template_columns": null,
            "grid_template_rows": null,
            "height": null,
            "justify_content": null,
            "justify_items": null,
            "left": null,
            "margin": null,
            "max_height": null,
            "max_width": null,
            "min_height": null,
            "min_width": null,
            "object_fit": null,
            "object_position": null,
            "order": null,
            "overflow": null,
            "overflow_x": null,
            "overflow_y": null,
            "padding": null,
            "right": null,
            "top": null,
            "visibility": null,
            "width": null
          }
        },
        "1cd0a8b2a2dc40209915005bebebf523": {
          "model_module": "@jupyter-widgets/controls",
          "model_name": "DescriptionStyleModel",
          "model_module_version": "1.5.0",
          "state": {
            "_model_module": "@jupyter-widgets/controls",
            "_model_module_version": "1.5.0",
            "_model_name": "DescriptionStyleModel",
            "_view_count": null,
            "_view_module": "@jupyter-widgets/base",
            "_view_module_version": "1.2.0",
            "_view_name": "StyleView",
            "description_width": ""
          }
        },
        "ec6796245a0f4def85f0b824847ef574": {
          "model_module": "@jupyter-widgets/controls",
          "model_name": "HBoxModel",
          "model_module_version": "1.5.0",
          "state": {
            "_dom_classes": [],
            "_model_module": "@jupyter-widgets/controls",
            "_model_module_version": "1.5.0",
            "_model_name": "HBoxModel",
            "_view_count": null,
            "_view_module": "@jupyter-widgets/controls",
            "_view_module_version": "1.5.0",
            "_view_name": "HBoxView",
            "box_style": "",
            "children": [
              "IPY_MODEL_a4a6b15b03e04dd992aa8a1ecc6fe6c5",
              "IPY_MODEL_eda9792eae0e4a8abcf5e9526bc3b278",
              "IPY_MODEL_42942c27da284890882d4c0df5e93dd9"
            ],
            "layout": "IPY_MODEL_c2e091d1cac84b1f9455b5fa328b1993"
          }
        },
        "a4a6b15b03e04dd992aa8a1ecc6fe6c5": {
          "model_module": "@jupyter-widgets/controls",
          "model_name": "HTMLModel",
          "model_module_version": "1.5.0",
          "state": {
            "_dom_classes": [],
            "_model_module": "@jupyter-widgets/controls",
            "_model_module_version": "1.5.0",
            "_model_name": "HTMLModel",
            "_view_count": null,
            "_view_module": "@jupyter-widgets/controls",
            "_view_module_version": "1.5.0",
            "_view_name": "HTMLView",
            "description": "",
            "description_tooltip": null,
            "layout": "IPY_MODEL_147f584b0bc54510a994fefc1e3df2fc",
            "placeholder": "​",
            "style": "IPY_MODEL_7e516f7c1b4b4698a25bee8675743ede",
            "value": "Saving the dataset (1/1 shards): 100%"
          }
        },
        "eda9792eae0e4a8abcf5e9526bc3b278": {
          "model_module": "@jupyter-widgets/controls",
          "model_name": "FloatProgressModel",
          "model_module_version": "1.5.0",
          "state": {
            "_dom_classes": [],
            "_model_module": "@jupyter-widgets/controls",
            "_model_module_version": "1.5.0",
            "_model_name": "FloatProgressModel",
            "_view_count": null,
            "_view_module": "@jupyter-widgets/controls",
            "_view_module_version": "1.5.0",
            "_view_name": "ProgressView",
            "bar_style": "success",
            "description": "",
            "description_tooltip": null,
            "layout": "IPY_MODEL_ede91f20f5ea448eacecb9c960ee767f",
            "max": 2000,
            "min": 0,
            "orientation": "horizontal",
            "style": "IPY_MODEL_3168f4d98cd341699fd94509ad927647",
            "value": 2000
          }
        },
        "42942c27da284890882d4c0df5e93dd9": {
          "model_module": "@jupyter-widgets/controls",
          "model_name": "HTMLModel",
          "model_module_version": "1.5.0",
          "state": {
            "_dom_classes": [],
            "_model_module": "@jupyter-widgets/controls",
            "_model_module_version": "1.5.0",
            "_model_name": "HTMLModel",
            "_view_count": null,
            "_view_module": "@jupyter-widgets/controls",
            "_view_module_version": "1.5.0",
            "_view_name": "HTMLView",
            "description": "",
            "description_tooltip": null,
            "layout": "IPY_MODEL_e5d4cfa1d53e4f2ca9e3ca2730c4d566",
            "placeholder": "​",
            "style": "IPY_MODEL_db9341c7f57c438b9bf57688ce2b8c36",
            "value": " 2000/2000 [00:00&lt;00:00, 50553.27 examples/s]"
          }
        },
        "c2e091d1cac84b1f9455b5fa328b1993": {
          "model_module": "@jupyter-widgets/base",
          "model_name": "LayoutModel",
          "model_module_version": "1.2.0",
          "state": {
            "_model_module": "@jupyter-widgets/base",
            "_model_module_version": "1.2.0",
            "_model_name": "LayoutModel",
            "_view_count": null,
            "_view_module": "@jupyter-widgets/base",
            "_view_module_version": "1.2.0",
            "_view_name": "LayoutView",
            "align_content": null,
            "align_items": null,
            "align_self": null,
            "border": null,
            "bottom": null,
            "display": null,
            "flex": null,
            "flex_flow": null,
            "grid_area": null,
            "grid_auto_columns": null,
            "grid_auto_flow": null,
            "grid_auto_rows": null,
            "grid_column": null,
            "grid_gap": null,
            "grid_row": null,
            "grid_template_areas": null,
            "grid_template_columns": null,
            "grid_template_rows": null,
            "height": null,
            "justify_content": null,
            "justify_items": null,
            "left": null,
            "margin": null,
            "max_height": null,
            "max_width": null,
            "min_height": null,
            "min_width": null,
            "object_fit": null,
            "object_position": null,
            "order": null,
            "overflow": null,
            "overflow_x": null,
            "overflow_y": null,
            "padding": null,
            "right": null,
            "top": null,
            "visibility": null,
            "width": null
          }
        },
        "147f584b0bc54510a994fefc1e3df2fc": {
          "model_module": "@jupyter-widgets/base",
          "model_name": "LayoutModel",
          "model_module_version": "1.2.0",
          "state": {
            "_model_module": "@jupyter-widgets/base",
            "_model_module_version": "1.2.0",
            "_model_name": "LayoutModel",
            "_view_count": null,
            "_view_module": "@jupyter-widgets/base",
            "_view_module_version": "1.2.0",
            "_view_name": "LayoutView",
            "align_content": null,
            "align_items": null,
            "align_self": null,
            "border": null,
            "bottom": null,
            "display": null,
            "flex": null,
            "flex_flow": null,
            "grid_area": null,
            "grid_auto_columns": null,
            "grid_auto_flow": null,
            "grid_auto_rows": null,
            "grid_column": null,
            "grid_gap": null,
            "grid_row": null,
            "grid_template_areas": null,
            "grid_template_columns": null,
            "grid_template_rows": null,
            "height": null,
            "justify_content": null,
            "justify_items": null,
            "left": null,
            "margin": null,
            "max_height": null,
            "max_width": null,
            "min_height": null,
            "min_width": null,
            "object_fit": null,
            "object_position": null,
            "order": null,
            "overflow": null,
            "overflow_x": null,
            "overflow_y": null,
            "padding": null,
            "right": null,
            "top": null,
            "visibility": null,
            "width": null
          }
        },
        "7e516f7c1b4b4698a25bee8675743ede": {
          "model_module": "@jupyter-widgets/controls",
          "model_name": "DescriptionStyleModel",
          "model_module_version": "1.5.0",
          "state": {
            "_model_module": "@jupyter-widgets/controls",
            "_model_module_version": "1.5.0",
            "_model_name": "DescriptionStyleModel",
            "_view_count": null,
            "_view_module": "@jupyter-widgets/base",
            "_view_module_version": "1.2.0",
            "_view_name": "StyleView",
            "description_width": ""
          }
        },
        "ede91f20f5ea448eacecb9c960ee767f": {
          "model_module": "@jupyter-widgets/base",
          "model_name": "LayoutModel",
          "model_module_version": "1.2.0",
          "state": {
            "_model_module": "@jupyter-widgets/base",
            "_model_module_version": "1.2.0",
            "_model_name": "LayoutModel",
            "_view_count": null,
            "_view_module": "@jupyter-widgets/base",
            "_view_module_version": "1.2.0",
            "_view_name": "LayoutView",
            "align_content": null,
            "align_items": null,
            "align_self": null,
            "border": null,
            "bottom": null,
            "display": null,
            "flex": null,
            "flex_flow": null,
            "grid_area": null,
            "grid_auto_columns": null,
            "grid_auto_flow": null,
            "grid_auto_rows": null,
            "grid_column": null,
            "grid_gap": null,
            "grid_row": null,
            "grid_template_areas": null,
            "grid_template_columns": null,
            "grid_template_rows": null,
            "height": null,
            "justify_content": null,
            "justify_items": null,
            "left": null,
            "margin": null,
            "max_height": null,
            "max_width": null,
            "min_height": null,
            "min_width": null,
            "object_fit": null,
            "object_position": null,
            "order": null,
            "overflow": null,
            "overflow_x": null,
            "overflow_y": null,
            "padding": null,
            "right": null,
            "top": null,
            "visibility": null,
            "width": null
          }
        },
        "3168f4d98cd341699fd94509ad927647": {
          "model_module": "@jupyter-widgets/controls",
          "model_name": "ProgressStyleModel",
          "model_module_version": "1.5.0",
          "state": {
            "_model_module": "@jupyter-widgets/controls",
            "_model_module_version": "1.5.0",
            "_model_name": "ProgressStyleModel",
            "_view_count": null,
            "_view_module": "@jupyter-widgets/base",
            "_view_module_version": "1.2.0",
            "_view_name": "StyleView",
            "bar_color": null,
            "description_width": ""
          }
        },
        "e5d4cfa1d53e4f2ca9e3ca2730c4d566": {
          "model_module": "@jupyter-widgets/base",
          "model_name": "LayoutModel",
          "model_module_version": "1.2.0",
          "state": {
            "_model_module": "@jupyter-widgets/base",
            "_model_module_version": "1.2.0",
            "_model_name": "LayoutModel",
            "_view_count": null,
            "_view_module": "@jupyter-widgets/base",
            "_view_module_version": "1.2.0",
            "_view_name": "LayoutView",
            "align_content": null,
            "align_items": null,
            "align_self": null,
            "border": null,
            "bottom": null,
            "display": null,
            "flex": null,
            "flex_flow": null,
            "grid_area": null,
            "grid_auto_columns": null,
            "grid_auto_flow": null,
            "grid_auto_rows": null,
            "grid_column": null,
            "grid_gap": null,
            "grid_row": null,
            "grid_template_areas": null,
            "grid_template_columns": null,
            "grid_template_rows": null,
            "height": null,
            "justify_content": null,
            "justify_items": null,
            "left": null,
            "margin": null,
            "max_height": null,
            "max_width": null,
            "min_height": null,
            "min_width": null,
            "object_fit": null,
            "object_position": null,
            "order": null,
            "overflow": null,
            "overflow_x": null,
            "overflow_y": null,
            "padding": null,
            "right": null,
            "top": null,
            "visibility": null,
            "width": null
          }
        },
        "db9341c7f57c438b9bf57688ce2b8c36": {
          "model_module": "@jupyter-widgets/controls",
          "model_name": "DescriptionStyleModel",
          "model_module_version": "1.5.0",
          "state": {
            "_model_module": "@jupyter-widgets/controls",
            "_model_module_version": "1.5.0",
            "_model_name": "DescriptionStyleModel",
            "_view_count": null,
            "_view_module": "@jupyter-widgets/base",
            "_view_module_version": "1.2.0",
            "_view_name": "StyleView",
            "description_width": ""
          }
        },
        "f602c942f2214cb2b523648e99169d83": {
          "model_module": "@jupyter-widgets/controls",
          "model_name": "HBoxModel",
          "model_module_version": "1.5.0",
          "state": {
            "_dom_classes": [],
            "_model_module": "@jupyter-widgets/controls",
            "_model_module_version": "1.5.0",
            "_model_name": "HBoxModel",
            "_view_count": null,
            "_view_module": "@jupyter-widgets/controls",
            "_view_module_version": "1.5.0",
            "_view_name": "HBoxView",
            "box_style": "",
            "children": [
              "IPY_MODEL_5c0827af87ef47669ca4663d1cbc1c4b",
              "IPY_MODEL_568a8119f1f94efbb40bf344487b6ac1",
              "IPY_MODEL_f14c254db22c437eab4ed86c0944f3f8"
            ],
            "layout": "IPY_MODEL_1fc7409b7a934899a5b5de3f2a8917b6"
          }
        },
        "5c0827af87ef47669ca4663d1cbc1c4b": {
          "model_module": "@jupyter-widgets/controls",
          "model_name": "HTMLModel",
          "model_module_version": "1.5.0",
          "state": {
            "_dom_classes": [],
            "_model_module": "@jupyter-widgets/controls",
            "_model_module_version": "1.5.0",
            "_model_name": "HTMLModel",
            "_view_count": null,
            "_view_module": "@jupyter-widgets/controls",
            "_view_module_version": "1.5.0",
            "_view_name": "HTMLView",
            "description": "",
            "description_tooltip": null,
            "layout": "IPY_MODEL_55d81df14cee4129911f4f1563d4a027",
            "placeholder": "​",
            "style": "IPY_MODEL_810a9299ebe14ef5a3469fb4b218b7a6",
            "value": "Saving the dataset (1/1 shards): 100%"
          }
        },
        "568a8119f1f94efbb40bf344487b6ac1": {
          "model_module": "@jupyter-widgets/controls",
          "model_name": "FloatProgressModel",
          "model_module_version": "1.5.0",
          "state": {
            "_dom_classes": [],
            "_model_module": "@jupyter-widgets/controls",
            "_model_module_version": "1.5.0",
            "_model_name": "FloatProgressModel",
            "_view_count": null,
            "_view_module": "@jupyter-widgets/controls",
            "_view_module_version": "1.5.0",
            "_view_name": "ProgressView",
            "bar_style": "success",
            "description": "",
            "description_tooltip": null,
            "layout": "IPY_MODEL_3a8345123805481c93ad9a7b507b0050",
            "max": 1000,
            "min": 0,
            "orientation": "horizontal",
            "style": "IPY_MODEL_9c2f2e5fa36a49a19eb57d825a72938a",
            "value": 1000
          }
        },
        "f14c254db22c437eab4ed86c0944f3f8": {
          "model_module": "@jupyter-widgets/controls",
          "model_name": "HTMLModel",
          "model_module_version": "1.5.0",
          "state": {
            "_dom_classes": [],
            "_model_module": "@jupyter-widgets/controls",
            "_model_module_version": "1.5.0",
            "_model_name": "HTMLModel",
            "_view_count": null,
            "_view_module": "@jupyter-widgets/controls",
            "_view_module_version": "1.5.0",
            "_view_name": "HTMLView",
            "description": "",
            "description_tooltip": null,
            "layout": "IPY_MODEL_dba516e635304ea5b4701edfb2450386",
            "placeholder": "​",
            "style": "IPY_MODEL_f6ab86c866564f6291323fa9ab00be1a",
            "value": " 1000/1000 [00:00&lt;00:00, 28054.98 examples/s]"
          }
        },
        "1fc7409b7a934899a5b5de3f2a8917b6": {
          "model_module": "@jupyter-widgets/base",
          "model_name": "LayoutModel",
          "model_module_version": "1.2.0",
          "state": {
            "_model_module": "@jupyter-widgets/base",
            "_model_module_version": "1.2.0",
            "_model_name": "LayoutModel",
            "_view_count": null,
            "_view_module": "@jupyter-widgets/base",
            "_view_module_version": "1.2.0",
            "_view_name": "LayoutView",
            "align_content": null,
            "align_items": null,
            "align_self": null,
            "border": null,
            "bottom": null,
            "display": null,
            "flex": null,
            "flex_flow": null,
            "grid_area": null,
            "grid_auto_columns": null,
            "grid_auto_flow": null,
            "grid_auto_rows": null,
            "grid_column": null,
            "grid_gap": null,
            "grid_row": null,
            "grid_template_areas": null,
            "grid_template_columns": null,
            "grid_template_rows": null,
            "height": null,
            "justify_content": null,
            "justify_items": null,
            "left": null,
            "margin": null,
            "max_height": null,
            "max_width": null,
            "min_height": null,
            "min_width": null,
            "object_fit": null,
            "object_position": null,
            "order": null,
            "overflow": null,
            "overflow_x": null,
            "overflow_y": null,
            "padding": null,
            "right": null,
            "top": null,
            "visibility": null,
            "width": null
          }
        },
        "55d81df14cee4129911f4f1563d4a027": {
          "model_module": "@jupyter-widgets/base",
          "model_name": "LayoutModel",
          "model_module_version": "1.2.0",
          "state": {
            "_model_module": "@jupyter-widgets/base",
            "_model_module_version": "1.2.0",
            "_model_name": "LayoutModel",
            "_view_count": null,
            "_view_module": "@jupyter-widgets/base",
            "_view_module_version": "1.2.0",
            "_view_name": "LayoutView",
            "align_content": null,
            "align_items": null,
            "align_self": null,
            "border": null,
            "bottom": null,
            "display": null,
            "flex": null,
            "flex_flow": null,
            "grid_area": null,
            "grid_auto_columns": null,
            "grid_auto_flow": null,
            "grid_auto_rows": null,
            "grid_column": null,
            "grid_gap": null,
            "grid_row": null,
            "grid_template_areas": null,
            "grid_template_columns": null,
            "grid_template_rows": null,
            "height": null,
            "justify_content": null,
            "justify_items": null,
            "left": null,
            "margin": null,
            "max_height": null,
            "max_width": null,
            "min_height": null,
            "min_width": null,
            "object_fit": null,
            "object_position": null,
            "order": null,
            "overflow": null,
            "overflow_x": null,
            "overflow_y": null,
            "padding": null,
            "right": null,
            "top": null,
            "visibility": null,
            "width": null
          }
        },
        "810a9299ebe14ef5a3469fb4b218b7a6": {
          "model_module": "@jupyter-widgets/controls",
          "model_name": "DescriptionStyleModel",
          "model_module_version": "1.5.0",
          "state": {
            "_model_module": "@jupyter-widgets/controls",
            "_model_module_version": "1.5.0",
            "_model_name": "DescriptionStyleModel",
            "_view_count": null,
            "_view_module": "@jupyter-widgets/base",
            "_view_module_version": "1.2.0",
            "_view_name": "StyleView",
            "description_width": ""
          }
        },
        "3a8345123805481c93ad9a7b507b0050": {
          "model_module": "@jupyter-widgets/base",
          "model_name": "LayoutModel",
          "model_module_version": "1.2.0",
          "state": {
            "_model_module": "@jupyter-widgets/base",
            "_model_module_version": "1.2.0",
            "_model_name": "LayoutModel",
            "_view_count": null,
            "_view_module": "@jupyter-widgets/base",
            "_view_module_version": "1.2.0",
            "_view_name": "LayoutView",
            "align_content": null,
            "align_items": null,
            "align_self": null,
            "border": null,
            "bottom": null,
            "display": null,
            "flex": null,
            "flex_flow": null,
            "grid_area": null,
            "grid_auto_columns": null,
            "grid_auto_flow": null,
            "grid_auto_rows": null,
            "grid_column": null,
            "grid_gap": null,
            "grid_row": null,
            "grid_template_areas": null,
            "grid_template_columns": null,
            "grid_template_rows": null,
            "height": null,
            "justify_content": null,
            "justify_items": null,
            "left": null,
            "margin": null,
            "max_height": null,
            "max_width": null,
            "min_height": null,
            "min_width": null,
            "object_fit": null,
            "object_position": null,
            "order": null,
            "overflow": null,
            "overflow_x": null,
            "overflow_y": null,
            "padding": null,
            "right": null,
            "top": null,
            "visibility": null,
            "width": null
          }
        },
        "9c2f2e5fa36a49a19eb57d825a72938a": {
          "model_module": "@jupyter-widgets/controls",
          "model_name": "ProgressStyleModel",
          "model_module_version": "1.5.0",
          "state": {
            "_model_module": "@jupyter-widgets/controls",
            "_model_module_version": "1.5.0",
            "_model_name": "ProgressStyleModel",
            "_view_count": null,
            "_view_module": "@jupyter-widgets/base",
            "_view_module_version": "1.2.0",
            "_view_name": "StyleView",
            "bar_color": null,
            "description_width": ""
          }
        },
        "dba516e635304ea5b4701edfb2450386": {
          "model_module": "@jupyter-widgets/base",
          "model_name": "LayoutModel",
          "model_module_version": "1.2.0",
          "state": {
            "_model_module": "@jupyter-widgets/base",
            "_model_module_version": "1.2.0",
            "_model_name": "LayoutModel",
            "_view_count": null,
            "_view_module": "@jupyter-widgets/base",
            "_view_module_version": "1.2.0",
            "_view_name": "LayoutView",
            "align_content": null,
            "align_items": null,
            "align_self": null,
            "border": null,
            "bottom": null,
            "display": null,
            "flex": null,
            "flex_flow": null,
            "grid_area": null,
            "grid_auto_columns": null,
            "grid_auto_flow": null,
            "grid_auto_rows": null,
            "grid_column": null,
            "grid_gap": null,
            "grid_row": null,
            "grid_template_areas": null,
            "grid_template_columns": null,
            "grid_template_rows": null,
            "height": null,
            "justify_content": null,
            "justify_items": null,
            "left": null,
            "margin": null,
            "max_height": null,
            "max_width": null,
            "min_height": null,
            "min_width": null,
            "object_fit": null,
            "object_position": null,
            "order": null,
            "overflow": null,
            "overflow_x": null,
            "overflow_y": null,
            "padding": null,
            "right": null,
            "top": null,
            "visibility": null,
            "width": null
          }
        },
        "f6ab86c866564f6291323fa9ab00be1a": {
          "model_module": "@jupyter-widgets/controls",
          "model_name": "DescriptionStyleModel",
          "model_module_version": "1.5.0",
          "state": {
            "_model_module": "@jupyter-widgets/controls",
            "_model_module_version": "1.5.0",
            "_model_name": "DescriptionStyleModel",
            "_view_count": null,
            "_view_module": "@jupyter-widgets/base",
            "_view_module_version": "1.2.0",
            "_view_name": "StyleView",
            "description_width": ""
          }
        },
        "e82a8b25c42e468385399c4c77a2113b": {
          "model_module": "@jupyter-widgets/controls",
          "model_name": "HBoxModel",
          "model_module_version": "1.5.0",
          "state": {
            "_dom_classes": [],
            "_model_module": "@jupyter-widgets/controls",
            "_model_module_version": "1.5.0",
            "_model_name": "HBoxModel",
            "_view_count": null,
            "_view_module": "@jupyter-widgets/controls",
            "_view_module_version": "1.5.0",
            "_view_name": "HBoxView",
            "box_style": "",
            "children": [
              "IPY_MODEL_87a06717365b455eb6cd0acac49f2038",
              "IPY_MODEL_95fcb19bda464b0ea0331a714fae3ac9",
              "IPY_MODEL_97037c1c022a4d558acffc439fe2306a"
            ],
            "layout": "IPY_MODEL_ad74df64bd7148c8bec28fd450a05296"
          }
        },
        "87a06717365b455eb6cd0acac49f2038": {
          "model_module": "@jupyter-widgets/controls",
          "model_name": "HTMLModel",
          "model_module_version": "1.5.0",
          "state": {
            "_dom_classes": [],
            "_model_module": "@jupyter-widgets/controls",
            "_model_module_version": "1.5.0",
            "_model_name": "HTMLModel",
            "_view_count": null,
            "_view_module": "@jupyter-widgets/controls",
            "_view_module_version": "1.5.0",
            "_view_name": "HTMLView",
            "description": "",
            "description_tooltip": null,
            "layout": "IPY_MODEL_d3e6bc9de8be4b0db3924a21cd67f11e",
            "placeholder": "​",
            "style": "IPY_MODEL_620e125d16bb46638f5bac6f8ff3ea14",
            "value": "Saving the dataset (2/2 shards): 100%"
          }
        },
        "95fcb19bda464b0ea0331a714fae3ac9": {
          "model_module": "@jupyter-widgets/controls",
          "model_name": "FloatProgressModel",
          "model_module_version": "1.5.0",
          "state": {
            "_dom_classes": [],
            "_model_module": "@jupyter-widgets/controls",
            "_model_module_version": "1.5.0",
            "_model_name": "FloatProgressModel",
            "_view_count": null,
            "_view_module": "@jupyter-widgets/controls",
            "_view_module_version": "1.5.0",
            "_view_name": "ProgressView",
            "bar_style": "success",
            "description": "",
            "description_tooltip": null,
            "layout": "IPY_MODEL_903d1532e3904d9498f259fc8c339183",
            "max": 380110,
            "min": 0,
            "orientation": "horizontal",
            "style": "IPY_MODEL_68ca4c1ebbba491e9818446a296ea59f",
            "value": 380110
          }
        },
        "97037c1c022a4d558acffc439fe2306a": {
          "model_module": "@jupyter-widgets/controls",
          "model_name": "HTMLModel",
          "model_module_version": "1.5.0",
          "state": {
            "_dom_classes": [],
            "_model_module": "@jupyter-widgets/controls",
            "_model_module_version": "1.5.0",
            "_model_name": "HTMLModel",
            "_view_count": null,
            "_view_module": "@jupyter-widgets/controls",
            "_view_module_version": "1.5.0",
            "_view_name": "HTMLView",
            "description": "",
            "description_tooltip": null,
            "layout": "IPY_MODEL_885b60188eaf4f19a4557307eebd6d39",
            "placeholder": "​",
            "style": "IPY_MODEL_db021f9e3f714faf8e1dba4669972472",
            "value": " 380110/380110 [00:06&lt;00:00, 132872.96 examples/s]"
          }
        },
        "ad74df64bd7148c8bec28fd450a05296": {
          "model_module": "@jupyter-widgets/base",
          "model_name": "LayoutModel",
          "model_module_version": "1.2.0",
          "state": {
            "_model_module": "@jupyter-widgets/base",
            "_model_module_version": "1.2.0",
            "_model_name": "LayoutModel",
            "_view_count": null,
            "_view_module": "@jupyter-widgets/base",
            "_view_module_version": "1.2.0",
            "_view_name": "LayoutView",
            "align_content": null,
            "align_items": null,
            "align_self": null,
            "border": null,
            "bottom": null,
            "display": null,
            "flex": null,
            "flex_flow": null,
            "grid_area": null,
            "grid_auto_columns": null,
            "grid_auto_flow": null,
            "grid_auto_rows": null,
            "grid_column": null,
            "grid_gap": null,
            "grid_row": null,
            "grid_template_areas": null,
            "grid_template_columns": null,
            "grid_template_rows": null,
            "height": null,
            "justify_content": null,
            "justify_items": null,
            "left": null,
            "margin": null,
            "max_height": null,
            "max_width": null,
            "min_height": null,
            "min_width": null,
            "object_fit": null,
            "object_position": null,
            "order": null,
            "overflow": null,
            "overflow_x": null,
            "overflow_y": null,
            "padding": null,
            "right": null,
            "top": null,
            "visibility": null,
            "width": null
          }
        },
        "d3e6bc9de8be4b0db3924a21cd67f11e": {
          "model_module": "@jupyter-widgets/base",
          "model_name": "LayoutModel",
          "model_module_version": "1.2.0",
          "state": {
            "_model_module": "@jupyter-widgets/base",
            "_model_module_version": "1.2.0",
            "_model_name": "LayoutModel",
            "_view_count": null,
            "_view_module": "@jupyter-widgets/base",
            "_view_module_version": "1.2.0",
            "_view_name": "LayoutView",
            "align_content": null,
            "align_items": null,
            "align_self": null,
            "border": null,
            "bottom": null,
            "display": null,
            "flex": null,
            "flex_flow": null,
            "grid_area": null,
            "grid_auto_columns": null,
            "grid_auto_flow": null,
            "grid_auto_rows": null,
            "grid_column": null,
            "grid_gap": null,
            "grid_row": null,
            "grid_template_areas": null,
            "grid_template_columns": null,
            "grid_template_rows": null,
            "height": null,
            "justify_content": null,
            "justify_items": null,
            "left": null,
            "margin": null,
            "max_height": null,
            "max_width": null,
            "min_height": null,
            "min_width": null,
            "object_fit": null,
            "object_position": null,
            "order": null,
            "overflow": null,
            "overflow_x": null,
            "overflow_y": null,
            "padding": null,
            "right": null,
            "top": null,
            "visibility": null,
            "width": null
          }
        },
        "620e125d16bb46638f5bac6f8ff3ea14": {
          "model_module": "@jupyter-widgets/controls",
          "model_name": "DescriptionStyleModel",
          "model_module_version": "1.5.0",
          "state": {
            "_model_module": "@jupyter-widgets/controls",
            "_model_module_version": "1.5.0",
            "_model_name": "DescriptionStyleModel",
            "_view_count": null,
            "_view_module": "@jupyter-widgets/base",
            "_view_module_version": "1.2.0",
            "_view_name": "StyleView",
            "description_width": ""
          }
        },
        "903d1532e3904d9498f259fc8c339183": {
          "model_module": "@jupyter-widgets/base",
          "model_name": "LayoutModel",
          "model_module_version": "1.2.0",
          "state": {
            "_model_module": "@jupyter-widgets/base",
            "_model_module_version": "1.2.0",
            "_model_name": "LayoutModel",
            "_view_count": null,
            "_view_module": "@jupyter-widgets/base",
            "_view_module_version": "1.2.0",
            "_view_name": "LayoutView",
            "align_content": null,
            "align_items": null,
            "align_self": null,
            "border": null,
            "bottom": null,
            "display": null,
            "flex": null,
            "flex_flow": null,
            "grid_area": null,
            "grid_auto_columns": null,
            "grid_auto_flow": null,
            "grid_auto_rows": null,
            "grid_column": null,
            "grid_gap": null,
            "grid_row": null,
            "grid_template_areas": null,
            "grid_template_columns": null,
            "grid_template_rows": null,
            "height": null,
            "justify_content": null,
            "justify_items": null,
            "left": null,
            "margin": null,
            "max_height": null,
            "max_width": null,
            "min_height": null,
            "min_width": null,
            "object_fit": null,
            "object_position": null,
            "order": null,
            "overflow": null,
            "overflow_x": null,
            "overflow_y": null,
            "padding": null,
            "right": null,
            "top": null,
            "visibility": null,
            "width": null
          }
        },
        "68ca4c1ebbba491e9818446a296ea59f": {
          "model_module": "@jupyter-widgets/controls",
          "model_name": "ProgressStyleModel",
          "model_module_version": "1.5.0",
          "state": {
            "_model_module": "@jupyter-widgets/controls",
            "_model_module_version": "1.5.0",
            "_model_name": "ProgressStyleModel",
            "_view_count": null,
            "_view_module": "@jupyter-widgets/base",
            "_view_module_version": "1.2.0",
            "_view_name": "StyleView",
            "bar_color": null,
            "description_width": ""
          }
        },
        "885b60188eaf4f19a4557307eebd6d39": {
          "model_module": "@jupyter-widgets/base",
          "model_name": "LayoutModel",
          "model_module_version": "1.2.0",
          "state": {
            "_model_module": "@jupyter-widgets/base",
            "_model_module_version": "1.2.0",
            "_model_name": "LayoutModel",
            "_view_count": null,
            "_view_module": "@jupyter-widgets/base",
            "_view_module_version": "1.2.0",
            "_view_name": "LayoutView",
            "align_content": null,
            "align_items": null,
            "align_self": null,
            "border": null,
            "bottom": null,
            "display": null,
            "flex": null,
            "flex_flow": null,
            "grid_area": null,
            "grid_auto_columns": null,
            "grid_auto_flow": null,
            "grid_auto_rows": null,
            "grid_column": null,
            "grid_gap": null,
            "grid_row": null,
            "grid_template_areas": null,
            "grid_template_columns": null,
            "grid_template_rows": null,
            "height": null,
            "justify_content": null,
            "justify_items": null,
            "left": null,
            "margin": null,
            "max_height": null,
            "max_width": null,
            "min_height": null,
            "min_width": null,
            "object_fit": null,
            "object_position": null,
            "order": null,
            "overflow": null,
            "overflow_x": null,
            "overflow_y": null,
            "padding": null,
            "right": null,
            "top": null,
            "visibility": null,
            "width": null
          }
        },
        "db021f9e3f714faf8e1dba4669972472": {
          "model_module": "@jupyter-widgets/controls",
          "model_name": "DescriptionStyleModel",
          "model_module_version": "1.5.0",
          "state": {
            "_model_module": "@jupyter-widgets/controls",
            "_model_module_version": "1.5.0",
            "_model_name": "DescriptionStyleModel",
            "_view_count": null,
            "_view_module": "@jupyter-widgets/base",
            "_view_module_version": "1.2.0",
            "_view_name": "StyleView",
            "description_width": ""
          }
        },
        "53af26289db8402a8101543a73c66339": {
          "model_module": "@jupyter-widgets/controls",
          "model_name": "HBoxModel",
          "model_module_version": "1.5.0",
          "state": {
            "_dom_classes": [],
            "_model_module": "@jupyter-widgets/controls",
            "_model_module_version": "1.5.0",
            "_model_name": "HBoxModel",
            "_view_count": null,
            "_view_module": "@jupyter-widgets/controls",
            "_view_module_version": "1.5.0",
            "_view_name": "HBoxView",
            "box_style": "",
            "children": [
              "IPY_MODEL_d336c4e9e9e24b0ba74713db6e1a76a0",
              "IPY_MODEL_29dc06f98dbe4e18854e95d652c27b0b",
              "IPY_MODEL_f72a4f4ca1124299973b115732ace698"
            ],
            "layout": "IPY_MODEL_72c4989bcc0f420e9299b966699d4c41"
          }
        },
        "d336c4e9e9e24b0ba74713db6e1a76a0": {
          "model_module": "@jupyter-widgets/controls",
          "model_name": "HTMLModel",
          "model_module_version": "1.5.0",
          "state": {
            "_dom_classes": [],
            "_model_module": "@jupyter-widgets/controls",
            "_model_module_version": "1.5.0",
            "_model_name": "HTMLModel",
            "_view_count": null,
            "_view_module": "@jupyter-widgets/controls",
            "_view_module_version": "1.5.0",
            "_view_name": "HTMLView",
            "description": "",
            "description_tooltip": null,
            "layout": "IPY_MODEL_d23de6ea8ac848f284e8d7e0f208c4c2",
            "placeholder": "​",
            "style": "IPY_MODEL_d93dd531f7fc4996aa8669c2f70817b8",
            "value": "Saving the dataset (1/1 shards): 100%"
          }
        },
        "29dc06f98dbe4e18854e95d652c27b0b": {
          "model_module": "@jupyter-widgets/controls",
          "model_name": "FloatProgressModel",
          "model_module_version": "1.5.0",
          "state": {
            "_dom_classes": [],
            "_model_module": "@jupyter-widgets/controls",
            "_model_module_version": "1.5.0",
            "_model_name": "FloatProgressModel",
            "_view_count": null,
            "_view_module": "@jupyter-widgets/controls",
            "_view_module_version": "1.5.0",
            "_view_name": "ProgressView",
            "bar_style": "success",
            "description": "",
            "description_tooltip": null,
            "layout": "IPY_MODEL_5e3dbf5746ae47f9800a1eba07c5c6f6",
            "max": 190,
            "min": 0,
            "orientation": "horizontal",
            "style": "IPY_MODEL_3014b34f1c284e51a21e1834f6fcc413",
            "value": 190
          }
        },
        "f72a4f4ca1124299973b115732ace698": {
          "model_module": "@jupyter-widgets/controls",
          "model_name": "HTMLModel",
          "model_module_version": "1.5.0",
          "state": {
            "_dom_classes": [],
            "_model_module": "@jupyter-widgets/controls",
            "_model_module_version": "1.5.0",
            "_model_name": "HTMLModel",
            "_view_count": null,
            "_view_module": "@jupyter-widgets/controls",
            "_view_module_version": "1.5.0",
            "_view_name": "HTMLView",
            "description": "",
            "description_tooltip": null,
            "layout": "IPY_MODEL_296968a5a1ae4a638483ca11f2b25612",
            "placeholder": "​",
            "style": "IPY_MODEL_c549443b3ef14b3897eb99d9146c975d",
            "value": " 190/190 [00:00&lt;00:00, 6434.80 examples/s]"
          }
        },
        "72c4989bcc0f420e9299b966699d4c41": {
          "model_module": "@jupyter-widgets/base",
          "model_name": "LayoutModel",
          "model_module_version": "1.2.0",
          "state": {
            "_model_module": "@jupyter-widgets/base",
            "_model_module_version": "1.2.0",
            "_model_name": "LayoutModel",
            "_view_count": null,
            "_view_module": "@jupyter-widgets/base",
            "_view_module_version": "1.2.0",
            "_view_name": "LayoutView",
            "align_content": null,
            "align_items": null,
            "align_self": null,
            "border": null,
            "bottom": null,
            "display": null,
            "flex": null,
            "flex_flow": null,
            "grid_area": null,
            "grid_auto_columns": null,
            "grid_auto_flow": null,
            "grid_auto_rows": null,
            "grid_column": null,
            "grid_gap": null,
            "grid_row": null,
            "grid_template_areas": null,
            "grid_template_columns": null,
            "grid_template_rows": null,
            "height": null,
            "justify_content": null,
            "justify_items": null,
            "left": null,
            "margin": null,
            "max_height": null,
            "max_width": null,
            "min_height": null,
            "min_width": null,
            "object_fit": null,
            "object_position": null,
            "order": null,
            "overflow": null,
            "overflow_x": null,
            "overflow_y": null,
            "padding": null,
            "right": null,
            "top": null,
            "visibility": null,
            "width": null
          }
        },
        "d23de6ea8ac848f284e8d7e0f208c4c2": {
          "model_module": "@jupyter-widgets/base",
          "model_name": "LayoutModel",
          "model_module_version": "1.2.0",
          "state": {
            "_model_module": "@jupyter-widgets/base",
            "_model_module_version": "1.2.0",
            "_model_name": "LayoutModel",
            "_view_count": null,
            "_view_module": "@jupyter-widgets/base",
            "_view_module_version": "1.2.0",
            "_view_name": "LayoutView",
            "align_content": null,
            "align_items": null,
            "align_self": null,
            "border": null,
            "bottom": null,
            "display": null,
            "flex": null,
            "flex_flow": null,
            "grid_area": null,
            "grid_auto_columns": null,
            "grid_auto_flow": null,
            "grid_auto_rows": null,
            "grid_column": null,
            "grid_gap": null,
            "grid_row": null,
            "grid_template_areas": null,
            "grid_template_columns": null,
            "grid_template_rows": null,
            "height": null,
            "justify_content": null,
            "justify_items": null,
            "left": null,
            "margin": null,
            "max_height": null,
            "max_width": null,
            "min_height": null,
            "min_width": null,
            "object_fit": null,
            "object_position": null,
            "order": null,
            "overflow": null,
            "overflow_x": null,
            "overflow_y": null,
            "padding": null,
            "right": null,
            "top": null,
            "visibility": null,
            "width": null
          }
        },
        "d93dd531f7fc4996aa8669c2f70817b8": {
          "model_module": "@jupyter-widgets/controls",
          "model_name": "DescriptionStyleModel",
          "model_module_version": "1.5.0",
          "state": {
            "_model_module": "@jupyter-widgets/controls",
            "_model_module_version": "1.5.0",
            "_model_name": "DescriptionStyleModel",
            "_view_count": null,
            "_view_module": "@jupyter-widgets/base",
            "_view_module_version": "1.2.0",
            "_view_name": "StyleView",
            "description_width": ""
          }
        },
        "5e3dbf5746ae47f9800a1eba07c5c6f6": {
          "model_module": "@jupyter-widgets/base",
          "model_name": "LayoutModel",
          "model_module_version": "1.2.0",
          "state": {
            "_model_module": "@jupyter-widgets/base",
            "_model_module_version": "1.2.0",
            "_model_name": "LayoutModel",
            "_view_count": null,
            "_view_module": "@jupyter-widgets/base",
            "_view_module_version": "1.2.0",
            "_view_name": "LayoutView",
            "align_content": null,
            "align_items": null,
            "align_self": null,
            "border": null,
            "bottom": null,
            "display": null,
            "flex": null,
            "flex_flow": null,
            "grid_area": null,
            "grid_auto_columns": null,
            "grid_auto_flow": null,
            "grid_auto_rows": null,
            "grid_column": null,
            "grid_gap": null,
            "grid_row": null,
            "grid_template_areas": null,
            "grid_template_columns": null,
            "grid_template_rows": null,
            "height": null,
            "justify_content": null,
            "justify_items": null,
            "left": null,
            "margin": null,
            "max_height": null,
            "max_width": null,
            "min_height": null,
            "min_width": null,
            "object_fit": null,
            "object_position": null,
            "order": null,
            "overflow": null,
            "overflow_x": null,
            "overflow_y": null,
            "padding": null,
            "right": null,
            "top": null,
            "visibility": null,
            "width": null
          }
        },
        "3014b34f1c284e51a21e1834f6fcc413": {
          "model_module": "@jupyter-widgets/controls",
          "model_name": "ProgressStyleModel",
          "model_module_version": "1.5.0",
          "state": {
            "_model_module": "@jupyter-widgets/controls",
            "_model_module_version": "1.5.0",
            "_model_name": "ProgressStyleModel",
            "_view_count": null,
            "_view_module": "@jupyter-widgets/base",
            "_view_module_version": "1.2.0",
            "_view_name": "StyleView",
            "bar_color": null,
            "description_width": ""
          }
        },
        "296968a5a1ae4a638483ca11f2b25612": {
          "model_module": "@jupyter-widgets/base",
          "model_name": "LayoutModel",
          "model_module_version": "1.2.0",
          "state": {
            "_model_module": "@jupyter-widgets/base",
            "_model_module_version": "1.2.0",
            "_model_name": "LayoutModel",
            "_view_count": null,
            "_view_module": "@jupyter-widgets/base",
            "_view_module_version": "1.2.0",
            "_view_name": "LayoutView",
            "align_content": null,
            "align_items": null,
            "align_self": null,
            "border": null,
            "bottom": null,
            "display": null,
            "flex": null,
            "flex_flow": null,
            "grid_area": null,
            "grid_auto_columns": null,
            "grid_auto_flow": null,
            "grid_auto_rows": null,
            "grid_column": null,
            "grid_gap": null,
            "grid_row": null,
            "grid_template_areas": null,
            "grid_template_columns": null,
            "grid_template_rows": null,
            "height": null,
            "justify_content": null,
            "justify_items": null,
            "left": null,
            "margin": null,
            "max_height": null,
            "max_width": null,
            "min_height": null,
            "min_width": null,
            "object_fit": null,
            "object_position": null,
            "order": null,
            "overflow": null,
            "overflow_x": null,
            "overflow_y": null,
            "padding": null,
            "right": null,
            "top": null,
            "visibility": null,
            "width": null
          }
        },
        "c549443b3ef14b3897eb99d9146c975d": {
          "model_module": "@jupyter-widgets/controls",
          "model_name": "DescriptionStyleModel",
          "model_module_version": "1.5.0",
          "state": {
            "_model_module": "@jupyter-widgets/controls",
            "_model_module_version": "1.5.0",
            "_model_name": "DescriptionStyleModel",
            "_view_count": null,
            "_view_module": "@jupyter-widgets/base",
            "_view_module_version": "1.2.0",
            "_view_name": "StyleView",
            "description_width": ""
          }
        }
      }
    }
  },
  "nbformat": 4,
  "nbformat_minor": 5
}